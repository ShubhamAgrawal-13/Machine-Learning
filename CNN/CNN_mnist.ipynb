{
 "cells": [
  {
   "cell_type": "code",
   "execution_count": 1,
   "metadata": {
    "colab": {
     "base_uri": "https://localhost:8080/",
     "height": 34
    },
    "colab_type": "code",
    "id": "SvrfO6JUiolY",
    "outputId": "9e848eac-571d-4bfd-8ad3-731fc926720a"
   },
   "outputs": [
    {
     "name": "stdout",
     "output_type": "stream",
     "text": [
      "Drive already mounted at /content/drive; to attempt to forcibly remount, call drive.mount(\"/content/drive\", force_remount=True).\n"
     ]
    }
   ],
   "source": [
    "from google.colab import drive\n",
    "drive.mount('/content/drive')"
   ]
  },
  {
   "cell_type": "markdown",
   "metadata": {
    "colab_type": "text",
    "id": "Vsj8WJhqhflB"
   },
   "source": [
    "# Question 3 : MNIST Classification\n",
    "\n",
    "It is the dataset of hand written digits images collected by NIST.\n",
    "\n",
    "\n",
    "\n",
    "Importing the libraries"
   ]
  },
  {
   "cell_type": "code",
   "execution_count": 0,
   "metadata": {
    "colab": {},
    "colab_type": "code",
    "id": "wYM6HUFmiuOf"
   },
   "outputs": [],
   "source": [
    "import numpy as np\n",
    "import pandas as pd\n",
    "import matplotlib.pyplot as plt\n",
    "from sklearn import metrics\n",
    "import cv2\n",
    "import os\n",
    "import gzip\n",
    "import shutil\n",
    "import codecs"
   ]
  },
  {
   "cell_type": "markdown",
   "metadata": {
    "colab_type": "text",
    "id": "DC9M0VhHhwEQ"
   },
   "source": [
    "### Getting the dataset path and getting the names of the images"
   ]
  },
  {
   "cell_type": "code",
   "execution_count": 0,
   "metadata": {
    "colab": {},
    "colab_type": "code",
    "id": "HB9OODzXi_jT"
   },
   "outputs": [],
   "source": [
    "path='/content/drive/My Drive/A3Q3/'\n",
    "files = os.listdir(path)"
   ]
  },
  {
   "cell_type": "code",
   "execution_count": 4,
   "metadata": {
    "colab": {
     "base_uri": "https://localhost:8080/",
     "height": 86
    },
    "colab_type": "code",
    "id": "JgtWS55HjCSu",
    "outputId": "f5a5f609-ab01-42ef-a7a3-f7aebc0d5c85"
   },
   "outputs": [
    {
     "data": {
      "text/plain": [
       "['train-labels-idx1-ubyte',\n",
       " 't10k-labels-idx1-ubyte',\n",
       " 'train-images-idx3-ubyte',\n",
       " 't10k-images-idx3-ubyte']"
      ]
     },
     "execution_count": 4,
     "metadata": {
      "tags": []
     },
     "output_type": "execute_result"
    }
   ],
   "source": [
    "files"
   ]
  },
  {
   "cell_type": "markdown",
   "metadata": {
    "colab_type": "text",
    "id": "jTS2tTbCiEuT"
   },
   "source": [
    "\n",
    "### **Extracting the images for the binary file**\n",
    "\n",
    "<pre>\n",
    "for file in files:\n",
    "    if file.endswith('gz'):\n",
    "        print('Extracting ',file)\n",
    "        with gzip.open(datapath+file, 'rb') as f_in:\n",
    "            with open(datapath+file.split('.')[0], 'wb') as f_out:\n",
    "                shutil.copyfileobj(f_in, f_out)\n",
    "print('Extraction Complete')<pre>"
   ]
  },
  {
   "cell_type": "markdown",
   "metadata": {
    "colab_type": "text",
    "id": "ig7RDu7giAu8"
   },
   "source": [
    "### function to convert the 32 bit (4 bytes) into integer"
   ]
  },
  {
   "cell_type": "code",
   "execution_count": 0,
   "metadata": {
    "colab": {},
    "colab_type": "code",
    "id": "99LYMXK3jFOg"
   },
   "outputs": [],
   "source": [
    "def get_int(b):\n",
    "    return int(codecs.encode(b, 'hex'), 16)"
   ]
  },
  {
   "cell_type": "markdown",
   "metadata": {
    "colab_type": "text",
    "id": "LCFkvl7UiY-q"
   },
   "source": [
    "### Creating the dataset by parsing the files\n",
    "\n",
    "\n",
    "### 1. First searching for the files which ends with ubyte\n",
    "### 2. open each file in rb mode.\n",
    "### 3. reading first 4 bytes (0-3) of it\n",
    "    \n",
    "###    a. if it is 2051 : then \n",
    "        it contains images\n",
    "        1. read next 4 bytes(4-7) : No. of images\n",
    "        2. read next 4 bytes(8-11) : No. of rows\n",
    "        3. read next 4 bytes(8-11) : No. of columns\n",
    "        4. read remaining (from 16 to end of file) that contain the images into buffer\n",
    "        5. reshape the buffer by np.reshape(No. of images, No. of rows, No. of columns)\n",
    "        \n",
    "        \n",
    "###    b. if it is 2049: then \n",
    "        it contains labels\n",
    "        1. read next 4 bytes(4-7) : No. of labels\n",
    "        2. read remaining (from 8 to end of file) that contain the labels into buffer\n",
    "        3. reshape the buffer by np.reshape(No. of labels)\n"
   ]
  },
  {
   "cell_type": "code",
   "execution_count": 6,
   "metadata": {
    "colab": {
     "base_uri": "https://localhost:8080/",
     "height": 156
    },
    "colab_type": "code",
    "id": "S65HChJ7jM2p",
    "outputId": "28fb5f48-2169-4a6a-c0fa-3913a1a67f05"
   },
   "outputs": [
    {
     "name": "stdout",
     "output_type": "stream",
     "text": [
      "60000\n",
      "(60000,)\n",
      "10000\n",
      "(10000,)\n",
      "47040000\n",
      "(60000, 28, 28)\n",
      "7840000\n",
      "(10000, 28, 28)\n"
     ]
    }
   ],
   "source": [
    "data_dict = {}\n",
    "\n",
    "for file in files:\n",
    "    #print(file[-5:])\n",
    "    if file[-5:]=='ubyte': \n",
    "        #print(file)\n",
    "        \n",
    "        f=open(path+file,'rb')\n",
    "        data = f.read()\n",
    "        \n",
    "        \n",
    "        type_of_data = get_int(data[:4])   # MAGIC NUMBER TO WHETHER IMAGE OR LABEL\n",
    "        length = get_int(data[4:8])        # 4-7: LENGTH \n",
    "        \n",
    "        \n",
    "        if (length==10000):\n",
    "                dataset_type = 'test'\n",
    "        elif (length==60000):\n",
    "                dataset_type = 'train'\n",
    "        \n",
    "        \n",
    "        if (type_of_data == 2051):\n",
    "            category = 'images'\n",
    "            num_rows = get_int(data[8:12])  # ROWS  \n",
    "            num_cols = get_int(data[12:16])  # COLUMNS\n",
    "            ds = np.frombuffer(data,dtype = np.uint8, offset = 16)  \n",
    "            print(len(ds))\n",
    "            ds = ds.reshape(length,num_rows,num_cols)\n",
    "            print(ds.shape)\n",
    "        elif(type_of_data == 2049):\n",
    "            category = 'labels'\n",
    "            ds = np.frombuffer(data, dtype=np.uint8, offset=8)\n",
    "            print(len(ds))\n",
    "            ds = ds.reshape(length)\n",
    "            print(ds.shape)\n",
    "            \n",
    "        data_dict[dataset_type+'_'+category] = ds"
   ]
  },
  {
   "cell_type": "code",
   "execution_count": 7,
   "metadata": {
    "colab": {
     "base_uri": "https://localhost:8080/",
     "height": 1000
    },
    "colab_type": "code",
    "id": "3C1MUzBCif0X",
    "outputId": "8635ceaa-0de2-42a6-89fc-d07fe81d357a"
   },
   "outputs": [
    {
     "data": {
      "text/plain": [
       "{'test_images': array([[[0, 0, 0, ..., 0, 0, 0],\n",
       "         [0, 0, 0, ..., 0, 0, 0],\n",
       "         [0, 0, 0, ..., 0, 0, 0],\n",
       "         ...,\n",
       "         [0, 0, 0, ..., 0, 0, 0],\n",
       "         [0, 0, 0, ..., 0, 0, 0],\n",
       "         [0, 0, 0, ..., 0, 0, 0]],\n",
       " \n",
       "        [[0, 0, 0, ..., 0, 0, 0],\n",
       "         [0, 0, 0, ..., 0, 0, 0],\n",
       "         [0, 0, 0, ..., 0, 0, 0],\n",
       "         ...,\n",
       "         [0, 0, 0, ..., 0, 0, 0],\n",
       "         [0, 0, 0, ..., 0, 0, 0],\n",
       "         [0, 0, 0, ..., 0, 0, 0]],\n",
       " \n",
       "        [[0, 0, 0, ..., 0, 0, 0],\n",
       "         [0, 0, 0, ..., 0, 0, 0],\n",
       "         [0, 0, 0, ..., 0, 0, 0],\n",
       "         ...,\n",
       "         [0, 0, 0, ..., 0, 0, 0],\n",
       "         [0, 0, 0, ..., 0, 0, 0],\n",
       "         [0, 0, 0, ..., 0, 0, 0]],\n",
       " \n",
       "        ...,\n",
       " \n",
       "        [[0, 0, 0, ..., 0, 0, 0],\n",
       "         [0, 0, 0, ..., 0, 0, 0],\n",
       "         [0, 0, 0, ..., 0, 0, 0],\n",
       "         ...,\n",
       "         [0, 0, 0, ..., 0, 0, 0],\n",
       "         [0, 0, 0, ..., 0, 0, 0],\n",
       "         [0, 0, 0, ..., 0, 0, 0]],\n",
       " \n",
       "        [[0, 0, 0, ..., 0, 0, 0],\n",
       "         [0, 0, 0, ..., 0, 0, 0],\n",
       "         [0, 0, 0, ..., 0, 0, 0],\n",
       "         ...,\n",
       "         [0, 0, 0, ..., 0, 0, 0],\n",
       "         [0, 0, 0, ..., 0, 0, 0],\n",
       "         [0, 0, 0, ..., 0, 0, 0]],\n",
       " \n",
       "        [[0, 0, 0, ..., 0, 0, 0],\n",
       "         [0, 0, 0, ..., 0, 0, 0],\n",
       "         [0, 0, 0, ..., 0, 0, 0],\n",
       "         ...,\n",
       "         [0, 0, 0, ..., 0, 0, 0],\n",
       "         [0, 0, 0, ..., 0, 0, 0],\n",
       "         [0, 0, 0, ..., 0, 0, 0]]], dtype=uint8),\n",
       " 'test_labels': array([7, 2, 1, ..., 4, 5, 6], dtype=uint8),\n",
       " 'train_images': array([[[0, 0, 0, ..., 0, 0, 0],\n",
       "         [0, 0, 0, ..., 0, 0, 0],\n",
       "         [0, 0, 0, ..., 0, 0, 0],\n",
       "         ...,\n",
       "         [0, 0, 0, ..., 0, 0, 0],\n",
       "         [0, 0, 0, ..., 0, 0, 0],\n",
       "         [0, 0, 0, ..., 0, 0, 0]],\n",
       " \n",
       "        [[0, 0, 0, ..., 0, 0, 0],\n",
       "         [0, 0, 0, ..., 0, 0, 0],\n",
       "         [0, 0, 0, ..., 0, 0, 0],\n",
       "         ...,\n",
       "         [0, 0, 0, ..., 0, 0, 0],\n",
       "         [0, 0, 0, ..., 0, 0, 0],\n",
       "         [0, 0, 0, ..., 0, 0, 0]],\n",
       " \n",
       "        [[0, 0, 0, ..., 0, 0, 0],\n",
       "         [0, 0, 0, ..., 0, 0, 0],\n",
       "         [0, 0, 0, ..., 0, 0, 0],\n",
       "         ...,\n",
       "         [0, 0, 0, ..., 0, 0, 0],\n",
       "         [0, 0, 0, ..., 0, 0, 0],\n",
       "         [0, 0, 0, ..., 0, 0, 0]],\n",
       " \n",
       "        ...,\n",
       " \n",
       "        [[0, 0, 0, ..., 0, 0, 0],\n",
       "         [0, 0, 0, ..., 0, 0, 0],\n",
       "         [0, 0, 0, ..., 0, 0, 0],\n",
       "         ...,\n",
       "         [0, 0, 0, ..., 0, 0, 0],\n",
       "         [0, 0, 0, ..., 0, 0, 0],\n",
       "         [0, 0, 0, ..., 0, 0, 0]],\n",
       " \n",
       "        [[0, 0, 0, ..., 0, 0, 0],\n",
       "         [0, 0, 0, ..., 0, 0, 0],\n",
       "         [0, 0, 0, ..., 0, 0, 0],\n",
       "         ...,\n",
       "         [0, 0, 0, ..., 0, 0, 0],\n",
       "         [0, 0, 0, ..., 0, 0, 0],\n",
       "         [0, 0, 0, ..., 0, 0, 0]],\n",
       " \n",
       "        [[0, 0, 0, ..., 0, 0, 0],\n",
       "         [0, 0, 0, ..., 0, 0, 0],\n",
       "         [0, 0, 0, ..., 0, 0, 0],\n",
       "         ...,\n",
       "         [0, 0, 0, ..., 0, 0, 0],\n",
       "         [0, 0, 0, ..., 0, 0, 0],\n",
       "         [0, 0, 0, ..., 0, 0, 0]]], dtype=uint8),\n",
       " 'train_labels': array([5, 0, 4, ..., 5, 6, 8], dtype=uint8)}"
      ]
     },
     "execution_count": 7,
     "metadata": {
      "tags": []
     },
     "output_type": "execute_result"
    }
   ],
   "source": [
    "data_dict"
   ]
  },
  {
   "cell_type": "code",
   "execution_count": 0,
   "metadata": {
    "colab": {},
    "colab_type": "code",
    "id": "yoMtVZ2BitTE"
   },
   "outputs": [],
   "source": [
    "X_train=data_dict['train_images']\n",
    "X_test=data_dict['test_images']\n",
    "y_train=data_dict['train_labels']\n",
    "y_test=data_dict['test_labels']"
   ]
  },
  {
   "cell_type": "markdown",
   "metadata": {
    "colab_type": "text",
    "id": "roD0_kdri73t"
   },
   "source": [
    "### Understanding the dataset by visualizing it"
   ]
  },
  {
   "cell_type": "code",
   "execution_count": 9,
   "metadata": {
    "colab": {
     "base_uri": "https://localhost:8080/",
     "height": 282
    },
    "colab_type": "code",
    "id": "89V0PlYai3WS",
    "outputId": "d349ba36-139e-453e-80bf-36fead308890"
   },
   "outputs": [
    {
     "name": "stdout",
     "output_type": "stream",
     "text": [
      "label:  0\n"
     ]
    },
    {
     "data": {
      "image/png": "[encoded data removed]",
      "text/plain": [
       "<Figure size 432x288 with 1 Axes>"
      ]
     },
     "metadata": {
      "tags": []
     },
     "output_type": "display_data"
    }
   ],
   "source": [
    "print(\"label: \",y_train[1000])\n",
    "plt.imshow(X_train[1000],cmap='gray')\n",
    "plt.show()"
   ]
  },
  {
   "cell_type": "markdown",
   "metadata": {
    "colab_type": "text",
    "id": "ZXdnZQ5_jBXT"
   },
   "source": [
    "### Another plot in more intitutive way"
   ]
  },
  {
   "cell_type": "code",
   "execution_count": 10,
   "metadata": {
    "colab": {
     "base_uri": "https://localhost:8080/",
     "height": 700
    },
    "colab_type": "code",
    "id": "4r5RSYlji-rs",
    "outputId": "46c93035-a5b6-4bd3-c68c-ea996e378591"
   },
   "outputs": [
    {
     "data": {
      "image/png": "[encoded data removed]",
      "text/plain": [
       "<Figure size 864x864 with 1 Axes>"
      ]
     },
     "metadata": {
      "tags": []
     },
     "output_type": "display_data"
    }
   ],
   "source": [
    "img = np.squeeze(X_train[1])\n",
    "\n",
    "fig = plt.figure(figsize = (12,12)) \n",
    "ax = fig.add_subplot(111)\n",
    "ax.imshow(img, cmap='gray')\n",
    "width, height = img.shape\n",
    "thresh = img.max()/2.5\n",
    "for x in range(width):\n",
    "    for y in range(height):\n",
    "        val = round(img[x][y],2) if img[x][y] !=0 else 0\n",
    "        ax.annotate(str(val), xy=(y,x),\n",
    "                    horizontalalignment='center',\n",
    "                    verticalalignment='center',\n",
    "                    color='white' if img[x][y]<thresh else 'black')"
   ]
  },
  {
   "cell_type": "markdown",
   "metadata": {
    "colab_type": "text",
    "id": "skZG5sqEjHK7"
   },
   "source": [
    "### Counts of digits in the dataset"
   ]
  },
  {
   "cell_type": "code",
   "execution_count": 11,
   "metadata": {
    "colab": {
     "base_uri": "https://localhost:8080/",
     "height": 339
    },
    "colab_type": "code",
    "id": "fOlnKdQfjDfD",
    "outputId": "0c2d8001-e867-4950-b360-b876ba71d5fa"
   },
   "outputs": [
    {
     "name": "stdout",
     "output_type": "stream",
     "text": [
      "(array([0, 1, 2, 3, 4, 5, 6, 7, 8, 9], dtype=uint8), array([5923, 6742, 5958, 6131, 5842, 5421, 5918, 6265, 5851, 5949]))\n"
     ]
    },
    {
     "name": "stderr",
     "output_type": "stream",
     "text": [
      "/usr/local/lib/python3.6/dist-packages/statsmodels/tools/_testing.py:19: FutureWarning: pandas.util.testing is deprecated. Use the functions in the public API at pandas.testing instead.\n",
      "  import pandas.util.testing as tm\n"
     ]
    },
    {
     "data": {
      "image/png": "[encoded data removed]",
      "text/plain": [
       "<Figure size 432x288 with 1 Axes>"
      ]
     },
     "metadata": {
      "tags": []
     },
     "output_type": "display_data"
    }
   ],
   "source": [
    "import seaborn as sns\n",
    "print(np.unique(y_train, return_counts=True))\n",
    "sns.countplot(y_train)\n",
    "plt.show()"
   ]
  },
  {
   "cell_type": "markdown",
   "metadata": {
    "colab_type": "text",
    "id": "CX8hhzhPjM6T"
   },
   "source": [
    "### Reshaping the dataset for applying the algorithm:"
   ]
  },
  {
   "cell_type": "code",
   "execution_count": 0,
   "metadata": {
    "colab": {},
    "colab_type": "code",
    "id": "mmO_Et2bjI8A"
   },
   "outputs": [],
   "source": [
    "X_train = X_train.reshape(60000, 784)\n",
    "X_test = X_test.reshape(10000, 784)\n",
    "X_train = X_train.astype('float32')\n",
    "X_test = X_test.astype('float32')"
   ]
  },
  {
   "cell_type": "markdown",
   "metadata": {
    "colab_type": "text",
    "id": "CO2mldudjRRb"
   },
   "source": [
    "### Normalizing the dataset"
   ]
  },
  {
   "cell_type": "code",
   "execution_count": 0,
   "metadata": {
    "colab": {},
    "colab_type": "code",
    "id": "E4HWCDTTjO6q"
   },
   "outputs": [],
   "source": [
    "X_train /= 255\n",
    "X_test /= 255"
   ]
  },
  {
   "cell_type": "markdown",
   "metadata": {
    "colab_type": "text",
    "id": "xsvbTegLjUGl"
   },
   "source": [
    "### Calculate and Report useful metrics for the model like\n",
    "\n",
    "    1. Accuracy Score\n",
    "    2. Precision\n",
    "    3. Recall \n",
    "    4. F1-Score\n",
    "    5. Confusion matrix\n",
    "    6. Classification report\n",
    "\n",
    "    So for simplicity, I have made the function which calculates all these things and we don't have to write the code again and again."
   ]
  },
  {
   "cell_type": "code",
   "execution_count": 0,
   "metadata": {
    "colab": {},
    "colab_type": "code",
    "id": "VZuCwR9UjS09"
   },
   "outputs": [],
   "source": [
    "from sklearn.metrics import accuracy_score\n",
    "from sklearn.metrics import precision_score\n",
    "from sklearn.metrics import recall_score\n",
    "from sklearn.metrics import f1_score\n",
    "from sklearn.metrics import confusion_matrix\n",
    "from sklearn.metrics import classification_report\n",
    "\n",
    "\n",
    "\n",
    "def calc_report_metrics(testlabels,pred):\n",
    "    cm=confusion_matrix(testlabels,pred)\n",
    "    print('Confusion Matrix : \\n\\n',cm)\n",
    "    print()\n",
    "    accu = accuracy_score(testlabels,pred)\n",
    "    print('Accuracy : ',accu)\n",
    "    print()\n",
    "    precision = precision_score(testlabels,pred,average='macro')\n",
    "    print('Precision : ',precision)\n",
    "    print()\n",
    "    recall = recall_score(testlabels,pred,average='macro')\n",
    "    print('Recall : ',recall)\n",
    "    print()\n",
    "    f1s = f1_score(testlabels,pred,average='macro')\n",
    "    print('F1-Score : ',f1s)\n",
    "    print()\n",
    "    report=classification_report(testlabels,pred)\n",
    "    print('Classification Report : \\n',report)\n",
    "    print()"
   ]
  },
  {
   "attachments": {
    "image.png": {
     "image/png": "[encoded data removed]"
    }
   },
   "cell_type": "markdown",
   "metadata": {
    "colab_type": "text",
    "id": "t6AtSwhLjbgw"
   },
   "source": [
    "## 1. Implementing the MLP(Multi-layer Perceptron model)\n",
    "\n",
    "A multilayer perceptron (MLP) is a class of feedforward artificial neural network (ANN). The term MLP is used ambiguously, sometimes loosely to refer to any feedforward ANN, sometimes strictly to refer to networks composed of multiple layers of perceptrons (with threshold activation).\n",
    "\n",
    "\n",
    "![image.png](attachment:image.png)"
   ]
  },
  {
   "cell_type": "code",
   "execution_count": 15,
   "metadata": {
    "colab": {
     "base_uri": "https://localhost:8080/",
     "height": 34
    },
    "colab_type": "code",
    "id": "4KR5bBKDjYV-",
    "outputId": "ac17b038-8a04-4f72-9633-659e9c5001d4"
   },
   "outputs": [
    {
     "name": "stdout",
     "output_type": "stream",
     "text": [
      "TensorFlow 1.x selected.\n"
     ]
    }
   ],
   "source": [
    "%tensorflow_version 1.x"
   ]
  },
  {
   "cell_type": "code",
   "execution_count": 16,
   "metadata": {
    "colab": {
     "base_uri": "https://localhost:8080/",
     "height": 34
    },
    "colab_type": "code",
    "id": "fHe-QajtlBFl",
    "outputId": "22f4f032-83d1-47df-af3c-d4b6115b7941"
   },
   "outputs": [
    {
     "name": "stderr",
     "output_type": "stream",
     "text": [
      "Using TensorFlow backend.\n"
     ]
    }
   ],
   "source": [
    "from keras.models import Sequential, load_model\n",
    "from keras.layers.core import Dense, Dropout, Activation\n",
    "from keras.utils import np_utils"
   ]
  },
  {
   "cell_type": "markdown",
   "metadata": {
    "colab_type": "text",
    "id": "Fn7fLvNalY0-"
   },
   "source": [
    "### Doing one-hot encoding for the output labels:"
   ]
  },
  {
   "cell_type": "code",
   "execution_count": 17,
   "metadata": {
    "colab": {
     "base_uri": "https://localhost:8080/",
     "height": 34
    },
    "colab_type": "code",
    "id": "XnBFAoAzlBOL",
    "outputId": "e82bc353-e6a6-4574-ecfe-81d2785fb7c0"
   },
   "outputs": [
    {
     "name": "stdout",
     "output_type": "stream",
     "text": [
      "(60000, 10) (10000, 10)\n"
     ]
    }
   ],
   "source": [
    "classes = 10\n",
    "Y_train = np_utils.to_categorical(y_train, classes)\n",
    "Y_test = np_utils.to_categorical(y_test, classes)\n",
    "print(Y_train.shape,Y_test.shape)"
   ]
  },
  {
   "attachments": {
    "image.png": {
     "image/png": "[encoded data removed]"
    }
   },
   "cell_type": "markdown",
   "metadata": {
    "colab_type": "text",
    "id": "SbrwVff6ldE1"
   },
   "source": [
    "### Basic Formula\n",
    "\n",
    "![image.png](attachment:image.png)\n",
    "\n",
    "### In Keras, Backpropogation is done internally."
   ]
  },
  {
   "cell_type": "markdown",
   "metadata": {
    "colab_type": "text",
    "id": "4fonYh5LlhIU"
   },
   "source": [
    "### Implementing the MLP\n",
    "\n",
    "### Here there is input layer, two hidden layer and output layer.\n",
    "   a.) no. of nodes in input layer : 784 <br>\n",
    "   b.) no. of nodes in hidden layer : 512 <br>\n",
    "   c.) no. of nodes in output layer : 10"
   ]
  },
  {
   "cell_type": "code",
   "execution_count": 0,
   "metadata": {
    "colab": {},
    "colab_type": "code",
    "id": "tBUXQP2OlBX4"
   },
   "outputs": [],
   "source": [
    "model = Sequential()\n",
    "model.add(Dense(512, input_shape=(784,)))\n",
    "model.add(Activation('relu'))                            \n",
    "model.add(Dropout(0.2))\n",
    "\n",
    "model.add(Dense(512))\n",
    "model.add(Activation('relu'))\n",
    "model.add(Dropout(0.2))\n",
    "\n",
    "model.add(Dense(10))\n",
    "model.add(Activation('softmax'))"
   ]
  },
  {
   "cell_type": "markdown",
   "metadata": {
    "colab_type": "text",
    "id": "bspIG54NlpKa"
   },
   "source": [
    "### Specifying the loss function and which optimizer to use."
   ]
  },
  {
   "cell_type": "code",
   "execution_count": 0,
   "metadata": {
    "colab": {},
    "colab_type": "code",
    "id": "H8UVG5fRlq60"
   },
   "outputs": [],
   "source": [
    "model.compile(loss='categorical_crossentropy', metrics=['accuracy'], optimizer='adam')"
   ]
  },
  {
   "cell_type": "markdown",
   "metadata": {
    "colab_type": "text",
    "id": "j8OGaZItlx9o"
   },
   "source": [
    "### fitting our model"
   ]
  },
  {
   "cell_type": "code",
   "execution_count": 73,
   "metadata": {
    "colab": {
     "base_uri": "https://localhost:8080/",
     "height": 729
    },
    "colab_type": "code",
    "id": "DuwzZ3bqlvZY",
    "outputId": "02278246-ca09-443c-f8c9-290388172a05"
   },
   "outputs": [
    {
     "name": "stdout",
     "output_type": "stream",
     "text": [
      "Train on 60000 samples, validate on 10000 samples\n",
      "Epoch 1/20\n",
      " - 10s - loss: 0.2536 - acc: 0.9241 - val_loss: 0.1002 - val_acc: 0.9696\n",
      "Epoch 2/20\n",
      " - 10s - loss: 0.1030 - acc: 0.9676 - val_loss: 0.0885 - val_acc: 0.9721\n",
      "Epoch 3/20\n",
      " - 10s - loss: 0.0730 - acc: 0.9774 - val_loss: 0.0694 - val_acc: 0.9777\n",
      "Epoch 4/20\n",
      " - 10s - loss: 0.0575 - acc: 0.9812 - val_loss: 0.0703 - val_acc: 0.9786\n",
      "Epoch 5/20\n",
      " - 10s - loss: 0.0453 - acc: 0.9850 - val_loss: 0.0722 - val_acc: 0.9787\n",
      "Epoch 6/20\n",
      " - 10s - loss: 0.0388 - acc: 0.9872 - val_loss: 0.0622 - val_acc: 0.9822\n",
      "Epoch 7/20\n",
      " - 10s - loss: 0.0361 - acc: 0.9879 - val_loss: 0.0733 - val_acc: 0.9792\n",
      "Epoch 8/20\n",
      " - 10s - loss: 0.0317 - acc: 0.9896 - val_loss: 0.0592 - val_acc: 0.9839\n",
      "Epoch 9/20\n",
      " - 9s - loss: 0.0276 - acc: 0.9911 - val_loss: 0.0604 - val_acc: 0.9833\n",
      "Epoch 10/20\n",
      " - 9s - loss: 0.0256 - acc: 0.9916 - val_loss: 0.0618 - val_acc: 0.9828\n",
      "Epoch 11/20\n",
      " - 9s - loss: 0.0234 - acc: 0.9922 - val_loss: 0.0742 - val_acc: 0.9833\n",
      "Epoch 12/20\n",
      " - 9s - loss: 0.0227 - acc: 0.9920 - val_loss: 0.0666 - val_acc: 0.9832\n",
      "Epoch 13/20\n",
      " - 9s - loss: 0.0192 - acc: 0.9934 - val_loss: 0.0756 - val_acc: 0.9826\n",
      "Epoch 14/20\n",
      " - 9s - loss: 0.0194 - acc: 0.9937 - val_loss: 0.0746 - val_acc: 0.9831\n",
      "Epoch 15/20\n",
      " - 9s - loss: 0.0201 - acc: 0.9933 - val_loss: 0.0734 - val_acc: 0.9829\n",
      "Epoch 16/20\n",
      " - 9s - loss: 0.0171 - acc: 0.9944 - val_loss: 0.0749 - val_acc: 0.9834\n",
      "Epoch 17/20\n",
      " - 9s - loss: 0.0174 - acc: 0.9943 - val_loss: 0.0786 - val_acc: 0.9821\n",
      "Epoch 18/20\n",
      " - 10s - loss: 0.0151 - acc: 0.9952 - val_loss: 0.0844 - val_acc: 0.9835\n",
      "Epoch 19/20\n",
      " - 10s - loss: 0.0183 - acc: 0.9942 - val_loss: 0.0859 - val_acc: 0.9824\n",
      "Epoch 20/20\n",
      " - 9s - loss: 0.0151 - acc: 0.9948 - val_loss: 0.0735 - val_acc: 0.9841\n"
     ]
    }
   ],
   "source": [
    "history = model.fit(X_train, Y_train,batch_size=128, epochs=20,verbose=2,validation_data=(X_test, Y_test))"
   ]
  },
  {
   "cell_type": "code",
   "execution_count": 74,
   "metadata": {
    "colab": {
     "base_uri": "https://localhost:8080/",
     "height": 52
    },
    "colab_type": "code",
    "id": "CpKi4wI7lvlD",
    "outputId": "5706facc-fcf9-422b-f53d-7e2d22da1898"
   },
   "outputs": [
    {
     "name": "stdout",
     "output_type": "stream",
     "text": [
      "Test Loss 0.07352156883126088\n",
      "Test Accuracy 0.9841\n"
     ]
    }
   ],
   "source": [
    "loss_and_metrics = model.evaluate(X_test, Y_test, verbose=2)\n",
    "\n",
    "print(\"Test Loss\", loss_and_metrics[0])\n",
    "print(\"Test Accuracy\", loss_and_metrics[1])"
   ]
  },
  {
   "cell_type": "markdown",
   "metadata": {
    "colab_type": "text",
    "id": "P8x1SdI6ndyw"
   },
   "source": [
    "### Metrics like Confusion matrix , f1-sx=core, precision, recall"
   ]
  },
  {
   "cell_type": "code",
   "execution_count": 75,
   "metadata": {
    "colab": {
     "base_uri": "https://localhost:8080/",
     "height": 712
    },
    "colab_type": "code",
    "id": "hPESdlmyna18",
    "outputId": "2f46a152-4ade-4c6b-fe97-93806648387d",
    "scrolled": false
   },
   "outputs": [
    {
     "name": "stdout",
     "output_type": "stream",
     "text": [
      "Confusion Matrix : \n",
      "\n",
      " [[ 972    1    0    0    1    2    1    2    2    1]\n",
      " [   1 1123    1    0    0    0    2    3    0    2]\n",
      " [   1    2 1014    3    1    0    0    6    2    0]\n",
      " [   0    1    1  994    0   10    0    0    4    5]\n",
      " [   0    0    1    0  967    1    1    0    0    9]\n",
      " [   0    0    0    5    0  871    3    0    2    2]\n",
      " [   3    2    3    0    4    5  951    0    1    1]\n",
      " [   1    1    4    4    1    0    0 1011    3    3]\n",
      " [   1    5    7    4    1    2    0    3  956    4]\n",
      " [   1    0    1    0    7    1    0    3    4  982]]\n",
      "\n",
      "Accuracy :  0.9841\n",
      "\n",
      "Precision :  0.984007953822624\n",
      "\n",
      "Recall :  0.9840143267628505\n",
      "\n",
      "F1-Score :  0.9839989888005866\n",
      "\n",
      "Classification Report : \n",
      "               precision    recall  f1-score   support\n",
      "\n",
      "           0       0.99      0.99      0.99       982\n",
      "           1       0.99      0.99      0.99      1132\n",
      "           2       0.98      0.99      0.98      1029\n",
      "           3       0.98      0.98      0.98      1015\n",
      "           4       0.98      0.99      0.99       979\n",
      "           5       0.98      0.99      0.98       883\n",
      "           6       0.99      0.98      0.99       970\n",
      "           7       0.98      0.98      0.98      1028\n",
      "           8       0.98      0.97      0.98       983\n",
      "           9       0.97      0.98      0.98       999\n",
      "\n",
      "    accuracy                           0.98     10000\n",
      "   macro avg       0.98      0.98      0.98     10000\n",
      "weighted avg       0.98      0.98      0.98     10000\n",
      "\n",
      "\n"
     ]
    }
   ],
   "source": [
    "predicted_classes = model.predict_classes(X_test)\n",
    "calc_report_metrics(predicted_classes,y_test)"
   ]
  },
  {
   "cell_type": "markdown",
   "metadata": {},
   "source": [
    "## See which we predicted correctly and which not"
   ]
  },
  {
   "cell_type": "code",
   "execution_count": 76,
   "metadata": {
    "colab": {
     "base_uri": "https://localhost:8080/",
     "height": 69
    },
    "colab_type": "code",
    "id": "7ABZ-5u7nr1p",
    "outputId": "835b777e-b25e-4c94-a325-623aa28ea0f5"
   },
   "outputs": [
    {
     "name": "stdout",
     "output_type": "stream",
     "text": [
      "\n",
      "9841  classified correctly\n",
      "159  classified incorrectly\n"
     ]
    }
   ],
   "source": [
    "\n",
    "correct_indices = np.nonzero(predicted_classes == y_test)[0]\n",
    "incorrect_indices = np.nonzero(predicted_classes != y_test)[0]\n",
    "print()\n",
    "print(len(correct_indices),\" classified correctly\")\n",
    "print(len(incorrect_indices),\" classified incorrectly\")"
   ]
  },
  {
   "cell_type": "markdown",
   "metadata": {
    "colab_type": "text",
    "id": "zfXoVGK8nvj6"
   },
   "source": [
    "### Plotting the incorrect predictions"
   ]
  },
  {
   "cell_type": "code",
   "execution_count": 77,
   "metadata": {
    "colab": {
     "base_uri": "https://localhost:8080/",
     "height": 420
    },
    "colab_type": "code",
    "id": "J-A_qsClnr8U",
    "outputId": "ef0450d9-3f1a-4b42-a35f-69a04834216c"
   },
   "outputs": [
    {
     "data": {
      "image/png": "[encoded data removed]",
      "text/plain": [
       "<Figure size 504x1008 with 9 Axes>"
      ]
     },
     "metadata": {
      "tags": []
     },
     "output_type": "display_data"
    }
   ],
   "source": [
    "# adapt figure size to accomodate 18 subplots\n",
    "plt.rcParams['figure.figsize'] = (7,14)\n",
    "figure_evaluation = plt.figure()\n",
    "\n",
    "for i, incorrect in enumerate(incorrect_indices[:9]):\n",
    "    plt.subplot(6,3,i+10)\n",
    "    plt.imshow(X_test[incorrect].reshape(28,28), cmap='gray', interpolation='none')\n",
    "    plt.title(\n",
    "      \"Predicted {}, Truth: {}\".format(predicted_classes[incorrect], \n",
    "                                       y_test[incorrect]))\n",
    "    plt.xticks([])\n",
    "    plt.yticks([])\n"
   ]
  },
  {
   "cell_type": "markdown",
   "metadata": {
    "colab_type": "text",
    "id": "OWWnI_Hkn3VX"
   },
   "source": [
    "## For 3 hidden  layer "
   ]
  },
  {
   "cell_type": "code",
   "execution_count": 0,
   "metadata": {
    "colab": {},
    "colab_type": "code",
    "id": "jONLUvo4nr5w"
   },
   "outputs": [],
   "source": [
    "model = Sequential()\n",
    "model.add(Dense(512, input_shape=(784,)))\n",
    "model.add(Activation('relu'))                            \n",
    "model.add(Dropout(0.2))\n",
    "\n",
    "model.add(Dense(512))\n",
    "model.add(Activation('relu'))\n",
    "model.add(Dropout(0.2))\n",
    "\n",
    "model.add(Dense(512))\n",
    "model.add(Activation('relu'))\n",
    "model.add(Dropout(0.2))\n",
    "\n",
    "model.add(Dense(10))\n",
    "model.add(Activation('softmax'))"
   ]
  },
  {
   "cell_type": "code",
   "execution_count": 79,
   "metadata": {
    "colab": {
     "base_uri": "https://localhost:8080/",
     "height": 382
    },
    "colab_type": "code",
    "id": "j-w9h1kuMUwG",
    "outputId": "5658e12a-34ac-4b5b-eee0-d192d796c080"
   },
   "outputs": [
    {
     "name": "stdout",
     "output_type": "stream",
     "text": [
      "Train on 60000 samples, validate on 10000 samples\n",
      "Epoch 1/10\n",
      " - 14s - loss: 0.2558 - acc: 0.9227 - val_loss: 0.0983 - val_acc: 0.9690\n",
      "Epoch 2/10\n",
      " - 13s - loss: 0.1128 - acc: 0.9650 - val_loss: 0.0912 - val_acc: 0.9699\n",
      "Epoch 3/10\n",
      " - 13s - loss: 0.0819 - acc: 0.9748 - val_loss: 0.0756 - val_acc: 0.9777\n",
      "Epoch 4/10\n",
      " - 13s - loss: 0.0684 - acc: 0.9786 - val_loss: 0.0758 - val_acc: 0.9781\n",
      "Epoch 5/10\n",
      " - 13s - loss: 0.0543 - acc: 0.9824 - val_loss: 0.0623 - val_acc: 0.9814\n",
      "Epoch 6/10\n",
      " - 13s - loss: 0.0481 - acc: 0.9844 - val_loss: 0.0617 - val_acc: 0.9807\n",
      "Epoch 7/10\n",
      " - 13s - loss: 0.0401 - acc: 0.9872 - val_loss: 0.0647 - val_acc: 0.9824\n",
      "Epoch 8/10\n",
      " - 13s - loss: 0.0386 - acc: 0.9878 - val_loss: 0.0703 - val_acc: 0.9811\n",
      "Epoch 9/10\n",
      " - 13s - loss: 0.0364 - acc: 0.9888 - val_loss: 0.0707 - val_acc: 0.9816\n",
      "Epoch 10/10\n",
      " - 13s - loss: 0.0335 - acc: 0.9899 - val_loss: 0.0623 - val_acc: 0.9833\n"
     ]
    }
   ],
   "source": [
    "model.compile(loss='categorical_crossentropy', metrics=['accuracy'], optimizer='adam')\n",
    "history = model.fit(X_train, Y_train,batch_size=128, epochs=10,verbose=2,validation_data=(X_test, Y_test))"
   ]
  },
  {
   "cell_type": "code",
   "execution_count": 80,
   "metadata": {
    "colab": {
     "base_uri": "https://localhost:8080/",
     "height": 52
    },
    "colab_type": "code",
    "id": "EkDoMaxYMUtu",
    "outputId": "37af92de-b548-4493-a17a-0a172eecc9c4"
   },
   "outputs": [
    {
     "name": "stdout",
     "output_type": "stream",
     "text": [
      "Test Loss 0.06225557565679919\n",
      "Test Accuracy 0.9833\n"
     ]
    }
   ],
   "source": [
    "loss_and_metrics = model.evaluate(X_test, Y_test, verbose=2)\n",
    "\n",
    "print(\"Test Loss\", loss_and_metrics[0])\n",
    "print(\"Test Accuracy\", loss_and_metrics[1])"
   ]
  },
  {
   "cell_type": "code",
   "execution_count": 81,
   "metadata": {
    "colab": {
     "base_uri": "https://localhost:8080/",
     "height": 712
    },
    "colab_type": "code",
    "id": "Ar0AyLWpMUrM",
    "outputId": "8b258841-9824-4180-a55f-c3744a971d37"
   },
   "outputs": [
    {
     "name": "stdout",
     "output_type": "stream",
     "text": [
      "Confusion Matrix : \n",
      "\n",
      " [[ 974    0    5    0    0    2    6    0    3    3]\n",
      " [   1 1128    0    0    1    0    3    5    0    3]\n",
      " [   0    1 1011    4    1    0    2    6    3    0]\n",
      " [   2    2    5  998    0    9    1    0    3    2]\n",
      " [   0    0    4    0  970    2    8    0    4   11]\n",
      " [   0    0    0    0    0  876    3    0    2    1]\n",
      " [   1    1    0    0    3    1  934    0    2    0]\n",
      " [   0    1    3    3    0    0    0 1011    5    4]\n",
      " [   1    2    4    4    0    2    1    3  949    3]\n",
      " [   1    0    0    1    7    0    0    3    3  982]]\n",
      "\n",
      "Accuracy :  0.9833\n",
      "\n",
      "Precision :  0.983130727014421\n",
      "\n",
      "Recall :  0.983386357028776\n",
      "\n",
      "F1-Score :  0.9832282736739961\n",
      "\n",
      "Classification Report : \n",
      "               precision    recall  f1-score   support\n",
      "\n",
      "           0       0.99      0.98      0.99       993\n",
      "           1       0.99      0.99      0.99      1141\n",
      "           2       0.98      0.98      0.98      1028\n",
      "           3       0.99      0.98      0.98      1022\n",
      "           4       0.99      0.97      0.98       999\n",
      "           5       0.98      0.99      0.99       882\n",
      "           6       0.97      0.99      0.98       942\n",
      "           7       0.98      0.98      0.98      1027\n",
      "           8       0.97      0.98      0.98       969\n",
      "           9       0.97      0.98      0.98       997\n",
      "\n",
      "    accuracy                           0.98     10000\n",
      "   macro avg       0.98      0.98      0.98     10000\n",
      "weighted avg       0.98      0.98      0.98     10000\n",
      "\n",
      "\n"
     ]
    }
   ],
   "source": [
    "predicted_classes = model.predict_classes(X_test)\n",
    "calc_report_metrics(predicted_classes,y_test)"
   ]
  },
  {
   "cell_type": "markdown",
   "metadata": {
    "colab_type": "text",
    "id": "1Wi0m4wwn8XJ"
   },
   "source": [
    "### Different activation function (Sigmoid)"
   ]
  },
  {
   "cell_type": "code",
   "execution_count": 82,
   "metadata": {
    "colab": {
     "base_uri": "https://localhost:8080/",
     "height": 1000
    },
    "colab_type": "code",
    "id": "-JqHkjt5n7xW",
    "outputId": "1e67cb50-2ac0-4ac2-ca4a-d0e293924f8f"
   },
   "outputs": [
    {
     "name": "stdout",
     "output_type": "stream",
     "text": [
      "Train on 60000 samples, validate on 10000 samples\n",
      "Epoch 1/10\n",
      " - 11s - loss: 0.5596 - acc: 0.8279 - val_loss: 0.2518 - val_acc: 0.9250\n",
      "Epoch 2/10\n",
      " - 9s - loss: 0.2453 - acc: 0.9263 - val_loss: 0.1864 - val_acc: 0.9422\n",
      "Epoch 3/10\n",
      " - 9s - loss: 0.1830 - acc: 0.9443 - val_loss: 0.1404 - val_acc: 0.9584\n",
      "Epoch 4/10\n",
      " - 9s - loss: 0.1419 - acc: 0.9573 - val_loss: 0.1158 - val_acc: 0.9646\n",
      "Epoch 5/10\n",
      " - 9s - loss: 0.1161 - acc: 0.9654 - val_loss: 0.0995 - val_acc: 0.9693\n",
      "Epoch 6/10\n",
      " - 10s - loss: 0.0954 - acc: 0.9707 - val_loss: 0.0854 - val_acc: 0.9729\n",
      "Epoch 7/10\n",
      " - 9s - loss: 0.0805 - acc: 0.9751 - val_loss: 0.0821 - val_acc: 0.9743\n",
      "Epoch 8/10\n",
      " - 9s - loss: 0.0697 - acc: 0.9781 - val_loss: 0.0727 - val_acc: 0.9780\n",
      "Epoch 9/10\n",
      " - 9s - loss: 0.0610 - acc: 0.9807 - val_loss: 0.0716 - val_acc: 0.9777\n",
      "Epoch 10/10\n",
      " - 9s - loss: 0.0533 - acc: 0.9831 - val_loss: 0.0668 - val_acc: 0.9802\n",
      "Confusion Matrix : \n",
      "\n",
      " [[ 970    0    6    0    1    3    5    1    8    3]\n",
      " [   0 1122    0    0    0    1    2    3    0    3]\n",
      " [   2    2 1009    6    3    0    0    8    1    0]\n",
      " [   1    1    1  988    1    3    0    0    3    4]\n",
      " [   1    0    1    0  960    1    1    0    3    8]\n",
      " [   2    1    0    5    0  873    6    0    3    3]\n",
      " [   2    2    3    0    4    7  943    0    3    0]\n",
      " [   1    1    6    5    3    1    0 1011    5    6]\n",
      " [   1    6    6    3    1    2    1    1  944    0]\n",
      " [   0    0    0    3    9    1    0    4    4  982]]\n",
      "\n",
      "Accuracy :  0.9802\n",
      "\n",
      "Precision :  0.9800814892994307\n",
      "\n",
      "Recall :  0.9800437534192536\n",
      "\n",
      "F1-Score :  0.9800455022340919\n",
      "\n",
      "Classification Report : \n",
      "               precision    recall  f1-score   support\n",
      "\n",
      "           0       0.99      0.97      0.98       997\n",
      "           1       0.99      0.99      0.99      1131\n",
      "           2       0.98      0.98      0.98      1031\n",
      "           3       0.98      0.99      0.98      1002\n",
      "           4       0.98      0.98      0.98       975\n",
      "           5       0.98      0.98      0.98       893\n",
      "           6       0.98      0.98      0.98       964\n",
      "           7       0.98      0.97      0.98      1039\n",
      "           8       0.97      0.98      0.97       965\n",
      "           9       0.97      0.98      0.98      1003\n",
      "\n",
      "    accuracy                           0.98     10000\n",
      "   macro avg       0.98      0.98      0.98     10000\n",
      "weighted avg       0.98      0.98      0.98     10000\n",
      "\n",
      "\n"
     ]
    }
   ],
   "source": [
    "model = Sequential()\n",
    "model.add(Dense(512, input_shape=(784,)))\n",
    "model.add(Activation('sigmoid'))                            \n",
    "model.add(Dropout(0.2))\n",
    "\n",
    "model.add(Dense(512))\n",
    "model.add(Activation('sigmoid'))\n",
    "model.add(Dropout(0.2))\n",
    "\n",
    "model.add(Dense(10))\n",
    "model.add(Activation('softmax'))\n",
    "\n",
    "model.compile(loss='categorical_crossentropy', metrics=['accuracy'], optimizer='adam')\n",
    "history = model.fit(X_train, Y_train,batch_size=128, epochs=10,verbose=2,validation_data=(X_test, Y_test))\n",
    "\n",
    "predicted_classes = model.predict_classes(X_test)\n",
    "calc_report_metrics(predicted_classes,y_test)"
   ]
  },
  {
   "cell_type": "markdown",
   "metadata": {
    "colab_type": "text",
    "id": "lRNZe8fBoAPa"
   },
   "source": [
    "### Changing the No. of nodes in hidden layer to 1024"
   ]
  },
  {
   "cell_type": "code",
   "execution_count": 83,
   "metadata": {
    "colab": {
     "base_uri": "https://localhost:8080/",
     "height": 1000
    },
    "colab_type": "code",
    "id": "qYLNVTTGn_j-",
    "outputId": "8a81cd46-f126-48e8-88fb-05742d98a2e7"
   },
   "outputs": [
    {
     "name": "stdout",
     "output_type": "stream",
     "text": [
      "Train on 60000 samples, validate on 10000 samples\n",
      "Epoch 1/10\n",
      " - 26s - loss: 0.2134 - acc: 0.9351 - val_loss: 0.1106 - val_acc: 0.9666\n",
      "Epoch 2/10\n",
      " - 25s - loss: 0.0891 - acc: 0.9727 - val_loss: 0.0807 - val_acc: 0.9751\n",
      "Epoch 3/10\n",
      " - 25s - loss: 0.0628 - acc: 0.9801 - val_loss: 0.0799 - val_acc: 0.9755\n",
      "Epoch 4/10\n",
      " - 25s - loss: 0.0506 - acc: 0.9837 - val_loss: 0.0673 - val_acc: 0.9801\n",
      "Epoch 5/10\n",
      " - 25s - loss: 0.0416 - acc: 0.9866 - val_loss: 0.0782 - val_acc: 0.9763\n",
      "Epoch 6/10\n",
      " - 25s - loss: 0.0363 - acc: 0.9881 - val_loss: 0.0642 - val_acc: 0.9826\n",
      "Epoch 7/10\n",
      " - 25s - loss: 0.0298 - acc: 0.9903 - val_loss: 0.0681 - val_acc: 0.9820\n",
      "Epoch 8/10\n",
      " - 25s - loss: 0.0286 - acc: 0.9906 - val_loss: 0.0808 - val_acc: 0.9783\n",
      "Epoch 9/10\n",
      " - 25s - loss: 0.0270 - acc: 0.9908 - val_loss: 0.0683 - val_acc: 0.9832\n",
      "Epoch 10/10\n",
      " - 25s - loss: 0.0248 - acc: 0.9916 - val_loss: 0.0828 - val_acc: 0.9802\n",
      "Confusion Matrix : \n",
      "\n",
      " [[ 974    1    2    0    0    2    3    1    4    0]\n",
      " [   1 1127    0    0    0    0    1    2    1    5]\n",
      " [   1    2 1015    8    5    1    0    5    8    0]\n",
      " [   1    1    3  980    0    7    1    1    8    1]\n",
      " [   0    0    1    0  966    1    4    2    7   10]\n",
      " [   0    1    0    5    0  870    1    0    3    1]\n",
      " [   2    2    2    0    4    6  948    0    3    1]\n",
      " [   0    0    6    6    1    0    0 1006    4    6]\n",
      " [   0    1    3    3    0    1    0    2  931    0]\n",
      " [   1    0    0    8    6    4    0    9    5  985]]\n",
      "\n",
      "Accuracy :  0.9802\n",
      "\n",
      "Precision :  0.9799923336030245\n",
      "\n",
      "Recall :  0.9802625053589409\n",
      "\n",
      "F1-Score :  0.9800817914360938\n",
      "\n",
      "Classification Report : \n",
      "               precision    recall  f1-score   support\n",
      "\n",
      "           0       0.99      0.99      0.99       987\n",
      "           1       0.99      0.99      0.99      1137\n",
      "           2       0.98      0.97      0.98      1045\n",
      "           3       0.97      0.98      0.97      1003\n",
      "           4       0.98      0.97      0.98       991\n",
      "           5       0.98      0.99      0.98       881\n",
      "           6       0.99      0.98      0.98       968\n",
      "           7       0.98      0.98      0.98      1029\n",
      "           8       0.96      0.99      0.97       941\n",
      "           9       0.98      0.97      0.97      1018\n",
      "\n",
      "    accuracy                           0.98     10000\n",
      "   macro avg       0.98      0.98      0.98     10000\n",
      "weighted avg       0.98      0.98      0.98     10000\n",
      "\n",
      "\n"
     ]
    }
   ],
   "source": [
    "model = Sequential()\n",
    "model.add(Dense(1024, input_shape=(784,)))\n",
    "model.add(Activation('relu'))                            \n",
    "model.add(Dropout(0.2))\n",
    "\n",
    "model.add(Dense(1024))\n",
    "model.add(Activation('relu'))\n",
    "model.add(Dropout(0.2))\n",
    "\n",
    "model.add(Dense(10))\n",
    "model.add(Activation('softmax'))\n",
    "\n",
    "model.compile(loss='categorical_crossentropy', metrics=['accuracy'], optimizer='adam')\n",
    "history = model.fit(X_train, Y_train,batch_size=128, epochs=10,verbose=2,validation_data=(X_test, Y_test))\n",
    "\n",
    "predicted_classes = model.predict_classes(X_test)\n",
    "calc_report_metrics(predicted_classes,y_test)"
   ]
  },
  {
   "cell_type": "markdown",
   "metadata": {},
   "source": [
    "### Changing the Optimizer and loss function"
   ]
  },
  {
   "cell_type": "code",
   "execution_count": 84,
   "metadata": {
    "colab": {
     "base_uri": "https://localhost:8080/",
     "height": 1000
    },
    "colab_type": "code",
    "id": "6Hg-7Z08nryY",
    "outputId": "ec0b434b-b71f-420d-8630-f9c4e8a81c87"
   },
   "outputs": [
    {
     "name": "stdout",
     "output_type": "stream",
     "text": [
      "Train on 60000 samples, validate on 10000 samples\n",
      "Epoch 1/10\n",
      " - 23s - loss: 0.0896 - acc: 0.1378 - val_loss: 0.0882 - val_acc: 0.2630\n",
      "Epoch 2/10\n",
      " - 22s - loss: 0.0875 - acc: 0.2600 - val_loss: 0.0858 - val_acc: 0.4119\n",
      "Epoch 3/10\n",
      " - 22s - loss: 0.0852 - acc: 0.3673 - val_loss: 0.0830 - val_acc: 0.4653\n",
      "Epoch 4/10\n",
      " - 22s - loss: 0.0823 - acc: 0.4260 - val_loss: 0.0795 - val_acc: 0.5073\n",
      "Epoch 5/10\n",
      " - 22s - loss: 0.0789 - acc: 0.4720 - val_loss: 0.0757 - val_acc: 0.5570\n",
      "Epoch 6/10\n",
      " - 22s - loss: 0.0752 - acc: 0.5202 - val_loss: 0.0714 - val_acc: 0.6061\n",
      "Epoch 7/10\n",
      " - 22s - loss: 0.0712 - acc: 0.5721 - val_loss: 0.0668 - val_acc: 0.6520\n",
      "Epoch 8/10\n",
      " - 21s - loss: 0.0669 - acc: 0.6218 - val_loss: 0.0621 - val_acc: 0.6909\n",
      "Epoch 9/10\n",
      " - 22s - loss: 0.0625 - acc: 0.6580 - val_loss: 0.0573 - val_acc: 0.7226\n",
      "Epoch 10/10\n",
      " - 22s - loss: 0.0582 - acc: 0.6876 - val_loss: 0.0527 - val_acc: 0.7445\n",
      "Confusion Matrix : \n",
      "\n",
      " [[ 951    0   35   10    6  193   45    8   32   29]\n",
      " [   0 1121   92   12   30   99   24   57   70   28]\n",
      " [   5    6  775   35    4   12   26   23   49    4]\n",
      " [   9    3   29  899    3  335    8    3  168   20]\n",
      " [   0    0   21    0  766   26   11    6   18   80]\n",
      " [   0    0    0    0    0    0    0    0    0    0]\n",
      " [   9    3   19    4   34   57  842    2   37    6]\n",
      " [   3    1   34   25   13   63    2  914   41  198]\n",
      " [   3    1   25   16    4   48    0    1  539    6]\n",
      " [   0    0    2    9  122   59    0   14   20  638]]\n",
      "\n",
      "Accuracy :  0.7445\n",
      "\n",
      "Precision :  0.7332898867621653\n",
      "\n",
      "Recall :  0.6831413573394872\n",
      "\n",
      "F1-Score :  0.697228452449494\n",
      "\n",
      "Classification Report : \n",
      "               precision    recall  f1-score   support\n",
      "\n",
      "           0       0.97      0.73      0.83      1309\n",
      "           1       0.99      0.73      0.84      1533\n",
      "           2       0.75      0.83      0.79       939\n",
      "           3       0.89      0.61      0.72      1477\n",
      "           4       0.78      0.83      0.80       928\n",
      "           5       0.00      0.00      0.00         0\n",
      "           6       0.88      0.83      0.85      1013\n",
      "           7       0.89      0.71      0.79      1294\n",
      "           8       0.55      0.84      0.67       643\n",
      "           9       0.63      0.74      0.68       864\n",
      "\n",
      "    accuracy                           0.74     10000\n",
      "   macro avg       0.73      0.68      0.70     10000\n",
      "weighted avg       0.85      0.74      0.78     10000\n",
      "\n",
      "\n"
     ]
    },
    {
     "name": "stderr",
     "output_type": "stream",
     "text": [
      "/usr/local/lib/python3.6/dist-packages/sklearn/metrics/_classification.py:1272: UndefinedMetricWarning: Recall is ill-defined and being set to 0.0 in labels with no true samples. Use `zero_division` parameter to control this behavior.\n",
      "  _warn_prf(average, modifier, msg_start, len(result))\n",
      "/usr/local/lib/python3.6/dist-packages/sklearn/metrics/_classification.py:1272: UndefinedMetricWarning: Recall and F-score are ill-defined and being set to 0.0 in labels with no true samples. Use `zero_division` parameter to control this behavior.\n",
      "  _warn_prf(average, modifier, msg_start, len(result))\n"
     ]
    }
   ],
   "source": [
    "model = Sequential()\n",
    "model.add(Dense(1024, input_shape=(784,)))\n",
    "model.add(Activation('relu'))                            \n",
    "model.add(Dropout(0.2))\n",
    "\n",
    "model.add(Dense(1024))\n",
    "model.add(Activation('relu'))\n",
    "model.add(Dropout(0.2))\n",
    "\n",
    "model.add(Dense(10))\n",
    "model.add(Activation('softmax'))\n",
    "\n",
    "model.compile(loss='mean_squared_error', optimizer = 'sgd', metrics = ['accuracy'])\n",
    "history = model.fit(X_train, Y_train,batch_size=128, epochs=10,verbose=2,validation_data=(X_test, Y_test))\n",
    "\n",
    "predicted_classes = model.predict_classes(X_test)\n",
    "calc_report_metrics(predicted_classes,y_test)"
   ]
  },
  {
   "attachments": {
    "image.png": {
     "image/png": "[encoded data removed]"
    }
   },
   "cell_type": "markdown",
   "metadata": {
    "colab_type": "text",
    "id": "ZCXBrX92lCSK"
   },
   "source": [
    "## 2. Implementing CNN (Convolution neural network)\n",
    "\n",
    "In deep learning, a convolutional neural network (CNN, or ConvNet) is a class of deep neural networks, most commonly applied to analyzing visual imagery. \n",
    "\n",
    "CNNs are regularized versions of multilayer perceptrons. Multilayer perceptrons usually mean fully connected networks, that is, each neuron in one layer is connected to all neurons in the next layer. The \"fully-connectedness\" of these networks makes them prone to overfitting data.\n",
    "\n",
    "![image.png](attachment:image.png)\n",
    "\n",
    "Importing the required libraries"
   ]
  },
  {
   "cell_type": "code",
   "execution_count": 0,
   "metadata": {
    "colab": {},
    "colab_type": "code",
    "id": "8MKJCdGllB5U"
   },
   "outputs": [],
   "source": [
    "from keras.models import Sequential\n",
    "from keras.layers.core import Dense, Dropout, Activation, Flatten\n",
    "from keras.layers.convolutional import Convolution2D, MaxPooling2D"
   ]
  },
  {
   "cell_type": "code",
   "execution_count": 0,
   "metadata": {
    "colab": {},
    "colab_type": "code",
    "id": "3-dEPcGVpN-v"
   },
   "outputs": [],
   "source": [
    "X_train_cnn=X_train.reshape(60000,28,28,1)\n",
    "X_test_cnn=X_test.reshape(10000,28,28,1)"
   ]
  },
  {
   "cell_type": "markdown",
   "metadata": {},
   "source": [
    "### Plotting the data"
   ]
  },
  {
   "cell_type": "code",
   "execution_count": 34,
   "metadata": {
    "colab": {
     "base_uri": "https://localhost:8080/",
     "height": 456
    },
    "colab_type": "code",
    "id": "kwM67IW4p7q7",
    "outputId": "cfde49d0-ad66-453a-ac06-7e9f9b2e8be9"
   },
   "outputs": [
    {
     "data": {
      "text/plain": [
       "<matplotlib.image.AxesImage at 0x7f4b04038c88>"
      ]
     },
     "execution_count": 34,
     "metadata": {
      "tags": []
     },
     "output_type": "execute_result"
    },
    {
     "data": {
      "image/png": "[encoded data removed]",
      "text/plain": [
       "<Figure size 504x1008 with 1 Axes>"
      ]
     },
     "metadata": {
      "tags": []
     },
     "output_type": "display_data"
    }
   ],
   "source": [
    "plt.imshow(X_train_cnn[0].reshape(28,28),cmap='gray')"
   ]
  },
  {
   "cell_type": "markdown",
   "metadata": {},
   "source": [
    "### Implementing the CNN Model"
   ]
  },
  {
   "cell_type": "code",
   "execution_count": 35,
   "metadata": {
    "colab": {
     "base_uri": "https://localhost:8080/",
     "height": 72
    },
    "colab_type": "code",
    "id": "FaitQ3t9lBcB",
    "outputId": "30ec1138-6d9a-4bac-8b03-abb19cd130ac"
   },
   "outputs": [
    {
     "name": "stdout",
     "output_type": "stream",
     "text": [
      "WARNING:tensorflow:From /usr/local/lib/python3.6/dist-packages/keras/backend/tensorflow_backend.py:4267: The name tf.nn.max_pool is deprecated. Please use tf.nn.max_pool2d instead.\n",
      "\n"
     ]
    }
   ],
   "source": [
    "#CNN model\n",
    "model = Sequential()\n",
    "model.add(Convolution2D(32,3,data_format='channels_last',activation='relu',input_shape=(28,28,1)))\n",
    "model.add(MaxPooling2D(pool_size=(2,2)))\n",
    "model.add(Flatten())\n",
    "model.add(Dense(100))\n",
    "model.add(Dropout(0.5))\n",
    "model.add(Dense(10))\n",
    "model.add(Activation('softmax'))\n",
    "model.compile(loss='categorical_crossentropy', optimizer = 'adadelta', metrics = ['accuracy'])"
   ]
  },
  {
   "cell_type": "code",
   "execution_count": 36,
   "metadata": {
    "colab": {
     "base_uri": "https://localhost:8080/",
     "height": 399
    },
    "colab_type": "code",
    "id": "07t0qAhIlBax",
    "outputId": "8b79ba28-b015-4d4d-d80a-729035bacebb"
   },
   "outputs": [
    {
     "name": "stdout",
     "output_type": "stream",
     "text": [
      "Model: \"sequential_2\"\n",
      "_________________________________________________________________\n",
      "Layer (type)                 Output Shape              Param #   \n",
      "=================================================================\n",
      "conv2d_1 (Conv2D)            (None, 26, 26, 32)        320       \n",
      "_________________________________________________________________\n",
      "max_pooling2d_1 (MaxPooling2 (None, 13, 13, 32)        0         \n",
      "_________________________________________________________________\n",
      "flatten_1 (Flatten)          (None, 5408)              0         \n",
      "_________________________________________________________________\n",
      "dense_4 (Dense)              (None, 100)               540900    \n",
      "_________________________________________________________________\n",
      "dropout_3 (Dropout)          (None, 100)               0         \n",
      "_________________________________________________________________\n",
      "dense_5 (Dense)              (None, 10)                1010      \n",
      "_________________________________________________________________\n",
      "activation_4 (Activation)    (None, 10)                0         \n",
      "=================================================================\n",
      "Total params: 542,230\n",
      "Trainable params: 542,230\n",
      "Non-trainable params: 0\n",
      "_________________________________________________________________\n"
     ]
    }
   ],
   "source": [
    "model.summary()\n"
   ]
  },
  {
   "cell_type": "code",
   "execution_count": 40,
   "metadata": {
    "colab": {
     "base_uri": "https://localhost:8080/",
     "height": 746
    },
    "colab_type": "code",
    "id": "Kiu6-hnqlBVn",
    "outputId": "647f58b0-4b3f-4d57-cc71-b5a8e36dc38f"
   },
   "outputs": [
    {
     "name": "stdout",
     "output_type": "stream",
     "text": [
      "Train on 60000 samples, validate on 10000 samples\n",
      "Epoch 1/20\n",
      "60000/60000 [==============================] - 46s 762us/step - loss: 0.2085 - acc: 0.9368 - val_loss: 0.0731 - val_acc: 0.9768\n",
      "Epoch 2/20\n",
      "60000/60000 [==============================] - 45s 753us/step - loss: 0.0925 - acc: 0.9725 - val_loss: 0.0568 - val_acc: 0.9808\n",
      "Epoch 3/20\n",
      "60000/60000 [==============================] - 45s 754us/step - loss: 0.0754 - acc: 0.9775 - val_loss: 0.0509 - val_acc: 0.9841\n",
      "Epoch 4/20\n",
      "60000/60000 [==============================] - 45s 754us/step - loss: 0.0661 - acc: 0.9801 - val_loss: 0.0516 - val_acc: 0.9847\n",
      "Epoch 5/20\n",
      "60000/60000 [==============================] - 45s 750us/step - loss: 0.0578 - acc: 0.9827 - val_loss: 0.0495 - val_acc: 0.9841\n",
      "Epoch 6/20\n",
      "60000/60000 [==============================] - 46s 762us/step - loss: 0.0547 - acc: 0.9831 - val_loss: 0.0447 - val_acc: 0.9845\n",
      "Epoch 7/20\n",
      "60000/60000 [==============================] - 45s 757us/step - loss: 0.0490 - acc: 0.9859 - val_loss: 0.0493 - val_acc: 0.9847\n",
      "Epoch 8/20\n",
      "60000/60000 [==============================] - 45s 757us/step - loss: 0.0481 - acc: 0.9856 - val_loss: 0.0504 - val_acc: 0.9846\n",
      "Epoch 9/20\n",
      "60000/60000 [==============================] - 45s 756us/step - loss: 0.0454 - acc: 0.9867 - val_loss: 0.0490 - val_acc: 0.9849\n",
      "Epoch 10/20\n",
      "60000/60000 [==============================] - 46s 762us/step - loss: 0.0418 - acc: 0.9873 - val_loss: 0.0444 - val_acc: 0.9860\n",
      "Epoch 11/20\n",
      "60000/60000 [==============================] - 46s 759us/step - loss: 0.0390 - acc: 0.9885 - val_loss: 0.0457 - val_acc: 0.9858\n",
      "Epoch 12/20\n",
      "60000/60000 [==============================] - 45s 756us/step - loss: 0.0364 - acc: 0.9888 - val_loss: 0.0460 - val_acc: 0.9868\n",
      "Epoch 13/20\n",
      "60000/60000 [==============================] - 45s 755us/step - loss: 0.0357 - acc: 0.9893 - val_loss: 0.0448 - val_acc: 0.9867\n",
      "Epoch 14/20\n",
      "60000/60000 [==============================] - 45s 754us/step - loss: 0.0325 - acc: 0.9905 - val_loss: 0.0468 - val_acc: 0.9858\n",
      "Epoch 15/20\n",
      "60000/60000 [==============================] - 45s 753us/step - loss: 0.0332 - acc: 0.9896 - val_loss: 0.0488 - val_acc: 0.9867\n",
      "Epoch 16/20\n",
      "60000/60000 [==============================] - 45s 755us/step - loss: 0.0301 - acc: 0.9908 - val_loss: 0.0507 - val_acc: 0.9852\n",
      "Epoch 17/20\n",
      "60000/60000 [==============================] - 46s 758us/step - loss: 0.0295 - acc: 0.9911 - val_loss: 0.0500 - val_acc: 0.9852\n",
      "Epoch 18/20\n",
      "60000/60000 [==============================] - 45s 753us/step - loss: 0.0274 - acc: 0.9918 - val_loss: 0.0483 - val_acc: 0.9867\n",
      "Epoch 19/20\n",
      "60000/60000 [==============================] - 45s 754us/step - loss: 0.0277 - acc: 0.9920 - val_loss: 0.0502 - val_acc: 0.9866\n",
      "Epoch 20/20\n",
      "60000/60000 [==============================] - 45s 753us/step - loss: 0.0257 - acc: 0.9921 - val_loss: 0.0510 - val_acc: 0.9852\n"
     ]
    },
    {
     "data": {
      "text/plain": [
       "<keras.callbacks.History at 0x7f4b09d58c88>"
      ]
     },
     "execution_count": 40,
     "metadata": {
      "tags": []
     },
     "output_type": "execute_result"
    }
   ],
   "source": [
    "model.fit(X_train_cnn,Y_train,epochs=20,validation_data=(X_test_cnn, Y_test))"
   ]
  },
  {
   "cell_type": "code",
   "execution_count": 41,
   "metadata": {
    "colab": {
     "base_uri": "https://localhost:8080/",
     "height": 52
    },
    "colab_type": "code",
    "id": "psLWlRTNx0AM",
    "outputId": "3477492c-b891-4263-9fb2-659c7a381b0b"
   },
   "outputs": [
    {
     "name": "stdout",
     "output_type": "stream",
     "text": [
      "10000/10000 [==============================] - 2s 217us/step\n"
     ]
    },
    {
     "data": {
      "text/plain": [
       "[0.05102743995821038, 0.9852]"
      ]
     },
     "execution_count": 41,
     "metadata": {
      "tags": []
     },
     "output_type": "execute_result"
    }
   ],
   "source": [
    "model.evaluate(X_test_cnn,Y_test)"
   ]
  },
  {
   "cell_type": "code",
   "execution_count": 43,
   "metadata": {
    "colab": {
     "base_uri": "https://localhost:8080/",
     "height": 52
    },
    "colab_type": "code",
    "id": "IhmtNiylx1bM",
    "outputId": "4531899e-7f99-4289-a9e6-7f90053b0c7f"
   },
   "outputs": [
    {
     "name": "stdout",
     "output_type": "stream",
     "text": [
      "Test Loss 0.05102743995821038\n",
      "Test Accuracy 0.9852\n"
     ]
    }
   ],
   "source": [
    "loss_and_metrics = model.evaluate(X_test_cnn, Y_test, verbose=2)\n",
    "\n",
    "print(\"Test Loss\", loss_and_metrics[0])\n",
    "print(\"Test Accuracy\", loss_and_metrics[1])"
   ]
  },
  {
   "cell_type": "markdown",
   "metadata": {},
   "source": [
    "### Showing the metrics"
   ]
  },
  {
   "cell_type": "code",
   "execution_count": 44,
   "metadata": {
    "colab": {
     "base_uri": "https://localhost:8080/",
     "height": 712
    },
    "colab_type": "code",
    "id": "ol0CykuNx1f8",
    "outputId": "66773eac-9271-442c-e335-eed440df1252"
   },
   "outputs": [
    {
     "name": "stdout",
     "output_type": "stream",
     "text": [
      "Confusion Matrix : \n",
      "\n",
      " [[ 971    0    1    0    0    1    4    0    4    0]\n",
      " [   0 1133    2    0    1    0    3    3    1    2]\n",
      " [   2    0 1016    1    0    0    0    9    2    0]\n",
      " [   1    1    3  995    0    4    1    4    2    2]\n",
      " [   0    0    1    0  968    0    1    0    0    3]\n",
      " [   1    0    0    9    0  883    5    0    3   11]\n",
      " [   3    0    1    0    5    3  942    0    2    0]\n",
      " [   0    0    5    2    1    0    0 1007    2    6]\n",
      " [   2    1    2    3    1    1    2    1  955    3]\n",
      " [   0    0    1    0    6    0    0    4    3  982]]\n",
      "\n",
      "Accuracy :  0.9852\n",
      "\n",
      "Precision :  0.9850956714339446\n",
      "\n",
      "Recall :  0.985020903505809\n",
      "\n",
      "F1-Score :  0.9850368656283728\n",
      "\n",
      "Classification Report : \n",
      "               precision    recall  f1-score   support\n",
      "\n",
      "           0       0.99      0.99      0.99       981\n",
      "           1       1.00      0.99      0.99      1145\n",
      "           2       0.98      0.99      0.99      1030\n",
      "           3       0.99      0.98      0.98      1013\n",
      "           4       0.99      0.99      0.99       973\n",
      "           5       0.99      0.97      0.98       912\n",
      "           6       0.98      0.99      0.98       956\n",
      "           7       0.98      0.98      0.98      1023\n",
      "           8       0.98      0.98      0.98       971\n",
      "           9       0.97      0.99      0.98       996\n",
      "\n",
      "    accuracy                           0.99     10000\n",
      "   macro avg       0.99      0.99      0.99     10000\n",
      "weighted avg       0.99      0.99      0.99     10000\n",
      "\n",
      "\n"
     ]
    }
   ],
   "source": [
    "predicted_classes = model.predict_classes(X_test_cnn)\n",
    "calc_report_metrics(predicted_classes,y_test)"
   ]
  },
  {
   "cell_type": "markdown",
   "metadata": {
    "colab_type": "text",
    "id": "t8smLs6jytiB"
   },
   "source": [
    "for 2 convolution layer and 2 max pool layer \n",
    "and 1 fully dense layer"
   ]
  },
  {
   "cell_type": "markdown",
   "metadata": {
    "colab": {},
    "colab_type": "code",
    "id": "aUJxho2Xx1jv"
   },
   "source": [
    "### With 2 convolution layer"
   ]
  },
  {
   "cell_type": "code",
   "execution_count": 0,
   "metadata": {
    "colab": {},
    "colab_type": "code",
    "id": "PEUyL0-jx1ZZ"
   },
   "outputs": [],
   "source": [
    "model = Sequential()\n",
    "\n",
    "model.add(Convolution2D(32,3,data_format='channels_last',activation='relu',input_shape=(28,28,1)))\n",
    "model.add(MaxPooling2D(pool_size=(2,2)))\n",
    "\n",
    "model.add(Convolution2D(64, (5, 5), activation='relu'))\n",
    "model.add(MaxPooling2D((2, 2)))\n",
    "\n",
    "model.add(Flatten())\n",
    "model.add(Dense(100))\n",
    "model.add(Dropout(0.5))\n",
    "model.add(Dense(10))\n",
    "model.add(Activation('softmax'))\n",
    "model.compile(loss='categorical_crossentropy', optimizer = 'adadelta', metrics = ['accuracy'])"
   ]
  },
  {
   "cell_type": "code",
   "execution_count": 48,
   "metadata": {
    "colab": {
     "base_uri": "https://localhost:8080/",
     "height": 469
    },
    "colab_type": "code",
    "id": "XtHDi-rOxz-W",
    "outputId": "ec79366a-003b-4c45-a6d8-9c35e008cd9c"
   },
   "outputs": [
    {
     "name": "stdout",
     "output_type": "stream",
     "text": [
      "Model: \"sequential_3\"\n",
      "_________________________________________________________________\n",
      "Layer (type)                 Output Shape              Param #   \n",
      "=================================================================\n",
      "conv2d_2 (Conv2D)            (None, 26, 26, 32)        320       \n",
      "_________________________________________________________________\n",
      "max_pooling2d_2 (MaxPooling2 (None, 13, 13, 32)        0         \n",
      "_________________________________________________________________\n",
      "conv2d_3 (Conv2D)            (None, 9, 9, 64)          51264     \n",
      "_________________________________________________________________\n",
      "max_pooling2d_3 (MaxPooling2 (None, 4, 4, 64)          0         \n",
      "_________________________________________________________________\n",
      "flatten_2 (Flatten)          (None, 1024)              0         \n",
      "_________________________________________________________________\n",
      "dense_6 (Dense)              (None, 100)               102500    \n",
      "_________________________________________________________________\n",
      "dropout_4 (Dropout)          (None, 100)               0         \n",
      "_________________________________________________________________\n",
      "dense_7 (Dense)              (None, 10)                1010      \n",
      "_________________________________________________________________\n",
      "activation_5 (Activation)    (None, 10)                0         \n",
      "=================================================================\n",
      "Total params: 155,094\n",
      "Trainable params: 155,094\n",
      "Non-trainable params: 0\n",
      "_________________________________________________________________\n"
     ]
    }
   ],
   "source": [
    "model.summary()"
   ]
  },
  {
   "cell_type": "code",
   "execution_count": 49,
   "metadata": {
    "colab": {
     "base_uri": "https://localhost:8080/",
     "height": 399
    },
    "colab_type": "code",
    "id": "kggKaT_30_7I",
    "outputId": "1bda4084-b5ba-4a4f-866c-bd6c6ab19935"
   },
   "outputs": [
    {
     "name": "stdout",
     "output_type": "stream",
     "text": [
      "Train on 60000 samples, validate on 10000 samples\n",
      "Epoch 1/10\n",
      "60000/60000 [==============================] - 77s 1ms/step - loss: 0.1544 - acc: 0.9518 - val_loss: 0.0382 - val_acc: 0.9878\n",
      "Epoch 2/10\n",
      "60000/60000 [==============================] - 77s 1ms/step - loss: 0.0537 - acc: 0.9842 - val_loss: 0.0303 - val_acc: 0.9899\n",
      "Epoch 3/10\n",
      "60000/60000 [==============================] - 77s 1ms/step - loss: 0.0406 - acc: 0.9879 - val_loss: 0.0284 - val_acc: 0.9914\n",
      "Epoch 4/10\n",
      "60000/60000 [==============================] - 77s 1ms/step - loss: 0.0313 - acc: 0.9906 - val_loss: 0.0236 - val_acc: 0.9923\n",
      "Epoch 5/10\n",
      "60000/60000 [==============================] - 76s 1ms/step - loss: 0.0255 - acc: 0.9922 - val_loss: 0.0256 - val_acc: 0.9915\n",
      "Epoch 6/10\n",
      "60000/60000 [==============================] - 76s 1ms/step - loss: 0.0221 - acc: 0.9931 - val_loss: 0.0226 - val_acc: 0.9929\n",
      "Epoch 7/10\n",
      "60000/60000 [==============================] - 76s 1ms/step - loss: 0.0182 - acc: 0.9943 - val_loss: 0.0230 - val_acc: 0.9923\n",
      "Epoch 8/10\n",
      "60000/60000 [==============================] - 76s 1ms/step - loss: 0.0171 - acc: 0.9948 - val_loss: 0.0286 - val_acc: 0.9919\n",
      "Epoch 9/10\n",
      "60000/60000 [==============================] - 76s 1ms/step - loss: 0.0138 - acc: 0.9960 - val_loss: 0.0264 - val_acc: 0.9930\n",
      "Epoch 10/10\n",
      "60000/60000 [==============================] - 76s 1ms/step - loss: 0.0121 - acc: 0.9967 - val_loss: 0.0274 - val_acc: 0.9917\n"
     ]
    },
    {
     "data": {
      "text/plain": [
       "<keras.callbacks.History at 0x7f4b03ea0cf8>"
      ]
     },
     "execution_count": 49,
     "metadata": {
      "tags": []
     },
     "output_type": "execute_result"
    }
   ],
   "source": [
    "model.fit(X_train_cnn,Y_train,epochs=10,validation_data=(X_test_cnn, Y_test))"
   ]
  },
  {
   "cell_type": "code",
   "execution_count": 50,
   "metadata": {
    "colab": {
     "base_uri": "https://localhost:8080/",
     "height": 52
    },
    "colab_type": "code",
    "id": "LuUT_83x0_3y",
    "outputId": "975ec99d-8e96-485d-efee-b77b1a60d846"
   },
   "outputs": [
    {
     "name": "stdout",
     "output_type": "stream",
     "text": [
      "10000/10000 [==============================] - 4s 376us/step\n"
     ]
    },
    {
     "data": {
      "text/plain": [
       "[0.027417281055518515, 0.9917]"
      ]
     },
     "execution_count": 50,
     "metadata": {
      "tags": []
     },
     "output_type": "execute_result"
    }
   ],
   "source": [
    "model.evaluate(X_test_cnn,Y_test)"
   ]
  },
  {
   "cell_type": "code",
   "execution_count": 51,
   "metadata": {
    "colab": {
     "base_uri": "https://localhost:8080/",
     "height": 52
    },
    "colab_type": "code",
    "id": "Zy-9NSFMxz8P",
    "outputId": "7bfd4774-767c-4d7c-8473-763c87893be1"
   },
   "outputs": [
    {
     "name": "stdout",
     "output_type": "stream",
     "text": [
      "Test Loss 0.027417281055518515\n",
      "Test Accuracy 0.9917\n"
     ]
    }
   ],
   "source": [
    "loss_and_metrics = model.evaluate(X_test_cnn, Y_test, verbose=2)\n",
    "\n",
    "print(\"Test Loss\", loss_and_metrics[0])\n",
    "print(\"Test Accuracy\", loss_and_metrics[1])"
   ]
  },
  {
   "cell_type": "code",
   "execution_count": 52,
   "metadata": {
    "colab": {
     "base_uri": "https://localhost:8080/",
     "height": 712
    },
    "colab_type": "code",
    "id": "r1mCCFqMxz4W",
    "outputId": "fb4a7880-82a6-47a3-aabf-98291a00d4a8"
   },
   "outputs": [
    {
     "name": "stdout",
     "output_type": "stream",
     "text": [
      "Confusion Matrix : \n",
      "\n",
      " [[ 978    0    1    0    0    0    2    0    1    0]\n",
      " [   1 1132    0    0    0    0    2    2    0    2]\n",
      " [   0    0 1026    1    1    1    0    4    2    0]\n",
      " [   0    1    0 1006    0    6    1    0    1    3]\n",
      " [   0    1    0    0  971    0    2    0    0    5]\n",
      " [   0    0    0    3    0  883    1    0    1    8]\n",
      " [   0    0    0    0    0    1  949    0    0    0]\n",
      " [   1    0    5    0    0    1    0 1021    2    3]\n",
      " [   0    1    0    0    1    0    1    0  964    1]\n",
      " [   0    0    0    0    9    0    0    1    3  987]]\n",
      "\n",
      "Accuracy :  0.9917\n",
      "\n",
      "Precision :  0.9915975729809515\n",
      "\n",
      "Recall :  0.9916815421173221\n",
      "\n",
      "F1-Score :  0.9916314151899692\n",
      "\n",
      "Classification Report : \n",
      "               precision    recall  f1-score   support\n",
      "\n",
      "           0       1.00      1.00      1.00       982\n",
      "           1       1.00      0.99      1.00      1139\n",
      "           2       0.99      0.99      0.99      1035\n",
      "           3       1.00      0.99      0.99      1018\n",
      "           4       0.99      0.99      0.99       979\n",
      "           5       0.99      0.99      0.99       896\n",
      "           6       0.99      1.00      0.99       950\n",
      "           7       0.99      0.99      0.99      1033\n",
      "           8       0.99      1.00      0.99       968\n",
      "           9       0.98      0.99      0.98      1000\n",
      "\n",
      "    accuracy                           0.99     10000\n",
      "   macro avg       0.99      0.99      0.99     10000\n",
      "weighted avg       0.99      0.99      0.99     10000\n",
      "\n",
      "\n"
     ]
    }
   ],
   "source": [
    "predicted_classes = model.predict_classes(X_test_cnn)\n",
    "calc_report_metrics(predicted_classes,y_test)"
   ]
  },
  {
   "cell_type": "markdown",
   "metadata": {},
   "source": [
    "### With 2 hidden layers"
   ]
  },
  {
   "cell_type": "code",
   "execution_count": 0,
   "metadata": {
    "colab": {},
    "colab_type": "code",
    "id": "6USo_VQEGSkI"
   },
   "outputs": [],
   "source": [
    "model = Sequential()\n",
    "\n",
    "model.add(Convolution2D(32,3,data_format='channels_last',activation='relu',input_shape=(28,28,1)))\n",
    "model.add(MaxPooling2D(pool_size=(2,2)))\n",
    "\n",
    "model.add(Flatten())\n",
    "model.add(Dense(100))\n",
    "model.add(Dropout(0.5))\n",
    "model.add(Dense(100))\n",
    "model.add(Dropout(0.5))\n",
    "model.add(Dense(10))\n",
    "model.add(Activation('tanh'))\n",
    "model.add(Activation('softmax'))\n",
    "model.compile(loss='mean_squared_error', optimizer = 'sgd', metrics = ['accuracy'])"
   ]
  },
  {
   "cell_type": "code",
   "execution_count": 66,
   "metadata": {
    "colab": {
     "base_uri": "https://localhost:8080/",
     "height": 503
    },
    "colab_type": "code",
    "id": "mj2x-mggGhrb",
    "outputId": "f9509c80-ac61-48e0-9659-e5aa8898e8e4"
   },
   "outputs": [
    {
     "name": "stdout",
     "output_type": "stream",
     "text": [
      "Model: \"sequential_4\"\n",
      "_________________________________________________________________\n",
      "Layer (type)                 Output Shape              Param #   \n",
      "=================================================================\n",
      "conv2d_4 (Conv2D)            (None, 26, 26, 32)        320       \n",
      "_________________________________________________________________\n",
      "max_pooling2d_4 (MaxPooling2 (None, 13, 13, 32)        0         \n",
      "_________________________________________________________________\n",
      "flatten_3 (Flatten)          (None, 5408)              0         \n",
      "_________________________________________________________________\n",
      "dense_8 (Dense)              (None, 100)               540900    \n",
      "_________________________________________________________________\n",
      "dropout_5 (Dropout)          (None, 100)               0         \n",
      "_________________________________________________________________\n",
      "dense_9 (Dense)              (None, 100)               10100     \n",
      "_________________________________________________________________\n",
      "dropout_6 (Dropout)          (None, 100)               0         \n",
      "_________________________________________________________________\n",
      "dense_10 (Dense)             (None, 10)                1010      \n",
      "_________________________________________________________________\n",
      "activation_6 (Activation)    (None, 10)                0         \n",
      "_________________________________________________________________\n",
      "activation_7 (Activation)    (None, 10)                0         \n",
      "=================================================================\n",
      "Total params: 552,330\n",
      "Trainable params: 552,330\n",
      "Non-trainable params: 0\n",
      "_________________________________________________________________\n"
     ]
    }
   ],
   "source": [
    "model.summary()"
   ]
  },
  {
   "cell_type": "code",
   "execution_count": 67,
   "metadata": {
    "colab": {
     "base_uri": "https://localhost:8080/",
     "height": 399
    },
    "colab_type": "code",
    "id": "VK7U0rkzGSwK",
    "outputId": "ba34f7c7-e05e-45a4-ad2b-33f0845e2122"
   },
   "outputs": [
    {
     "name": "stdout",
     "output_type": "stream",
     "text": [
      "Train on 60000 samples, validate on 10000 samples\n",
      "Epoch 1/10\n",
      "60000/60000 [==============================] - 40s 660us/step - loss: 0.0872 - acc: 0.2553 - val_loss: 0.0826 - val_acc: 0.6548\n",
      "Epoch 2/10\n",
      "60000/60000 [==============================] - 39s 651us/step - loss: 0.0798 - acc: 0.5145 - val_loss: 0.0725 - val_acc: 0.7489\n",
      "Epoch 3/10\n",
      "60000/60000 [==============================] - 39s 649us/step - loss: 0.0732 - acc: 0.5989 - val_loss: 0.0646 - val_acc: 0.7979\n",
      "Epoch 4/10\n",
      "60000/60000 [==============================] - 39s 650us/step - loss: 0.0691 - acc: 0.6382 - val_loss: 0.0596 - val_acc: 0.8287\n",
      "Epoch 5/10\n",
      "60000/60000 [==============================] - 39s 648us/step - loss: 0.0662 - acc: 0.6692 - val_loss: 0.0562 - val_acc: 0.8396\n",
      "Epoch 6/10\n",
      "60000/60000 [==============================] - 39s 649us/step - loss: 0.0641 - acc: 0.6905 - val_loss: 0.0538 - val_acc: 0.8478\n",
      "Epoch 7/10\n",
      "60000/60000 [==============================] - 39s 651us/step - loss: 0.0622 - acc: 0.7137 - val_loss: 0.0520 - val_acc: 0.8552\n",
      "Epoch 8/10\n",
      "60000/60000 [==============================] - 39s 650us/step - loss: 0.0609 - acc: 0.7277 - val_loss: 0.0509 - val_acc: 0.8615\n",
      "Epoch 9/10\n",
      "60000/60000 [==============================] - 39s 650us/step - loss: 0.0598 - acc: 0.7416 - val_loss: 0.0498 - val_acc: 0.8650\n",
      "Epoch 10/10\n",
      "60000/60000 [==============================] - 39s 649us/step - loss: 0.0588 - acc: 0.7496 - val_loss: 0.0490 - val_acc: 0.8662\n"
     ]
    },
    {
     "data": {
      "text/plain": [
       "<keras.callbacks.History at 0x7f4aff58ca90>"
      ]
     },
     "execution_count": 67,
     "metadata": {
      "tags": []
     },
     "output_type": "execute_result"
    }
   ],
   "source": [
    "model.fit(X_train_cnn,Y_train,epochs=10,validation_data=(X_test_cnn, Y_test))"
   ]
  },
  {
   "cell_type": "code",
   "execution_count": 68,
   "metadata": {
    "colab": {
     "base_uri": "https://localhost:8080/",
     "height": 52
    },
    "colab_type": "code",
    "id": "s5-46OBWGShQ",
    "outputId": "24373892-f778-4133-eb05-57e48dbd967d"
   },
   "outputs": [
    {
     "name": "stdout",
     "output_type": "stream",
     "text": [
      "10000/10000 [==============================] - 2s 222us/step\n"
     ]
    },
    {
     "data": {
      "text/plain": [
       "[0.04897084094285965, 0.8662]"
      ]
     },
     "execution_count": 68,
     "metadata": {
      "tags": []
     },
     "output_type": "execute_result"
    }
   ],
   "source": [
    "model.evaluate(X_test_cnn,Y_test)"
   ]
  },
  {
   "cell_type": "code",
   "execution_count": 69,
   "metadata": {
    "colab": {
     "base_uri": "https://localhost:8080/",
     "height": 52
    },
    "colab_type": "code",
    "id": "Gy71Kf9bGSer",
    "outputId": "ede2b65e-d0a6-4574-9aeb-6be89db09f0a"
   },
   "outputs": [
    {
     "name": "stdout",
     "output_type": "stream",
     "text": [
      "Test Loss 0.04897084094285965\n",
      "Test Accuracy 0.8662\n"
     ]
    }
   ],
   "source": [
    "loss_and_metrics = model.evaluate(X_test_cnn, Y_test, verbose=2)\n",
    "\n",
    "print(\"Test Loss\", loss_and_metrics[0])\n",
    "print(\"Test Accuracy\", loss_and_metrics[1])"
   ]
  },
  {
   "cell_type": "code",
   "execution_count": 70,
   "metadata": {
    "colab": {
     "base_uri": "https://localhost:8080/",
     "height": 712
    },
    "colab_type": "code",
    "id": "EUQCMfSQGSZt",
    "outputId": "8a7fbc24-1ad5-448a-d6c2-7091799a98a8"
   },
   "outputs": [
    {
     "name": "stdout",
     "output_type": "stream",
     "text": [
      "Confusion Matrix : \n",
      "\n",
      " [[ 958    0   15    6    1   38   16    4   21   19]\n",
      " [   0 1105   13    7   10   12    6   30   35   10]\n",
      " [   1    7  880   33    6    6    4   33   15    9]\n",
      " [   2    2   16  896    0  158    1    4   36   19]\n",
      " [   1    1   12    1  833   35    4   13   14   31]\n",
      " [   1    1    0    7    1  535   15    0   14    4]\n",
      " [   8    5   27    8   22   36  908    4   25    0]\n",
      " [   1    1   23   22    2   10    1  902   18   41]\n",
      " [   8   13   38   19   12   46    3    3  776    7]\n",
      " [   0    0    8   11   95   16    0   35   20  869]]\n",
      "\n",
      "Accuracy :  0.8662\n",
      "\n",
      "Precision :  0.8622208997383618\n",
      "\n",
      "Recall :  0.8688452598820857\n",
      "\n",
      "F1-Score :  0.861093832553404\n",
      "\n",
      "Classification Report : \n",
      "               precision    recall  f1-score   support\n",
      "\n",
      "           0       0.98      0.89      0.93      1078\n",
      "           1       0.97      0.90      0.94      1228\n",
      "           2       0.85      0.89      0.87       994\n",
      "           3       0.89      0.79      0.84      1134\n",
      "           4       0.85      0.88      0.86       945\n",
      "           5       0.60      0.93      0.73       578\n",
      "           6       0.95      0.87      0.91      1043\n",
      "           7       0.88      0.88      0.88      1021\n",
      "           8       0.80      0.84      0.82       925\n",
      "           9       0.86      0.82      0.84      1054\n",
      "\n",
      "    accuracy                           0.87     10000\n",
      "   macro avg       0.86      0.87      0.86     10000\n",
      "weighted avg       0.88      0.87      0.87     10000\n",
      "\n",
      "\n"
     ]
    }
   ],
   "source": [
    "predicted_classes = model.predict_classes(X_test_cnn)\n",
    "calc_report_metrics(predicted_classes,y_test)"
   ]
  },
  {
   "cell_type": "markdown",
   "metadata": {
    "colab_type": "text",
    "id": "RE7_WmmClGRk"
   },
   "source": [
    "## 3. Implementing SVM"
   ]
  },
  {
   "cell_type": "markdown",
   "metadata": {
    "colab_type": "text",
    "id": "dnDtN9zZ2Poz"
   },
   "source": [
    "### **SVM (Image Classifiction)**\n",
    "\n",
    "In machine learning, support-vector machines (SVMs, also support-vector networks[1]) are supervised learning models with associated learning algorithms that analyze data used for classification and regression analysis\n",
    "\n",
    "\n",
    "![image.png](data:image/png;base64,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)\n",
    "\n",
    "### Importing the libraries"
   ]
  },
  {
   "cell_type": "code",
   "execution_count": 0,
   "metadata": {
    "colab": {},
    "colab_type": "code",
    "id": "Cz8YbS70lBMI"
   },
   "outputs": [],
   "source": [
    "from sklearn.decomposition import PCA\n",
    "from sklearn import svm"
   ]
  },
  {
   "cell_type": "markdown",
   "metadata": {},
   "source": [
    "### Applying the PCA"
   ]
  },
  {
   "cell_type": "code",
   "execution_count": 0,
   "metadata": {
    "colab": {},
    "colab_type": "code",
    "id": "oEX90WOQ3AWS"
   },
   "outputs": [],
   "source": [
    "pca = PCA(100)\n",
    "pca.fit(X_train)\n",
    "train=pca.transform(X_train)\n",
    "test=pca.transform(X_test)"
   ]
  },
  {
   "cell_type": "markdown",
   "metadata": {},
   "source": [
    "### With RBF kernel and **C=1.0**"
   ]
  },
  {
   "cell_type": "code",
   "execution_count": 0,
   "metadata": {
    "colab": {},
    "colab_type": "code",
    "id": "b7fo7eaZlBJy"
   },
   "outputs": [],
   "source": [
    "# non-linear model using rbf kernel, C=1, default value of gamma\n",
    "\n",
    "classifier = svm.SVC(kernel='rbf')\n",
    "classifier.fit(X_train, y_train)\n",
    "y_pred = classifier.predict(X_test)"
   ]
  },
  {
   "cell_type": "code",
   "execution_count": 57,
   "metadata": {
    "colab": {
     "base_uri": "https://localhost:8080/",
     "height": 712
    },
    "colab_type": "code",
    "id": "BHi7B_VYlJZ5",
    "outputId": "55bebbf7-810c-40ff-bbd8-4ceb18a3c8c9"
   },
   "outputs": [
    {
     "name": "stdout",
     "output_type": "stream",
     "text": [
      "Confusion Matrix : \n",
      "\n",
      " [[ 973    0    1    0    0    2    1    1    2    0]\n",
      " [   0 1126    3    1    0    1    1    1    2    0]\n",
      " [   6    1 1006    2    1    0    2    7    6    1]\n",
      " [   0    0    2  995    0    2    0    5    5    1]\n",
      " [   0    0    5    0  961    0    3    0    2   11]\n",
      " [   2    0    0    9    0  871    4    1    4    1]\n",
      " [   6    2    0    0    2    3  944    0    1    0]\n",
      " [   0    6   11    1    1    0    0  996    2   11]\n",
      " [   3    0    2    6    3    2    2    3  950    3]\n",
      " [   3    4    1    7   10    2    1    7    4  970]]\n",
      "\n",
      "Accuracy :  0.9792\n",
      "\n",
      "Precision :  0.9791973966593345\n",
      "\n",
      "Recall :  0.9790919842945065\n",
      "\n",
      "F1-Score :  0.9791298259748042\n",
      "\n",
      "Classification Report : \n",
      "               precision    recall  f1-score   support\n",
      "\n",
      "           0       0.98      0.99      0.99       980\n",
      "           1       0.99      0.99      0.99      1135\n",
      "           2       0.98      0.97      0.98      1032\n",
      "           3       0.97      0.99      0.98      1010\n",
      "           4       0.98      0.98      0.98       982\n",
      "           5       0.99      0.98      0.98       892\n",
      "           6       0.99      0.99      0.99       958\n",
      "           7       0.98      0.97      0.97      1028\n",
      "           8       0.97      0.98      0.97       974\n",
      "           9       0.97      0.96      0.97      1009\n",
      "\n",
      "    accuracy                           0.98     10000\n",
      "   macro avg       0.98      0.98      0.98     10000\n",
      "weighted avg       0.98      0.98      0.98     10000\n",
      "\n",
      "\n"
     ]
    }
   ],
   "source": [
    "pred=classifier.predict(X_test)\n",
    "calc_report_metrics(y_test,pred)"
   ]
  },
  {
   "cell_type": "markdown",
   "metadata": {},
   "source": [
    "### With Linear Kernel"
   ]
  },
  {
   "cell_type": "code",
   "execution_count": 0,
   "metadata": {
    "colab": {},
    "colab_type": "code",
    "id": "RFh1xtfPlJfl"
   },
   "outputs": [],
   "source": [
    "classifier = svm.SVC(kernel='linear')\n",
    "\n",
    "classifier.fit(train, y_train)\n",
    "\n",
    "y_pred = classifier.predict(test)"
   ]
  },
  {
   "cell_type": "code",
   "execution_count": 60,
   "metadata": {
    "colab": {
     "base_uri": "https://localhost:8080/",
     "height": 712
    },
    "colab_type": "code",
    "id": "GiGscG0qlJds",
    "outputId": "54929e51-bda0-46fb-90e5-a78080e0cd83"
   },
   "outputs": [
    {
     "name": "stdout",
     "output_type": "stream",
     "text": [
      "Confusion Matrix : \n",
      "\n",
      " [[ 966    0    0    3    1    6    3    1    0    0]\n",
      " [   0 1124    4    1    0    1    1    1    3    0]\n",
      " [   8    2  978    7    8    4    6    7   12    0]\n",
      " [   3    0   20  942    0   15    2   11   14    3]\n",
      " [   1    0    9    0  937    0    7    1    3   24]\n",
      " [   9    5    4   37    6  798   11    1   19    2]\n",
      " [   6    3    8    0    3   14  922    1    1    0]\n",
      " [   1    7   19    6   11    0    1  963    0   20]\n",
      " [   5    3    6   24    7   31    7    7  882    2]\n",
      " [   4    6    3   10   33    7    0   21    5  920]]\n",
      "\n",
      "Accuracy :  0.9432\n",
      "\n",
      "Precision :  0.9424872615984125\n",
      "\n",
      "Recall :  0.9421694471581509\n",
      "\n",
      "F1-Score :  0.9422035243461474\n",
      "\n",
      "Classification Report : \n",
      "               precision    recall  f1-score   support\n",
      "\n",
      "           0       0.96      0.99      0.97       980\n",
      "           1       0.98      0.99      0.98      1135\n",
      "           2       0.93      0.95      0.94      1032\n",
      "           3       0.91      0.93      0.92      1010\n",
      "           4       0.93      0.95      0.94       982\n",
      "           5       0.91      0.89      0.90       892\n",
      "           6       0.96      0.96      0.96       958\n",
      "           7       0.95      0.94      0.94      1028\n",
      "           8       0.94      0.91      0.92       974\n",
      "           9       0.95      0.91      0.93      1009\n",
      "\n",
      "    accuracy                           0.94     10000\n",
      "   macro avg       0.94      0.94      0.94     10000\n",
      "weighted avg       0.94      0.94      0.94     10000\n",
      "\n",
      "\n"
     ]
    }
   ],
   "source": [
    "pred=classifier.predict(test)\n",
    "calc_report_metrics(y_test,pred)"
   ]
  },
  {
   "cell_type": "markdown",
   "metadata": {},
   "source": [
    "### With Sigmoid kernel"
   ]
  },
  {
   "cell_type": "code",
   "execution_count": 0,
   "metadata": {
    "colab": {},
    "colab_type": "code",
    "id": "GaeatxjO_pru"
   },
   "outputs": [],
   "source": [
    "classifier = svm.SVC(kernel='sigmoid')\n",
    "\n",
    "classifier.fit(train, y_train)\n",
    "\n",
    "y_pred = classifier.predict(test)"
   ]
  },
  {
   "cell_type": "code",
   "execution_count": 62,
   "metadata": {
    "colab": {
     "base_uri": "https://localhost:8080/",
     "height": 712
    },
    "colab_type": "code",
    "id": "tPjOrRFe_pyE",
    "outputId": "5c8ff322-f7cc-431c-d5bd-e07e8673d23d"
   },
   "outputs": [
    {
     "name": "stdout",
     "output_type": "stream",
     "text": [
      "Confusion Matrix : \n",
      "\n",
      " [[ 910    0    9    4    1   34   18    2    2    0]\n",
      " [   0 1078   28    7    0    4    2    1   15    0]\n",
      " [  32   31  819   26   20    7   39   11   42    5]\n",
      " [  18    2   27  837    1   68    5   19   24    9]\n",
      " [   4    3    6    1  861    1   13   11    4   78]\n",
      " [  44   17   12   85   18  662   13    5   30    6]\n",
      " [  36    3   40    3   16   29  826    0    5    0]\n",
      " [   5   18   31   14   12    2    1  896    1   48]\n",
      " [  31   39   20   38   12   55   19   13  732   15]\n",
      " [  14    6    2   16   77   13    0   79   19  783]]\n",
      "\n",
      "Accuracy :  0.8404\n",
      "\n",
      "Precision :  0.838400620839125\n",
      "\n",
      "Recall :  0.8380967403189026\n",
      "\n",
      "F1-Score :  0.8375103855638854\n",
      "\n",
      "Classification Report : \n",
      "               precision    recall  f1-score   support\n",
      "\n",
      "           0       0.83      0.93      0.88       980\n",
      "           1       0.90      0.95      0.92      1135\n",
      "           2       0.82      0.79      0.81      1032\n",
      "           3       0.81      0.83      0.82      1010\n",
      "           4       0.85      0.88      0.86       982\n",
      "           5       0.76      0.74      0.75       892\n",
      "           6       0.88      0.86      0.87       958\n",
      "           7       0.86      0.87      0.87      1028\n",
      "           8       0.84      0.75      0.79       974\n",
      "           9       0.83      0.78      0.80      1009\n",
      "\n",
      "    accuracy                           0.84     10000\n",
      "   macro avg       0.84      0.84      0.84     10000\n",
      "weighted avg       0.84      0.84      0.84     10000\n",
      "\n",
      "\n"
     ]
    }
   ],
   "source": [
    "pred=classifier.predict(test)\n",
    "calc_report_metrics(y_test,pred)\n"
   ]
  },
  {
   "cell_type": "markdown",
   "metadata": {
    "colab_type": "text",
    "id": "-fR72mA3Dtur"
   },
   "source": [
    "### With RBF kernel and **C=5.0**"
   ]
  },
  {
   "cell_type": "code",
   "execution_count": 63,
   "metadata": {
    "colab": {
     "base_uri": "https://localhost:8080/",
     "height": 712
    },
    "colab_type": "code",
    "id": "lR7thAfh_qJV",
    "outputId": "5bb551c1-bd29-49fc-c574-a3128641cb6c"
   },
   "outputs": [
    {
     "name": "stdout",
     "output_type": "stream",
     "text": [
      "Confusion Matrix : \n",
      "\n",
      " [[ 975    0    1    0    0    1    0    1    2    0]\n",
      " [   0 1131    2    1    0    1    0    0    0    0]\n",
      " [   5    1 1014    0    1    0    2    5    4    0]\n",
      " [   0    0    3  995    1    3    0    3    4    1]\n",
      " [   1    0    1    0  966    0    4    1    0    9]\n",
      " [   2    0    0    4    1  879    3    0    1    2]\n",
      " [   4    2    0    0    1    2  947    0    2    0]\n",
      " [   0    3   11    1    0    0    0 1007    1    5]\n",
      " [   3    0    1    2    1    1    1    2  959    4]\n",
      " [   1    2    0    6    8    3    1    5    0  983]]\n",
      "\n",
      "Accuracy :  0.9856\n",
      "\n",
      "Precision :  0.985553578572641\n",
      "\n",
      "Recall :  0.9855134346287187\n",
      "\n",
      "F1-Score :  0.9855287136948014\n",
      "\n",
      "Classification Report : \n",
      "               precision    recall  f1-score   support\n",
      "\n",
      "           0       0.98      0.99      0.99       980\n",
      "           1       0.99      1.00      0.99      1135\n",
      "           2       0.98      0.98      0.98      1032\n",
      "           3       0.99      0.99      0.99      1010\n",
      "           4       0.99      0.98      0.99       982\n",
      "           5       0.99      0.99      0.99       892\n",
      "           6       0.99      0.99      0.99       958\n",
      "           7       0.98      0.98      0.98      1028\n",
      "           8       0.99      0.98      0.99       974\n",
      "           9       0.98      0.97      0.98      1009\n",
      "\n",
      "    accuracy                           0.99     10000\n",
      "   macro avg       0.99      0.99      0.99     10000\n",
      "weighted avg       0.99      0.99      0.99     10000\n",
      "\n",
      "\n"
     ]
    }
   ],
   "source": [
    "classifier = svm.SVC(kernel='rbf',C=5.0)\n",
    "classifier.fit(train, y_train)\n",
    "y_pred = classifier.predict(test)\n",
    "pred=classifier.predict(test)\n",
    "calc_report_metrics(y_test,pred)"
   ]
  },
  {
   "cell_type": "markdown",
   "metadata": {
    "colab_type": "text",
    "id": "vIYF0yfMD2oA"
   },
   "source": [
    "### With RBF kernel and **C=10.0**"
   ]
  },
  {
   "cell_type": "code",
   "execution_count": 64,
   "metadata": {
    "colab": {
     "base_uri": "https://localhost:8080/",
     "height": 712
    },
    "colab_type": "code",
    "id": "-DHEjCXzDjW1",
    "outputId": "4219ae7c-7dc0-4d78-eaae-e6821becacd5"
   },
   "outputs": [
    {
     "name": "stdout",
     "output_type": "stream",
     "text": [
      "Confusion Matrix : \n",
      "\n",
      " [[ 975    0    1    0    0    1    0    1    2    0]\n",
      " [   0 1129    2    1    0    1    0    1    1    0]\n",
      " [   5    1 1014    0    1    0    2    5    4    0]\n",
      " [   0    0    3  995    1    3    0    3    4    1]\n",
      " [   1    0    1    0  966    0    4    1    0    9]\n",
      " [   2    0    0    5    1  878    3    0    1    2]\n",
      " [   4    2    0    0    1    2  948    0    1    0]\n",
      " [   0    3   10    2    0    0    0 1008    0    5]\n",
      " [   3    0    1    2    1    1    1    2  960    3]\n",
      " [   1    2    0    6    6    3    1    5    0  985]]\n",
      "\n",
      "Accuracy :  0.9858\n",
      "\n",
      "Precision :  0.9857643069032406\n",
      "\n",
      "Recall :  0.9857276614098771\n",
      "\n",
      "F1-Score :  0.9857413474139541\n",
      "\n",
      "Classification Report : \n",
      "               precision    recall  f1-score   support\n",
      "\n",
      "           0       0.98      0.99      0.99       980\n",
      "           1       0.99      0.99      0.99      1135\n",
      "           2       0.98      0.98      0.98      1032\n",
      "           3       0.98      0.99      0.98      1010\n",
      "           4       0.99      0.98      0.99       982\n",
      "           5       0.99      0.98      0.99       892\n",
      "           6       0.99      0.99      0.99       958\n",
      "           7       0.98      0.98      0.98      1028\n",
      "           8       0.99      0.99      0.99       974\n",
      "           9       0.98      0.98      0.98      1009\n",
      "\n",
      "    accuracy                           0.99     10000\n",
      "   macro avg       0.99      0.99      0.99     10000\n",
      "weighted avg       0.99      0.99      0.99     10000\n",
      "\n",
      "\n"
     ]
    }
   ],
   "source": [
    "classifier = svm.SVC(kernel='rbf',C=10.0)\n",
    "classifier.fit(train, y_train)\n",
    "y_pred = classifier.predict(test)\n",
    "pred=classifier.predict(test)\n",
    "calc_report_metrics(y_test,pred)"
   ]
  },
  {
   "cell_type": "markdown",
   "metadata": {
    "colab_type": "text",
    "id": "5ZnioY8elKZq"
   },
   "source": [
    "### Comparing and choosing the best one"
   ]
  },
  {
   "cell_type": "markdown",
   "metadata": {
    "colab": {},
    "colab_type": "code",
    "id": "xEY7dOFflJWx"
   },
   "source": [
    "After comparing the accuracy and other metrics, \n",
    "###    CNN performs very well with 99% accuracy.\n",
    "\n",
    "    MLP Accuracy : 98%\n",
    "\n",
    "    SVM Accuracy : 97%\n",
    "\n",
    "    But CNN Accuracy : 99%\n",
    "\n",
    "## Best model is CNN after this experiment."
   ]
  }
 ],
 "metadata": {
  "colab": {
   "collapsed_sections": [],
   "name": "a3_q3.ipynb",
   "provenance": []
  },
  "kernelspec": {
   "display_name": "Python 3",
   "language": "python",
   "name": "python3"
  },
  "language_info": {
   "codemirror_mode": {
    "name": "ipython",
    "version": 3
   },
   "file_extension": ".py",
   "mimetype": "text/x-python",
   "name": "python",
   "nbconvert_exporter": "python",
   "pygments_lexer": "ipython3",
   "version": "3.6.9"
  }
 },
 "nbformat": 4,
 "nbformat_minor": 1
}
