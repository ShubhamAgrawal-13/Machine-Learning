{
 "cells": [
  {
   "attachments": {
    "image.png": {
     "image/png": "[encoded data removed]"
    }
   },
   "cell_type": "markdown",
   "metadata": {},
   "source": [
    "# Question 2 : Logistic Regression\n",
    "\n",
    "    Logistic regression is basically a supervised classification algorithm. In a classification problem, the target variable(or output), y, can take only discrete values for given set of features(or inputs), X.\n",
    "\n",
    "![image.png](attachment:image.png)"
   ]
  },
  {
   "attachments": {
    "image.png": {
     "image/png": "[encoded data removed]"
    }
   },
   "cell_type": "markdown",
   "metadata": {},
   "source": [
    "### LOGISTIC FUNCTION OR SIGMOID FUNCTION\n",
    "![image.png](attachment:image.png)"
   ]
  },
  {
   "cell_type": "markdown",
   "metadata": {},
   "source": [
    "### Importing the libraries"
   ]
  },
  {
   "cell_type": "code",
   "execution_count": 27,
   "metadata": {},
   "outputs": [],
   "source": [
    "import matplotlib\n",
    "import numpy as np\n",
    "import pandas as pd\n",
    "import matplotlib.pyplot as plt\n",
    "from sklearn import metrics\n",
    "import cv2\n",
    "import os"
   ]
  },
  {
   "cell_type": "markdown",
   "metadata": {},
   "source": [
    "### Reading the image with open cv2"
   ]
  },
  {
   "cell_type": "code",
   "execution_count": 28,
   "metadata": {},
   "outputs": [],
   "source": [
    "def read_image(image_path):\n",
    "    image = cv2.imread(image_path, cv2.IMREAD_COLOR)\n",
    "    image = cv2.cvtColor(image, cv2.COLOR_BGR2RGB)\n",
    "    image = cv2.resize(image, (48,48))\n",
    "    return image\n",
    "\n",
    "def rgb2gray(rgb):\n",
    "    return np.dot(rgb[...,:3], [0.2989, 0.5870, 0.1140])"
   ]
  },
  {
   "cell_type": "code",
   "execution_count": 29,
   "metadata": {},
   "outputs": [
    {
     "data": {
      "text/plain": [
       "520"
      ]
     },
     "execution_count": 29,
     "metadata": {},
     "output_type": "execute_result"
    }
   ],
   "source": [
    "path='../A3/A3/dataset/'\n",
    "images=os.listdir(path)\n",
    "len(images)"
   ]
  },
  {
   "cell_type": "markdown",
   "metadata": {},
   "source": [
    "### Reading labels from image"
   ]
  },
  {
   "cell_type": "code",
   "execution_count": 30,
   "metadata": {},
   "outputs": [
    {
     "data": {
      "text/plain": [
       "array([4, 4, 3, 6, 6, 0, 5, 7, 2, 6, 7, 2, 3, 1, 4, 6, 1, 5, 1, 7, 1, 3,\n",
       "       6, 0, 1, 3, 0, 7, 6, 2, 1, 6, 3, 6, 7, 4, 6, 4, 3, 2, 5, 3, 1, 7,\n",
       "       7, 3, 0, 4, 4, 5, 2, 2, 3, 3, 5, 0, 1, 4, 2, 0, 3, 0, 3, 6, 7, 1,\n",
       "       0, 7, 0, 5, 4, 5, 6, 7, 2, 3, 6, 2, 2, 1, 1, 6, 1, 3, 1, 4, 2, 0,\n",
       "       3, 3, 5, 2, 5, 0, 2, 4, 0, 4, 0, 6, 0, 1, 5, 5, 7, 1, 5, 4, 1, 0,\n",
       "       4, 6, 3, 7, 6, 5, 2, 1, 2, 5, 5, 4, 2, 1, 3, 3, 3, 1, 4, 4, 4, 5,\n",
       "       5, 5, 7, 3, 6, 0, 3, 6, 4, 1, 0, 1, 6, 6, 7, 7, 7, 0, 0, 5, 3, 4,\n",
       "       2, 6, 3, 0, 3, 1, 2, 0, 7, 4, 3, 2, 4, 4, 2, 5, 6, 0, 0, 5, 6, 3,\n",
       "       7, 3, 0, 0, 7, 6, 0, 0, 2, 1, 0, 3, 6, 6, 5, 6, 6, 1, 2, 0, 7, 7,\n",
       "       3, 2, 7, 5, 5, 5, 1, 4, 2, 1, 6, 2, 0, 7, 6, 7, 7, 0, 4, 1, 7, 2,\n",
       "       5, 7, 5, 5, 5, 1, 6, 7, 3, 0, 0, 1, 6, 7, 7, 4, 7, 5, 3, 4, 6, 4,\n",
       "       5, 0, 6, 0, 6, 7, 0, 1, 3, 4, 2, 3, 2, 7, 2, 1, 2, 2, 0, 0, 4, 1,\n",
       "       5, 6, 4, 5, 7, 4, 1, 2, 2, 3, 7, 0, 5, 3, 2, 5, 2, 4, 5, 3, 6, 6,\n",
       "       7, 6, 7, 2, 4, 6, 5, 7, 6, 0, 2, 3, 4, 7, 6, 7, 2, 4, 5, 4, 6, 4,\n",
       "       7, 2, 7, 7, 7, 5, 1, 1, 2, 5, 3, 7, 2, 3, 3, 0, 2, 4, 5, 3, 6, 5,\n",
       "       7, 3, 5, 4, 1, 1, 0, 3, 1, 6, 1, 5, 5, 7, 5, 3, 3, 3, 2, 6, 5, 2,\n",
       "       0, 3, 2, 5, 7, 7, 1, 2, 2, 1, 3, 0, 4, 4, 5, 6, 4, 4, 6, 4, 0, 3,\n",
       "       0, 5, 0, 5, 6, 5, 4, 6, 2, 6, 7, 5, 4, 2, 3, 4, 6, 6, 1, 5, 7, 0,\n",
       "       2, 4, 7, 1, 0, 0, 1, 1, 0, 2, 1, 1, 2, 4, 3, 2, 2, 6, 1, 1, 3, 2,\n",
       "       2, 5, 0, 2, 0, 6, 7, 4, 4, 4, 4, 6, 1, 6, 3, 4, 4, 5, 1, 1, 5, 0,\n",
       "       0, 6, 5, 5, 2, 0, 7, 1, 0, 0, 7, 1, 7, 6, 0, 0, 2, 1, 1, 1, 4, 4,\n",
       "       5, 5, 1, 4, 7, 7, 1, 3, 5, 4, 6, 6, 1, 3, 1, 2, 5, 0, 3, 0, 3, 0,\n",
       "       0, 7, 5, 4, 4, 4, 2, 7, 3, 7, 3, 1, 6, 2, 3, 2, 7, 1, 6, 6, 6, 7,\n",
       "       7, 0, 3, 2, 7, 3, 5, 1, 3, 1, 4, 4, 3, 2])"
      ]
     },
     "execution_count": 30,
     "metadata": {},
     "output_type": "execute_result"
    }
   ],
   "source": [
    "labels=[]\n",
    "for image_name in images:\n",
    "    temp=image_name.split('.')[0]\n",
    "    temp=temp.split('_')\n",
    "#     print(temp)\n",
    "    labels.append(int(temp[0]))\n",
    "labels=np.array(labels)\n",
    "labels"
   ]
  },
  {
   "cell_type": "markdown",
   "metadata": {},
   "source": [
    "### Preprocessing the dataset (Resize, Grayscaled and Flatten)"
   ]
  },
  {
   "cell_type": "code",
   "execution_count": 31,
   "metadata": {},
   "outputs": [
    {
     "data": {
      "text/plain": [
       "(520, 48, 48)"
      ]
     },
     "execution_count": 31,
     "metadata": {},
     "output_type": "execute_result"
    }
   ],
   "source": [
    "dataset = []\n",
    "for image_name in images:\n",
    "    dataset.append(read_image(path + image_name))\n",
    "dataset=np.array(dataset)\n",
    "\n",
    "\n",
    "dataset_grayscaled=[]\n",
    "for i in range(dataset.shape[0]):\n",
    "    gray = rgb2gray(dataset[i])\n",
    "    dataset_grayscaled.append(gray)\n",
    "dataset_grayscaled=np.array(dataset_grayscaled)\n",
    "dataset_grayscaled.shape"
   ]
  },
  {
   "cell_type": "code",
   "execution_count": 32,
   "metadata": {},
   "outputs": [
    {
     "data": {
      "text/plain": [
       "array([[ 33.3195,   7.7339,  18.4993, ...,   5.0812,   4.0813,  13.4933],\n",
       "       [ 40.1594,  28.612 ,  16.1788, ...,  23.8792,  32.4761,  29.1174],\n",
       "       [ 62.4066,   6.4446,  10.8895, ...,  21.6927,  23.6925,  16.6932],\n",
       "       ...,\n",
       "       [146.9072, 148.907 , 153.9065, ...,  73.2764,  81.0198,  77.0633],\n",
       "       [ 44.1761,  58.3982,  63.8384, ...,  73.797 ,  30.6442,  53.9686],\n",
       "       [ 61.0019,  56.7204,  71.8931, ...,  32.0695,  26.4291,  25.0872]])"
      ]
     },
     "execution_count": 32,
     "metadata": {},
     "output_type": "execute_result"
    }
   ],
   "source": [
    "final_dataset=[]\n",
    "for i in range(dataset_grayscaled.shape[0]):\n",
    "    final_dataset.append(dataset_grayscaled[i].flatten())\n",
    "    \n",
    "final_dataset=np.array(final_dataset)\n",
    "final_dataset"
   ]
  },
  {
   "cell_type": "code",
   "execution_count": 33,
   "metadata": {},
   "outputs": [
    {
     "data": {
      "text/plain": [
       "(520, 2304)"
      ]
     },
     "execution_count": 33,
     "metadata": {},
     "output_type": "execute_result"
    }
   ],
   "source": [
    "final_dataset.shape"
   ]
  },
  {
   "cell_type": "markdown",
   "metadata": {},
   "source": [
    "### Read image"
   ]
  },
  {
   "cell_type": "code",
   "execution_count": 47,
   "metadata": {
    "scrolled": true
   },
   "outputs": [
    {
     "data": {
      "text/plain": [
       "<matplotlib.image.AxesImage at 0x7f748bf7a668>"
      ]
     },
     "execution_count": 47,
     "metadata": {},
     "output_type": "execute_result"
    },
    {
     "data": {
      "image/png": "[encoded data removed]",
      "text/plain": [
       "<Figure size 432x288 with 1 Axes>"
      ]
     },
     "metadata": {},
     "output_type": "display_data"
    }
   ],
   "source": [
    "plt.imshow(final_dataset[0].reshape(48,48),cmap='gray')"
   ]
  },
  {
   "cell_type": "markdown",
   "metadata": {},
   "source": [
    "### Spliting the data into Train and Test"
   ]
  },
  {
   "cell_type": "code",
   "execution_count": 35,
   "metadata": {},
   "outputs": [],
   "source": [
    "from sklearn.model_selection import train_test_split\n",
    "\n",
    "X_train, X_test, y_train, y_test = train_test_split(final_dataset, labels, test_size=0.30, random_state=42)"
   ]
  },
  {
   "cell_type": "markdown",
   "metadata": {},
   "source": [
    "## Function for Performing the PCA from 1st question"
   ]
  },
  {
   "cell_type": "code",
   "execution_count": 36,
   "metadata": {},
   "outputs": [],
   "source": [
    "def pca(X,n_c):\n",
    "    #covarience matrix\n",
    "\n",
    "    dataset_mean=np.mean(X,axis=0)\n",
    "    dataset_mean.shape\n",
    "    covariance_matrix = (X - dataset_mean).T.dot((X - dataset_mean))/(X.shape[0]-1)\n",
    "    #covariance_matrix.shape\n",
    "    \n",
    "    #Svd\n",
    "    u,s,v = np.linalg.svd(covariance_matrix)\n",
    "    print(u.shape)\n",
    "    \n",
    "    Y = np.matmul(X,u[:,:n_c])\n",
    "    return Y,u"
   ]
  },
  {
   "cell_type": "code",
   "execution_count": 52,
   "metadata": {},
   "outputs": [],
   "source": [
    "def reconstruct_from_pca(Y,u):\n",
    "    n=Y.shape[1]\n",
    "    print('n : ',n)\n",
    "    return np.matmul(Y,u[:,:n].T)\n",
    "    "
   ]
  },
  {
   "cell_type": "markdown",
   "metadata": {},
   "source": [
    "## Calculate and Report useful metrics for the model like\n",
    "\n",
    "    1. Accuracy Score\n",
    "    2. Precision\n",
    "    3. Recall \n",
    "    4. F1-Score\n",
    "    5. Confusion matrix\n",
    "    6. Classification report\n",
    "\n",
    "    So for simplicity, I have made the function which calculates all these things and we don't have to write the code again and again."
   ]
  },
  {
   "cell_type": "code",
   "execution_count": 38,
   "metadata": {},
   "outputs": [],
   "source": [
    "from sklearn.metrics import accuracy_score\n",
    "from sklearn.metrics import precision_score\n",
    "from sklearn.metrics import recall_score\n",
    "from sklearn.metrics import f1_score\n",
    "from sklearn.metrics import confusion_matrix\n",
    "from sklearn.metrics import classification_report\n",
    "\n",
    "\n",
    "\n",
    "def calc_report_metrics(testlabels,pred):\n",
    "    cm=confusion_matrix(testlabels,pred)\n",
    "    print('Confusion Matrix : \\n\\n',cm)\n",
    "    print()\n",
    "    accu = accuracy_score(testlabels,pred)\n",
    "    print('Accuracy : ',accu)\n",
    "    print()\n",
    "    precision = precision_score(testlabels,pred,average='macro')\n",
    "    print('Precision : ',precision)\n",
    "    print()\n",
    "    recall = recall_score(testlabels,pred,average='macro')\n",
    "    print('Recall : ',recall)\n",
    "    print()\n",
    "    f1s = f1_score(testlabels,pred,average='macro')\n",
    "    print('F1-Score : ',f1s)\n",
    "    print()\n",
    "    report=classification_report(testlabels,pred)\n",
    "    print('Classification Report : \\n',report)\n",
    "    print()"
   ]
  },
  {
   "cell_type": "markdown",
   "metadata": {},
   "source": [
    "### Performing PCA"
   ]
  },
  {
   "cell_type": "code",
   "execution_count": 71,
   "metadata": {},
   "outputs": [
    {
     "name": "stdout",
     "output_type": "stream",
     "text": [
      "(2304, 2304)\n"
     ]
    }
   ],
   "source": [
    "X_pca,u=pca(X_train,200)"
   ]
  },
  {
   "cell_type": "markdown",
   "metadata": {},
   "source": [
    "### Normalizing the dataset"
   ]
  },
  {
   "cell_type": "code",
   "execution_count": 68,
   "metadata": {},
   "outputs": [],
   "source": [
    "from sklearn.preprocessing import StandardScaler\n",
    "def normalize(X_train,X_test):\n",
    "    scaler = StandardScaler()\n",
    "    X_train=scaler.fit_transform(X_train)\n",
    "\n",
    "    X_test=scaler.transform(X_test)\n",
    "\n",
    "    return X_train,X_test"
   ]
  },
  {
   "cell_type": "markdown",
   "metadata": {},
   "source": [
    "### Implementing the Logistic Regression"
   ]
  },
  {
   "cell_type": "markdown",
   "metadata": {},
   "source": [
    "### Sigmoid Function"
   ]
  },
  {
   "cell_type": "code",
   "execution_count": 54,
   "metadata": {},
   "outputs": [],
   "source": [
    "def sigmoid(x):\n",
    "    return 1 / (1 + np.exp(-x))"
   ]
  },
  {
   "cell_type": "markdown",
   "metadata": {},
   "source": [
    "### Train function which uses gradient descent"
   ]
  },
  {
   "cell_type": "code",
   "execution_count": 65,
   "metadata": {},
   "outputs": [],
   "source": [
    "def train(X_train,y_train,itr=5000,a=0.1):\n",
    "    X_train=np.insert(X_train,0,1, axis=1)\n",
    "    thetas = []\n",
    "    classes = np.unique(y_train)\n",
    "    costs = []\n",
    "    print('Training ...')\n",
    "    m=len(y_train)\n",
    "    for c in classes:\n",
    "        yb=np.where(y_train==c,1,0)\n",
    "        theta = np.zeros(X_train.shape[1])\n",
    "        cost=np.zeros(itr)\n",
    "        for i in range(itr):\n",
    "            h=sigmoid(np.matmul(X_train,theta))\n",
    "            cost[i]= 1/m*np.sum(-yb * np.log(h) - (1 - yb) * np.log(1 - h))\n",
    "            error=h-yb\n",
    "            diff_cost= 1/m*np.matmul(error,X_train)\n",
    "            theta = theta - a*diff_cost\n",
    "\n",
    "        thetas.append(theta)\n",
    "        costs.append(cost)\n",
    "\n",
    "    return costs,thetas,classes "
   ]
  },
  {
   "cell_type": "markdown",
   "metadata": {},
   "source": [
    "### Predict function"
   ]
  },
  {
   "cell_type": "code",
   "execution_count": 66,
   "metadata": {},
   "outputs": [],
   "source": [
    "def predict(classes, thetas, x_test):\n",
    "    x_test = np.insert(x_test, 0, 1, axis=1)\n",
    "    preds = [np.argmax([sigmoid(xi @ theta) for theta in thetas]) for xi in x_test]\n",
    "#     print(preds)\n",
    "    return [classes[p] for p in preds]"
   ]
  },
  {
   "cell_type": "markdown",
   "metadata": {},
   "source": [
    "### Training data"
   ]
  },
  {
   "cell_type": "code",
   "execution_count": 63,
   "metadata": {},
   "outputs": [],
   "source": [
    "itr=2000\n",
    "a=0.01"
   ]
  },
  {
   "cell_type": "code",
   "execution_count": 70,
   "metadata": {},
   "outputs": [],
   "source": [
    "X_train, X_test = normalize(X_train,X_test)"
   ]
  },
  {
   "cell_type": "code",
   "execution_count": 72,
   "metadata": {},
   "outputs": [
    {
     "name": "stdout",
     "output_type": "stream",
     "text": [
      "Training ...\n"
     ]
    }
   ],
   "source": [
    "costs, thetas, classes=train(X_pca,y_train,itr,a)"
   ]
  },
  {
   "cell_type": "code",
   "execution_count": 73,
   "metadata": {},
   "outputs": [],
   "source": [
    "X_test=np.matmul(X_test,u[:,:200])"
   ]
  },
  {
   "cell_type": "code",
   "execution_count": 74,
   "metadata": {},
   "outputs": [
    {
     "name": "stdout",
     "output_type": "stream",
     "text": [
      "0.6538461538461539\n"
     ]
    },
    {
     "data": {
      "text/plain": [
       "[0,\n",
       " 5,\n",
       " 5,\n",
       " 4,\n",
       " 5,\n",
       " 1,\n",
       " 3,\n",
       " 1,\n",
       " 1,\n",
       " 3,\n",
       " 7,\n",
       " 7,\n",
       " 4,\n",
       " 3,\n",
       " 7,\n",
       " 6,\n",
       " 5,\n",
       " 3,\n",
       " 7,\n",
       " 6,\n",
       " 6,\n",
       " 6,\n",
       " 2,\n",
       " 7,\n",
       " 0,\n",
       " 3,\n",
       " 3,\n",
       " 7,\n",
       " 7,\n",
       " 3,\n",
       " 1,\n",
       " 1,\n",
       " 4,\n",
       " 2,\n",
       " 2,\n",
       " 3,\n",
       " 2,\n",
       " 5,\n",
       " 1,\n",
       " 4,\n",
       " 7,\n",
       " 3,\n",
       " 0,\n",
       " 0,\n",
       " 6,\n",
       " 4,\n",
       " 5,\n",
       " 7,\n",
       " 1,\n",
       " 7,\n",
       " 0,\n",
       " 4,\n",
       " 6,\n",
       " 1,\n",
       " 1,\n",
       " 7,\n",
       " 7,\n",
       " 7,\n",
       " 3,\n",
       " 2,\n",
       " 5,\n",
       " 4,\n",
       " 5,\n",
       " 3,\n",
       " 5,\n",
       " 1,\n",
       " 0,\n",
       " 4,\n",
       " 5,\n",
       " 6,\n",
       " 2,\n",
       " 6,\n",
       " 4,\n",
       " 6,\n",
       " 4,\n",
       " 6,\n",
       " 5,\n",
       " 2,\n",
       " 7,\n",
       " 1,\n",
       " 3,\n",
       " 4,\n",
       " 3,\n",
       " 7,\n",
       " 5,\n",
       " 3,\n",
       " 1,\n",
       " 2,\n",
       " 5,\n",
       " 0,\n",
       " 2,\n",
       " 0,\n",
       " 7,\n",
       " 3,\n",
       " 7,\n",
       " 3,\n",
       " 5,\n",
       " 6,\n",
       " 1,\n",
       " 3,\n",
       " 2,\n",
       " 6,\n",
       " 1,\n",
       " 7,\n",
       " 4,\n",
       " 1,\n",
       " 5,\n",
       " 5,\n",
       " 3,\n",
       " 0,\n",
       " 2,\n",
       " 0,\n",
       " 2,\n",
       " 5,\n",
       " 2,\n",
       " 0,\n",
       " 5,\n",
       " 4,\n",
       " 7,\n",
       " 0,\n",
       " 2,\n",
       " 6,\n",
       " 3,\n",
       " 6,\n",
       " 6,\n",
       " 6,\n",
       " 0,\n",
       " 0,\n",
       " 7,\n",
       " 4,\n",
       " 1,\n",
       " 7,\n",
       " 5,\n",
       " 0,\n",
       " 2,\n",
       " 3,\n",
       " 0,\n",
       " 1,\n",
       " 6,\n",
       " 2,\n",
       " 2,\n",
       " 6,\n",
       " 4,\n",
       " 5,\n",
       " 6,\n",
       " 7,\n",
       " 2,\n",
       " 4,\n",
       " 2,\n",
       " 7,\n",
       " 3,\n",
       " 0,\n",
       " 5,\n",
       " 6,\n",
       " 0,\n",
       " 0]"
      ]
     },
     "execution_count": 74,
     "metadata": {},
     "output_type": "execute_result"
    }
   ],
   "source": [
    "predicted_labels = predict(classes, thetas, X_test)\n",
    "print(metrics.accuracy_score(y_test,predicted_labels))\n",
    "predicted_labels"
   ]
  },
  {
   "cell_type": "code",
   "execution_count": 76,
   "metadata": {},
   "outputs": [
    {
     "name": "stdout",
     "output_type": "stream",
     "text": [
      "Confusion Matrix : \n",
      "\n",
      " [[13  1  1  1  0  2  2  1]\n",
      " [ 2 10  2  4  1  2  2  0]\n",
      " [ 1  1 13  0  1  0  5  0]\n",
      " [ 0  1  0 13  3  0  0  1]\n",
      " [ 1  1  0  0 11  2  1  2]\n",
      " [ 0  1  0  2  0 13  0  0]\n",
      " [ 2  2  2  0  0  2 10  0]\n",
      " [ 0  0  1  1  0  0  0 19]]\n",
      "\n",
      "Accuracy :  0.6538461538461539\n",
      "\n",
      "Precision :  0.6510423176707754\n",
      "\n",
      "Recall :  0.6598785800552105\n",
      "\n",
      "F1-Score :  0.6507975432511036\n",
      "\n",
      "Classification Report : \n",
      "               precision    recall  f1-score   support\n",
      "\n",
      "           0       0.68      0.62      0.65        21\n",
      "           1       0.59      0.43      0.50        23\n",
      "           2       0.68      0.62      0.65        21\n",
      "           3       0.62      0.72      0.67        18\n",
      "           4       0.69      0.61      0.65        18\n",
      "           5       0.62      0.81      0.70        16\n",
      "           6       0.50      0.56      0.53        18\n",
      "           7       0.83      0.90      0.86        21\n",
      "\n",
      "    accuracy                           0.65       156\n",
      "   macro avg       0.65      0.66      0.65       156\n",
      "weighted avg       0.65      0.65      0.65       156\n",
      "\n",
      "\n"
     ]
    }
   ],
   "source": [
    "calc_report_metrics(y_test,predicted_labels)"
   ]
  },
  {
   "cell_type": "code",
   "execution_count": null,
   "metadata": {},
   "outputs": [],
   "source": [
    "def plot_cost_graph(itr,costs):\n",
    "    x = [i for i in range(1,itr+1)]  \n",
    "    y = costs[0]\n",
    "\n",
    "    plt.plot(x, y) \n",
    "    plt.xlabel('No. of iterations') \n",
    "    plt.ylabel('cost')  \n",
    "    plt.title('Cost Graph') \n",
    "    plt.show() "
   ]
  },
  {
   "cell_type": "code",
   "execution_count": 75,
   "metadata": {},
   "outputs": [
    {
     "data": {
      "image/png": "[encoded data removed]",
      "text/plain": [
       "<Figure size 432x288 with 1 Axes>"
      ]
     },
     "metadata": {},
     "output_type": "display_data"
    }
   ],
   "source": [
    "plot_cost_graph(itr,costs)"
   ]
  }
 ],
 "metadata": {
  "kernelspec": {
   "display_name": "Python 3",
   "language": "python",
   "name": "python3"
  },
  "language_info": {
   "codemirror_mode": {
    "name": "ipython",
    "version": 3
   },
   "file_extension": ".py",
   "mimetype": "text/x-python",
   "name": "python",
   "nbconvert_exporter": "python",
   "pygments_lexer": "ipython3",
   "version": "3.6.9"
  }
 },
 "nbformat": 4,
 "nbformat_minor": 2
}
