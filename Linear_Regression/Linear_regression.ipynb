{
 "cells": [
  {
   "cell_type": "markdown",
   "metadata": {},
   "source": [
    "## Question 3 --- Linear Regression\n",
    "\n",
    "Importing the libraries first"
   ]
  },
  {
   "cell_type": "code",
   "execution_count": 1,
   "metadata": {},
   "outputs": [],
   "source": [
    "import numpy as np\n",
    "import pandas as pd\n",
    "from sklearn.metrics import mean_squared_error\n",
    "from sklearn.preprocessing import MinMaxScaler\n",
    "from sklearn.model_selection import train_test_split\n",
    "from sklearn.metrics import r2_score\n"
   ]
  },
  {
   "cell_type": "markdown",
   "metadata": {},
   "source": [
    "### Loading the dataset and Analyzing the data set"
   ]
  },
  {
   "cell_type": "code",
   "execution_count": 2,
   "metadata": {},
   "outputs": [
    {
     "data": {
      "text/html": [
       "<div>\n",
       "<style scoped>\n",
       "    .dataframe tbody tr th:only-of-type {\n",
       "        vertical-align: middle;\n",
       "    }\n",
       "\n",
       "    .dataframe tbody tr th {\n",
       "        vertical-align: top;\n",
       "    }\n",
       "\n",
       "    .dataframe thead th {\n",
       "        text-align: right;\n",
       "    }\n",
       "</style>\n",
       "<table border=\"1\" class=\"dataframe\">\n",
       "  <thead>\n",
       "    <tr style=\"text-align: right;\">\n",
       "      <th></th>\n",
       "      <th>0</th>\n",
       "      <th>1</th>\n",
       "      <th>2</th>\n",
       "      <th>3</th>\n",
       "      <th>4</th>\n",
       "      <th>5</th>\n",
       "    </tr>\n",
       "  </thead>\n",
       "  <tbody>\n",
       "    <tr>\n",
       "      <th>0</th>\n",
       "      <td>8000.0</td>\n",
       "      <td>4.0</td>\n",
       "      <td>0.2286</td>\n",
       "      <td>39.6</td>\n",
       "      <td>0.004738</td>\n",
       "      <td>113.129</td>\n",
       "    </tr>\n",
       "    <tr>\n",
       "      <th>1</th>\n",
       "      <td>6300.0</td>\n",
       "      <td>0.0</td>\n",
       "      <td>0.0508</td>\n",
       "      <td>55.5</td>\n",
       "      <td>0.000762</td>\n",
       "      <td>132.796</td>\n",
       "    </tr>\n",
       "    <tr>\n",
       "      <th>2</th>\n",
       "      <td>400.0</td>\n",
       "      <td>4.0</td>\n",
       "      <td>0.2286</td>\n",
       "      <td>55.5</td>\n",
       "      <td>0.004286</td>\n",
       "      <td>123.274</td>\n",
       "    </tr>\n",
       "    <tr>\n",
       "      <th>3</th>\n",
       "      <td>1250.0</td>\n",
       "      <td>15.4</td>\n",
       "      <td>0.0508</td>\n",
       "      <td>39.6</td>\n",
       "      <td>0.028259</td>\n",
       "      <td>126.743</td>\n",
       "    </tr>\n",
       "    <tr>\n",
       "      <th>4</th>\n",
       "      <td>800.0</td>\n",
       "      <td>7.3</td>\n",
       "      <td>0.2286</td>\n",
       "      <td>39.6</td>\n",
       "      <td>0.012348</td>\n",
       "      <td>126.299</td>\n",
       "    </tr>\n",
       "    <tr>\n",
       "      <th>...</th>\n",
       "      <td>...</td>\n",
       "      <td>...</td>\n",
       "      <td>...</td>\n",
       "      <td>...</td>\n",
       "      <td>...</td>\n",
       "      <td>...</td>\n",
       "    </tr>\n",
       "    <tr>\n",
       "      <th>1197</th>\n",
       "      <td>3150.0</td>\n",
       "      <td>5.4</td>\n",
       "      <td>0.1524</td>\n",
       "      <td>31.7</td>\n",
       "      <td>0.005255</td>\n",
       "      <td>118.291</td>\n",
       "    </tr>\n",
       "    <tr>\n",
       "      <th>1198</th>\n",
       "      <td>2500.0</td>\n",
       "      <td>19.7</td>\n",
       "      <td>0.0508</td>\n",
       "      <td>39.6</td>\n",
       "      <td>0.036484</td>\n",
       "      <td>116.184</td>\n",
       "    </tr>\n",
       "    <tr>\n",
       "      <th>1199</th>\n",
       "      <td>800.0</td>\n",
       "      <td>2.0</td>\n",
       "      <td>0.2286</td>\n",
       "      <td>55.5</td>\n",
       "      <td>0.003135</td>\n",
       "      <td>128.492</td>\n",
       "    </tr>\n",
       "    <tr>\n",
       "      <th>1200</th>\n",
       "      <td>3150.0</td>\n",
       "      <td>3.3</td>\n",
       "      <td>0.1016</td>\n",
       "      <td>71.3</td>\n",
       "      <td>0.002028</td>\n",
       "      <td>132.114</td>\n",
       "    </tr>\n",
       "    <tr>\n",
       "      <th>1201</th>\n",
       "      <td>630.0</td>\n",
       "      <td>4.0</td>\n",
       "      <td>0.3048</td>\n",
       "      <td>39.6</td>\n",
       "      <td>0.005796</td>\n",
       "      <td>131.073</td>\n",
       "    </tr>\n",
       "  </tbody>\n",
       "</table>\n",
       "<p>1202 rows × 6 columns</p>\n",
       "</div>"
      ],
      "text/plain": [
       "           0     1       2     3         4        5\n",
       "0     8000.0   4.0  0.2286  39.6  0.004738  113.129\n",
       "1     6300.0   0.0  0.0508  55.5  0.000762  132.796\n",
       "2      400.0   4.0  0.2286  55.5  0.004286  123.274\n",
       "3     1250.0  15.4  0.0508  39.6  0.028259  126.743\n",
       "4      800.0   7.3  0.2286  39.6  0.012348  126.299\n",
       "...      ...   ...     ...   ...       ...      ...\n",
       "1197  3150.0   5.4  0.1524  31.7  0.005255  118.291\n",
       "1198  2500.0  19.7  0.0508  39.6  0.036484  116.184\n",
       "1199   800.0   2.0  0.2286  55.5  0.003135  128.492\n",
       "1200  3150.0   3.3  0.1016  71.3  0.002028  132.114\n",
       "1201   630.0   4.0  0.3048  39.6  0.005796  131.073\n",
       "\n",
       "[1202 rows x 6 columns]"
      ]
     },
     "execution_count": 2,
     "metadata": {},
     "output_type": "execute_result"
    }
   ],
   "source": [
    "dataset=pd.read_csv(\"Datasets/Question-3/airfoil.csv\",header=None)\n",
    "dataset"
   ]
  },
  {
   "cell_type": "code",
   "execution_count": 3,
   "metadata": {},
   "outputs": [
    {
     "data": {
      "text/html": [
       "<div>\n",
       "<style scoped>\n",
       "    .dataframe tbody tr th:only-of-type {\n",
       "        vertical-align: middle;\n",
       "    }\n",
       "\n",
       "    .dataframe tbody tr th {\n",
       "        vertical-align: top;\n",
       "    }\n",
       "\n",
       "    .dataframe thead th {\n",
       "        text-align: right;\n",
       "    }\n",
       "</style>\n",
       "<table border=\"1\" class=\"dataframe\">\n",
       "  <thead>\n",
       "    <tr style=\"text-align: right;\">\n",
       "      <th></th>\n",
       "      <th>0</th>\n",
       "      <th>1</th>\n",
       "      <th>2</th>\n",
       "      <th>3</th>\n",
       "      <th>4</th>\n",
       "      <th>5</th>\n",
       "    </tr>\n",
       "  </thead>\n",
       "  <tbody>\n",
       "    <tr>\n",
       "      <th>count</th>\n",
       "      <td>1202.000000</td>\n",
       "      <td>1202.000000</td>\n",
       "      <td>1202.000000</td>\n",
       "      <td>1202.000000</td>\n",
       "      <td>1202.000000</td>\n",
       "      <td>1202.000000</td>\n",
       "    </tr>\n",
       "    <tr>\n",
       "      <th>mean</th>\n",
       "      <td>2938.061564</td>\n",
       "      <td>6.657654</td>\n",
       "      <td>0.139996</td>\n",
       "      <td>50.829201</td>\n",
       "      <td>0.010967</td>\n",
       "      <td>124.726941</td>\n",
       "    </tr>\n",
       "    <tr>\n",
       "      <th>std</th>\n",
       "      <td>3180.433353</td>\n",
       "      <td>5.800597</td>\n",
       "      <td>0.094807</td>\n",
       "      <td>15.540260</td>\n",
       "      <td>0.013082</td>\n",
       "      <td>6.968144</td>\n",
       "    </tr>\n",
       "    <tr>\n",
       "      <th>min</th>\n",
       "      <td>200.000000</td>\n",
       "      <td>0.000000</td>\n",
       "      <td>0.025400</td>\n",
       "      <td>31.700000</td>\n",
       "      <td>0.000401</td>\n",
       "      <td>103.380000</td>\n",
       "    </tr>\n",
       "    <tr>\n",
       "      <th>25%</th>\n",
       "      <td>800.000000</td>\n",
       "      <td>2.000000</td>\n",
       "      <td>0.050800</td>\n",
       "      <td>39.600000</td>\n",
       "      <td>0.002535</td>\n",
       "      <td>120.100000</td>\n",
       "    </tr>\n",
       "    <tr>\n",
       "      <th>50%</th>\n",
       "      <td>1600.000000</td>\n",
       "      <td>5.300000</td>\n",
       "      <td>0.101600</td>\n",
       "      <td>39.600000</td>\n",
       "      <td>0.004957</td>\n",
       "      <td>125.726500</td>\n",
       "    </tr>\n",
       "    <tr>\n",
       "      <th>75%</th>\n",
       "      <td>4000.000000</td>\n",
       "      <td>9.900000</td>\n",
       "      <td>0.228600</td>\n",
       "      <td>71.300000</td>\n",
       "      <td>0.014072</td>\n",
       "      <td>129.936250</td>\n",
       "    </tr>\n",
       "    <tr>\n",
       "      <th>max</th>\n",
       "      <td>20000.000000</td>\n",
       "      <td>22.200000</td>\n",
       "      <td>0.304800</td>\n",
       "      <td>71.300000</td>\n",
       "      <td>0.058411</td>\n",
       "      <td>140.987000</td>\n",
       "    </tr>\n",
       "  </tbody>\n",
       "</table>\n",
       "</div>"
      ],
      "text/plain": [
       "                  0            1            2            3            4  \\\n",
       "count   1202.000000  1202.000000  1202.000000  1202.000000  1202.000000   \n",
       "mean    2938.061564     6.657654     0.139996    50.829201     0.010967   \n",
       "std     3180.433353     5.800597     0.094807    15.540260     0.013082   \n",
       "min      200.000000     0.000000     0.025400    31.700000     0.000401   \n",
       "25%      800.000000     2.000000     0.050800    39.600000     0.002535   \n",
       "50%     1600.000000     5.300000     0.101600    39.600000     0.004957   \n",
       "75%     4000.000000     9.900000     0.228600    71.300000     0.014072   \n",
       "max    20000.000000    22.200000     0.304800    71.300000     0.058411   \n",
       "\n",
       "                 5  \n",
       "count  1202.000000  \n",
       "mean    124.726941  \n",
       "std       6.968144  \n",
       "min     103.380000  \n",
       "25%     120.100000  \n",
       "50%     125.726500  \n",
       "75%     129.936250  \n",
       "max     140.987000  "
      ]
     },
     "execution_count": 3,
     "metadata": {},
     "output_type": "execute_result"
    }
   ],
   "source": [
    "dataset.describe()"
   ]
  },
  {
   "attachments": {
    "image.png": {
     "image/png": "[encoded data removed]"
    }
   },
   "cell_type": "markdown",
   "metadata": {},
   "source": [
    "### Linear Regression\n",
    "\n",
    "![image.png](attachment:image.png)"
   ]
  },
  {
   "attachments": {
    "image.png": {
     "image/png": "[encoded data removed]"
    }
   },
   "cell_type": "markdown",
   "metadata": {},
   "source": [
    "### Error\n",
    "\n",
    "![image.png](attachment:image.png)\n"
   ]
  },
  {
   "attachments": {
    "image.png": {
     "image/png": "[encoded data removed]"
    }
   },
   "cell_type": "markdown",
   "metadata": {},
   "source": [
    "### Cost Function\n",
    "\n",
    "A Cost Function/Loss Function evaluates the performance of our Machine Learning Algorithm.\n",
    "\n",
    "A Cost function basically tells us ‘ how good’ our model is at making predictions for a given value of parameters(thetas).\n",
    "\n",
    "![image.png](attachment:image.png)\n",
    "\n",
    "### Minimizing the Cost Function\n",
    "\n",
    "The goal of any Machine Learning Algorithm is to minimize the Cost Function.\n",
    "\n"
   ]
  },
  {
   "attachments": {
    "image.png": {
     "image/png": "[encoded data removed]"
    }
   },
   "cell_type": "markdown",
   "metadata": {},
   "source": [
    "### Gradient Descent\n",
    "\n",
    "#### Algorithm:\n",
    "\n",
    "Repeat until converges\n",
    "<br>\n",
    "{\n",
    "<br>\n",
    "$\\;\\;\\;\\;\\;\\;$ for j=0 and j=n:\n",
    "<br>\n",
    "$\\;\\;\\;\\;\\;\\;$ $θj=θj − α \\frac{∂}{∂θj}J(θ)$\n",
    "<br>\n",
    "}\n",
    "\n",
    "#### α is the learning rate, value that specifies how small are steps we take\n",
    "\n",
    "\n",
    "#### Simultaneous Update\n",
    "\n",
    "Note that the update for $(θ0,θ1)$ has to be simultaneous. That is \n",
    "<br>\n",
    "$τ0=θ0−α\\frac{∂}{∂θ0}J(θ)$\n",
    "<br>\n",
    "$τ1=θ1−α\\frac{∂}{∂θ0}J(θ)$\n",
    "<br>\n",
    "$θ0=τ0$\n",
    "<br>\n",
    "$θ1=τ1$\n",
    "<br>\n",
    "As you see, $θ0$\n",
    "is used to calculate new value for $θ1$, so we cannot update it before we calculate new value for $θ0$\n",
    "\n",
    "This is called simultaneous update \n",
    "\n",
    "\n",
    "![image.png](attachment:image.png)"
   ]
  },
  {
   "cell_type": "code",
   "execution_count": 4,
   "metadata": {},
   "outputs": [],
   "source": [
    "def gradientDescent(X, y, theta, iterations, a):\n",
    "    past_costs = []\n",
    "    past_thetas = [theta]\n",
    "    theta=theta.T\n",
    "    y=y.reshape(len(y),1)\n",
    "    print(theta.shape)\n",
    "    print(y.shape)\n",
    "    print(X.shape)\n",
    "    m=X.shape[0]\n",
    "    for i in range(iterations):\n",
    "        prediction = np.dot(X, theta)\n",
    "#         print(prediction[0])\n",
    "        error = prediction - y\n",
    "#         print(error[0])\n",
    "        cost = 1/(2*m) * np.dot(error.T, error)\n",
    "        past_costs.append(cost)\n",
    "        theta = theta - (a * (1/m) * np.dot(X.T, error))\n",
    "#         print(theta)\n",
    "        past_thetas.append(theta)\n",
    "        \n",
    "    return past_thetas, past_costs"
   ]
  },
  {
   "cell_type": "markdown",
   "metadata": {},
   "source": [
    "### Dividing dataset into data and labels"
   ]
  },
  {
   "cell_type": "code",
   "execution_count": 5,
   "metadata": {},
   "outputs": [
    {
     "data": {
      "text/html": [
       "<div>\n",
       "<style scoped>\n",
       "    .dataframe tbody tr th:only-of-type {\n",
       "        vertical-align: middle;\n",
       "    }\n",
       "\n",
       "    .dataframe tbody tr th {\n",
       "        vertical-align: top;\n",
       "    }\n",
       "\n",
       "    .dataframe thead th {\n",
       "        text-align: right;\n",
       "    }\n",
       "</style>\n",
       "<table border=\"1\" class=\"dataframe\">\n",
       "  <thead>\n",
       "    <tr style=\"text-align: right;\">\n",
       "      <th></th>\n",
       "      <th>0</th>\n",
       "      <th>1</th>\n",
       "      <th>2</th>\n",
       "      <th>3</th>\n",
       "      <th>4</th>\n",
       "    </tr>\n",
       "  </thead>\n",
       "  <tbody>\n",
       "    <tr>\n",
       "      <th>0</th>\n",
       "      <td>8000.0</td>\n",
       "      <td>4.0</td>\n",
       "      <td>0.2286</td>\n",
       "      <td>39.6</td>\n",
       "      <td>0.004738</td>\n",
       "    </tr>\n",
       "    <tr>\n",
       "      <th>1</th>\n",
       "      <td>6300.0</td>\n",
       "      <td>0.0</td>\n",
       "      <td>0.0508</td>\n",
       "      <td>55.5</td>\n",
       "      <td>0.000762</td>\n",
       "    </tr>\n",
       "    <tr>\n",
       "      <th>2</th>\n",
       "      <td>400.0</td>\n",
       "      <td>4.0</td>\n",
       "      <td>0.2286</td>\n",
       "      <td>55.5</td>\n",
       "      <td>0.004286</td>\n",
       "    </tr>\n",
       "    <tr>\n",
       "      <th>3</th>\n",
       "      <td>1250.0</td>\n",
       "      <td>15.4</td>\n",
       "      <td>0.0508</td>\n",
       "      <td>39.6</td>\n",
       "      <td>0.028259</td>\n",
       "    </tr>\n",
       "    <tr>\n",
       "      <th>4</th>\n",
       "      <td>800.0</td>\n",
       "      <td>7.3</td>\n",
       "      <td>0.2286</td>\n",
       "      <td>39.6</td>\n",
       "      <td>0.012348</td>\n",
       "    </tr>\n",
       "    <tr>\n",
       "      <th>...</th>\n",
       "      <td>...</td>\n",
       "      <td>...</td>\n",
       "      <td>...</td>\n",
       "      <td>...</td>\n",
       "      <td>...</td>\n",
       "    </tr>\n",
       "    <tr>\n",
       "      <th>1197</th>\n",
       "      <td>3150.0</td>\n",
       "      <td>5.4</td>\n",
       "      <td>0.1524</td>\n",
       "      <td>31.7</td>\n",
       "      <td>0.005255</td>\n",
       "    </tr>\n",
       "    <tr>\n",
       "      <th>1198</th>\n",
       "      <td>2500.0</td>\n",
       "      <td>19.7</td>\n",
       "      <td>0.0508</td>\n",
       "      <td>39.6</td>\n",
       "      <td>0.036484</td>\n",
       "    </tr>\n",
       "    <tr>\n",
       "      <th>1199</th>\n",
       "      <td>800.0</td>\n",
       "      <td>2.0</td>\n",
       "      <td>0.2286</td>\n",
       "      <td>55.5</td>\n",
       "      <td>0.003135</td>\n",
       "    </tr>\n",
       "    <tr>\n",
       "      <th>1200</th>\n",
       "      <td>3150.0</td>\n",
       "      <td>3.3</td>\n",
       "      <td>0.1016</td>\n",
       "      <td>71.3</td>\n",
       "      <td>0.002028</td>\n",
       "    </tr>\n",
       "    <tr>\n",
       "      <th>1201</th>\n",
       "      <td>630.0</td>\n",
       "      <td>4.0</td>\n",
       "      <td>0.3048</td>\n",
       "      <td>39.6</td>\n",
       "      <td>0.005796</td>\n",
       "    </tr>\n",
       "  </tbody>\n",
       "</table>\n",
       "<p>1202 rows × 5 columns</p>\n",
       "</div>"
      ],
      "text/plain": [
       "           0     1       2     3         4\n",
       "0     8000.0   4.0  0.2286  39.6  0.004738\n",
       "1     6300.0   0.0  0.0508  55.5  0.000762\n",
       "2      400.0   4.0  0.2286  55.5  0.004286\n",
       "3     1250.0  15.4  0.0508  39.6  0.028259\n",
       "4      800.0   7.3  0.2286  39.6  0.012348\n",
       "...      ...   ...     ...   ...       ...\n",
       "1197  3150.0   5.4  0.1524  31.7  0.005255\n",
       "1198  2500.0  19.7  0.0508  39.6  0.036484\n",
       "1199   800.0   2.0  0.2286  55.5  0.003135\n",
       "1200  3150.0   3.3  0.1016  71.3  0.002028\n",
       "1201   630.0   4.0  0.3048  39.6  0.005796\n",
       "\n",
       "[1202 rows x 5 columns]"
      ]
     },
     "execution_count": 5,
     "metadata": {},
     "output_type": "execute_result"
    }
   ],
   "source": [
    "X = dataset[[0,1,2,3,4]]\n",
    "y = dataset[5]\n",
    "X"
   ]
  },
  {
   "cell_type": "code",
   "execution_count": 6,
   "metadata": {},
   "outputs": [
    {
     "data": {
      "text/plain": [
       "array([[8.00000e+03, 4.00000e+00, 2.28600e-01, 3.96000e+01, 4.73801e-03],\n",
       "       [6.30000e+03, 0.00000e+00, 5.08000e-02, 5.55000e+01, 7.61930e-04],\n",
       "       [4.00000e+02, 4.00000e+00, 2.28600e-01, 5.55000e+01, 4.28620e-03],\n",
       "       ...,\n",
       "       [8.00000e+02, 2.00000e+00, 2.28600e-01, 5.55000e+01, 3.13525e-03],\n",
       "       [3.15000e+03, 3.30000e+00, 1.01600e-01, 7.13000e+01, 2.02822e-03],\n",
       "       [6.30000e+02, 4.00000e+00, 3.04800e-01, 3.96000e+01, 5.79636e-03]])"
      ]
     },
     "execution_count": 6,
     "metadata": {},
     "output_type": "execute_result"
    }
   ],
   "source": [
    "X=X.values\n",
    "y=y.values\n",
    "X\n",
    "    "
   ]
  },
  {
   "cell_type": "markdown",
   "metadata": {},
   "source": [
    "### Normalizing the data using MinMaxScaler"
   ]
  },
  {
   "cell_type": "code",
   "execution_count": 7,
   "metadata": {},
   "outputs": [],
   "source": [
    "model=MinMaxScaler()\n",
    "X_minmax = model.fit_transform(X)"
   ]
  },
  {
   "cell_type": "markdown",
   "metadata": {},
   "source": [
    "### Splitting the dataset into train and test"
   ]
  },
  {
   "cell_type": "code",
   "execution_count": 8,
   "metadata": {},
   "outputs": [],
   "source": [
    "X_train, X_test, y_train, y_test = train_test_split(X_minmax, y, test_size=0.2, random_state=0)"
   ]
  },
  {
   "cell_type": "markdown",
   "metadata": {},
   "source": [
    "### Adding ones column to the dataset for the constant term "
   ]
  },
  {
   "cell_type": "code",
   "execution_count": 9,
   "metadata": {},
   "outputs": [],
   "source": [
    "one_array=np.ones((X_train.shape[0],1), dtype=float)\n",
    "X_train=np.append(one_array,X_train,axis=1)\n",
    "one_array=np.ones((X_test.shape[0],1), dtype=float)\n",
    "X_test=np.append(one_array,X_test,axis=1)"
   ]
  },
  {
   "cell_type": "markdown",
   "metadata": {},
   "source": [
    "### Initializing the theta and applying the gradient descent "
   ]
  },
  {
   "cell_type": "code",
   "execution_count": 10,
   "metadata": {},
   "outputs": [
    {
     "name": "stdout",
     "output_type": "stream",
     "text": [
      "(6, 1)\n",
      "(961, 1)\n",
      "(961, 6)\n",
      "Mean Squared Error train: 24.038404099737075\n",
      "r2 score : 0.5065771046158994\n",
      "Mean Squared Error test: 19.01525332857586\n",
      "r2 score : 0.60137402241266\n"
     ]
    }
   ],
   "source": [
    "theta = [[1,0,0,0,1,1]]\n",
    "theta=np.array(theta)\n",
    "\n",
    "a=1\n",
    "past_thetas, past_costs = gradientDescent(X_train, y_train, theta, 10000, a)\n",
    "theta = past_thetas[-1]\n",
    "print('Mean Squared Error train:', mean_squared_error(y_train,X_train.dot(theta)))\n",
    "print('r2 score :', r2_score(y_train,X_train.dot(theta)))\n",
    "print('Mean Squared Error test:', mean_squared_error(y_test,X_test.dot(theta)))\n",
    "print('r2 score :', r2_score(y_test,X_test.dot(theta)))"
   ]
  },
  {
   "cell_type": "markdown",
   "metadata": {},
   "source": [
    "### Plotting the graph between cost and iterations"
   ]
  },
  {
   "cell_type": "markdown",
   "metadata": {},
   "source": [
    "### a=0.01 and theta=[0,0,0,0,0,0]"
   ]
  },
  {
   "cell_type": "code",
   "execution_count": 19,
   "metadata": {},
   "outputs": [
    {
     "name": "stdout",
     "output_type": "stream",
     "text": [
      "(6, 1)\n",
      "(961, 1)\n",
      "(961, 6)\n"
     ]
    }
   ],
   "source": [
    "theta = [[0,0,0,0,0,0]]\n",
    "theta=np.array(theta)\n",
    "\n",
    "a=0.01\n",
    "past_thetas, past_costs1 = gradientDescent(X_train, y_train, theta, 10000, a)\n",
    "theta = past_thetas[-1]"
   ]
  },
  {
   "cell_type": "markdown",
   "metadata": {},
   "source": [
    "### a=0.01 and theta=[1,0,1,0,1,0]"
   ]
  },
  {
   "cell_type": "code",
   "execution_count": 20,
   "metadata": {},
   "outputs": [
    {
     "name": "stdout",
     "output_type": "stream",
     "text": [
      "(6, 1)\n",
      "(961, 1)\n",
      "(961, 6)\n"
     ]
    }
   ],
   "source": [
    "theta = [[1,0,1,0,1,0]]\n",
    "theta=np.array(theta)\n",
    "\n",
    "a=0.01\n",
    "past_thetas, past_costs2 = gradientDescent(X_train, y_train, theta, 10000, a)\n",
    "theta = past_thetas[-1]"
   ]
  },
  {
   "cell_type": "markdown",
   "metadata": {},
   "source": [
    "### a=0.01 and theta=[2,3,3,4,2,1]"
   ]
  },
  {
   "cell_type": "code",
   "execution_count": 21,
   "metadata": {},
   "outputs": [
    {
     "name": "stdout",
     "output_type": "stream",
     "text": [
      "(6, 1)\n",
      "(961, 1)\n",
      "(961, 6)\n"
     ]
    }
   ],
   "source": [
    "theta = [[2,3,3,4,2,1]]\n",
    "theta=np.array(theta)\n",
    "\n",
    "a=0.01\n",
    "past_thetas, past_costs3 = gradientDescent(X_train, y_train, theta, 10000, a)\n",
    "theta = past_thetas[-1]"
   ]
  },
  {
   "cell_type": "code",
   "execution_count": 22,
   "metadata": {},
   "outputs": [
    {
     "name": "stdout",
     "output_type": "stream",
     "text": [
      "[7801.2083817  7564.69863048 7335.57589298 ...   13.26768461   13.26733346\n",
      "   13.26698243]\n",
      "[7580.71689732 7351.14229563 7128.73765567 ...   13.28639309   13.28603912\n",
      "   13.28568528]\n",
      "[7066.14843554 6852.97447104 6646.45725286 ...   13.42955006   13.4291558\n",
      "   13.42876167]\n"
     ]
    },
    {
     "data": {
      "image/png": "[encoded data removed]",
      "text/plain": [
       "<Figure size 432x288 with 1 Axes>"
      ]
     },
     "metadata": {},
     "output_type": "display_data"
    }
   ],
   "source": [
    "import matplotlib.pyplot as plt \n",
    "\n",
    "x1 = [i for i in range(len(past_costs))] \n",
    "y1=np.array(past_costs1).ravel()\n",
    "print(y1)\n",
    "\n",
    "x2 = [i for i in range(len(past_costs))] \n",
    "y2=np.array(past_costs2).ravel()\n",
    "print(y2)\n",
    "\n",
    "x3 = [i for i in range(len(past_costs))] \n",
    "y3=np.array(past_costs3).ravel()\n",
    "print(y3)\n",
    "  \n",
    "# plotting the points  \n",
    "plt.plot(x1, y1) \n",
    "plt.plot(x2, y2) \n",
    "plt.plot(x3, y3) \n",
    "\n",
    "plt.legend(['theta=[0,0,0,0,0,0]','theta=[1,1,0,0,1,0]','theta=[2,3,3,4,2,1]'],loc='upper right')\n",
    "\n",
    "# naming the x axis \n",
    "plt.xlabel(' No. of Iterations ') \n",
    "# naming the y axis \n",
    "plt.ylabel(' cost function ') \n",
    "  \n",
    "# giving a title to my graph \n",
    "plt.title(' cost vs iterations, a=0.01') \n",
    "  \n",
    "# function to show the plot \n",
    "plt.show() "
   ]
  },
  {
   "cell_type": "markdown",
   "metadata": {},
   "source": [
    "### a=0.001 and theta=[3,4,4,3,2,4]"
   ]
  },
  {
   "cell_type": "code",
   "execution_count": 15,
   "metadata": {},
   "outputs": [
    {
     "name": "stdout",
     "output_type": "stream",
     "text": [
      "(6, 1)\n",
      "(961, 1)\n",
      "(961, 6)\n"
     ]
    }
   ],
   "source": [
    "theta = [[0,0,0,0,0,0]]\n",
    "theta=np.array(theta)\n",
    "\n",
    "a=0.001\n",
    "past_thetas, past_costs1 = gradientDescent(X_train, y_train, theta, 10000, a)\n",
    "theta = past_thetas[-1]"
   ]
  },
  {
   "cell_type": "markdown",
   "metadata": {},
   "source": [
    "### a=0.01 and theta=[3,4,4,3,2,4]"
   ]
  },
  {
   "cell_type": "code",
   "execution_count": 16,
   "metadata": {},
   "outputs": [
    {
     "name": "stdout",
     "output_type": "stream",
     "text": [
      "(6, 1)\n",
      "(961, 1)\n",
      "(961, 6)\n"
     ]
    }
   ],
   "source": [
    "theta = [[1,0,1,0,1,0]]\n",
    "theta=np.array(theta)\n",
    "\n",
    "a=0.01\n",
    "past_thetas, past_costs2 = gradientDescent(X_train, y_train, theta, 10000, a)\n",
    "theta = past_thetas[-1]"
   ]
  },
  {
   "cell_type": "markdown",
   "metadata": {},
   "source": [
    "### a=0.1 and theta=[3,4,4,3,2,4]"
   ]
  },
  {
   "cell_type": "code",
   "execution_count": 17,
   "metadata": {},
   "outputs": [
    {
     "name": "stdout",
     "output_type": "stream",
     "text": [
      "(6, 1)\n",
      "(961, 1)\n",
      "(961, 6)\n"
     ]
    }
   ],
   "source": [
    "theta = [[2,3,3,4,2,1]]\n",
    "theta=np.array(theta)\n",
    "\n",
    "a=0.1\n",
    "past_thetas, past_costs3 = gradientDescent(X_train, y_train, theta, 10000, a)\n",
    "theta = past_thetas[-1]"
   ]
  },
  {
   "cell_type": "code",
   "execution_count": 18,
   "metadata": {},
   "outputs": [
    {
     "name": "stdout",
     "output_type": "stream",
     "text": [
      "[7801.2083817  7777.38854747 7753.64364348 ...   79.87439566   79.86773828\n",
      "   79.86108186]\n",
      "[7580.71689732 7351.14229563 7128.73765567 ...   13.28639309   13.28603912\n",
      "   13.28568528]\n",
      "[7066.14843554 5086.57474929 3680.89041314 ...   12.01920207   12.01920207\n",
      "   12.01920207]\n"
     ]
    },
    {
     "data": {
      "image/png": "[encoded data removed]",
      "text/plain": [
       "<Figure size 432x288 with 1 Axes>"
      ]
     },
     "metadata": {},
     "output_type": "display_data"
    }
   ],
   "source": [
    "import matplotlib.pyplot as plt \n",
    "\n",
    "x1 = [i for i in range(len(past_costs))] \n",
    "y1=np.array(past_costs1).ravel()\n",
    "print(y1)\n",
    "\n",
    "x2 = [i for i in range(len(past_costs))] \n",
    "y2=np.array(past_costs2).ravel()\n",
    "print(y2)\n",
    "\n",
    "x3 = [i for i in range(len(past_costs))] \n",
    "y3=np.array(past_costs3).ravel()\n",
    "print(y3)\n",
    "  \n",
    "# plotting the points  \n",
    "plt.plot(x1, y1) \n",
    "plt.plot(x2, y2) \n",
    "plt.plot(x3, y3)\n",
    "\n",
    "plt.legend(['a=0.001','a=0.01','a=0.1'],loc='upper right')\n",
    "# naming the x axis \n",
    "plt.xlabel(' No. of Iterations ') \n",
    "# naming the y axis \n",
    "plt.ylabel(' cost function ') \n",
    "  \n",
    "# giving a title to my graph \n",
    "plt.title(' cost vs iterations, theta=[3,4,4,3,2,4]') \n",
    "  \n",
    "# function to show the plot \n",
    "plt.show() "
   ]
  },
  {
   "cell_type": "markdown",
   "metadata": {},
   "source": [
    "If we want to apply regression on some dataset but one of it’s features has missing\n",
    "values under below given conditions : \n",
    "\n",
    "### (a) When 0-0.5% of values are missing of that feature\n",
    "\n",
    "Ans(a) I will fill it with mean if data is numerical and with mode if data is categorical or we can drop the row corresponding to that feature.\n",
    "\n",
    "### (b) When 8-10% of values are missing of that feature\n",
    "\n",
    "Ans(b) In this case, I will fill it with mean (numerical data) and mode (categorical data). \n",
    "\n",
    "### (c) When 60-70% of values are missing of that feature\n",
    "\n",
    "Ans(c) I will drop that feature or column because I can't fill it with mean and mode.\n"
   ]
  },
  {
   "cell_type": "code",
   "execution_count": null,
   "metadata": {},
   "outputs": [],
   "source": []
  }
 ],
 "metadata": {
  "kernelspec": {
   "display_name": "Python 3",
   "language": "python",
   "name": "python3"
  },
  "language_info": {
   "codemirror_mode": {
    "name": "ipython",
    "version": 3
   },
   "file_extension": ".py",
   "mimetype": "text/x-python",
   "name": "python",
   "nbconvert_exporter": "python",
   "pygments_lexer": "ipython3",
   "version": "3.6.9"
  }
 },
 "nbformat": 4,
 "nbformat_minor": 2
}
