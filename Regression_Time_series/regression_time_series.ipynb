{
 "cells": [
  {
   "cell_type": "code",
   "execution_count": 3,
   "metadata": {
    "colab": {
     "base_uri": "https://localhost:8080/",
     "height": 34
    },
    "colab_type": "code",
    "id": "1P2Wjlqdxj1g",
    "outputId": "c4f6d306-e677-43e2-a303-be435e256ce0"
   },
   "outputs": [
    {
     "name": "stdout",
     "output_type": "stream",
     "text": [
      "Drive already mounted at /content/drive; to attempt to forcibly remount, call drive.mount(\"/content/drive\", force_remount=True).\n"
     ]
    }
   ],
   "source": [
    "from google.colab import drive\n",
    "drive.mount('/content/drive')"
   ]
  },
  {
   "cell_type": "markdown",
   "metadata": {},
   "source": [
    "# Question 4 :  Regression\n",
    "\n",
    "            Regression is a technique used to model and analyze the relationships between variables and often times how they contribute and are related to producing a particular outcome together. A linear regression refers to a regression model that is completely made up of linear variables.\n",
    "\n",
    "\n",
    "###  Importing the required libraries"
   ]
  },
  {
   "cell_type": "code",
   "execution_count": 0,
   "metadata": {
    "colab": {},
    "colab_type": "code",
    "id": "p0kdC0uv0BKV"
   },
   "outputs": [],
   "source": [
    "import numpy as np\n",
    "import pandas as pd\n",
    "import matplotlib.pyplot as plt"
   ]
  },
  {
   "cell_type": "markdown",
   "metadata": {},
   "source": [
    "### Reading the dataset"
   ]
  },
  {
   "cell_type": "code",
   "execution_count": 5,
   "metadata": {
    "colab": {
     "base_uri": "https://localhost:8080/",
     "height": 34
    },
    "colab_type": "code",
    "id": "0bTmMNCP0TrA",
    "outputId": "1076a808-5ac0-4c5b-90e8-d52ea9b4729d"
   },
   "outputs": [
    {
     "name": "stdout",
     "output_type": "stream",
     "text": [
      "(2075259, 7)\n"
     ]
    }
   ],
   "source": [
    "dataset = pd.read_csv('/content/drive/My Drive/household_power_consumption.txt', sep=';', header=0, low_memory=False, infer_datetime_format=True, parse_dates={'datetime':[0,1]}, index_col=['datetime'])\n",
    "print(dataset.shape)\n"
   ]
  },
  {
   "cell_type": "code",
   "execution_count": 7,
   "metadata": {
    "colab": {
     "base_uri": "https://localhost:8080/",
     "height": 455
    },
    "colab_type": "code",
    "id": "eV27KYpu1sSG",
    "outputId": "79e79269-877c-4523-f8e1-cf151628b5ac"
   },
   "outputs": [
    {
     "data": {
      "text/html": [
       "<div>\n",
       "<style scoped>\n",
       "    .dataframe tbody tr th:only-of-type {\n",
       "        vertical-align: middle;\n",
       "    }\n",
       "\n",
       "    .dataframe tbody tr th {\n",
       "        vertical-align: top;\n",
       "    }\n",
       "\n",
       "    .dataframe thead th {\n",
       "        text-align: right;\n",
       "    }\n",
       "</style>\n",
       "<table border=\"1\" class=\"dataframe\">\n",
       "  <thead>\n",
       "    <tr style=\"text-align: right;\">\n",
       "      <th></th>\n",
       "      <th>Global_active_power</th>\n",
       "      <th>Global_reactive_power</th>\n",
       "      <th>Voltage</th>\n",
       "      <th>Global_intensity</th>\n",
       "      <th>Sub_metering_1</th>\n",
       "      <th>Sub_metering_2</th>\n",
       "      <th>Sub_metering_3</th>\n",
       "    </tr>\n",
       "    <tr>\n",
       "      <th>datetime</th>\n",
       "      <th></th>\n",
       "      <th></th>\n",
       "      <th></th>\n",
       "      <th></th>\n",
       "      <th></th>\n",
       "      <th></th>\n",
       "      <th></th>\n",
       "    </tr>\n",
       "  </thead>\n",
       "  <tbody>\n",
       "    <tr>\n",
       "      <th>2006-12-16 17:24:00</th>\n",
       "      <td>4.216</td>\n",
       "      <td>0.418</td>\n",
       "      <td>234.840</td>\n",
       "      <td>18.400</td>\n",
       "      <td>0.000</td>\n",
       "      <td>1.000</td>\n",
       "      <td>17.0</td>\n",
       "    </tr>\n",
       "    <tr>\n",
       "      <th>2006-12-16 17:25:00</th>\n",
       "      <td>5.360</td>\n",
       "      <td>0.436</td>\n",
       "      <td>233.630</td>\n",
       "      <td>23.000</td>\n",
       "      <td>0.000</td>\n",
       "      <td>1.000</td>\n",
       "      <td>16.0</td>\n",
       "    </tr>\n",
       "    <tr>\n",
       "      <th>2006-12-16 17:26:00</th>\n",
       "      <td>5.374</td>\n",
       "      <td>0.498</td>\n",
       "      <td>233.290</td>\n",
       "      <td>23.000</td>\n",
       "      <td>0.000</td>\n",
       "      <td>2.000</td>\n",
       "      <td>17.0</td>\n",
       "    </tr>\n",
       "    <tr>\n",
       "      <th>2006-12-16 17:27:00</th>\n",
       "      <td>5.388</td>\n",
       "      <td>0.502</td>\n",
       "      <td>233.740</td>\n",
       "      <td>23.000</td>\n",
       "      <td>0.000</td>\n",
       "      <td>1.000</td>\n",
       "      <td>17.0</td>\n",
       "    </tr>\n",
       "    <tr>\n",
       "      <th>2006-12-16 17:28:00</th>\n",
       "      <td>3.666</td>\n",
       "      <td>0.528</td>\n",
       "      <td>235.680</td>\n",
       "      <td>15.800</td>\n",
       "      <td>0.000</td>\n",
       "      <td>1.000</td>\n",
       "      <td>17.0</td>\n",
       "    </tr>\n",
       "    <tr>\n",
       "      <th>...</th>\n",
       "      <td>...</td>\n",
       "      <td>...</td>\n",
       "      <td>...</td>\n",
       "      <td>...</td>\n",
       "      <td>...</td>\n",
       "      <td>...</td>\n",
       "      <td>...</td>\n",
       "    </tr>\n",
       "    <tr>\n",
       "      <th>2010-11-26 20:58:00</th>\n",
       "      <td>0.946</td>\n",
       "      <td>0.000</td>\n",
       "      <td>240.430</td>\n",
       "      <td>4.000</td>\n",
       "      <td>0.000</td>\n",
       "      <td>0.000</td>\n",
       "      <td>0.0</td>\n",
       "    </tr>\n",
       "    <tr>\n",
       "      <th>2010-11-26 20:59:00</th>\n",
       "      <td>0.944</td>\n",
       "      <td>0.000</td>\n",
       "      <td>240.000</td>\n",
       "      <td>4.000</td>\n",
       "      <td>0.000</td>\n",
       "      <td>0.000</td>\n",
       "      <td>0.0</td>\n",
       "    </tr>\n",
       "    <tr>\n",
       "      <th>2010-11-26 21:00:00</th>\n",
       "      <td>0.938</td>\n",
       "      <td>0.000</td>\n",
       "      <td>239.820</td>\n",
       "      <td>3.800</td>\n",
       "      <td>0.000</td>\n",
       "      <td>0.000</td>\n",
       "      <td>0.0</td>\n",
       "    </tr>\n",
       "    <tr>\n",
       "      <th>2010-11-26 21:01:00</th>\n",
       "      <td>0.934</td>\n",
       "      <td>0.000</td>\n",
       "      <td>239.700</td>\n",
       "      <td>3.800</td>\n",
       "      <td>0.000</td>\n",
       "      <td>0.000</td>\n",
       "      <td>0.0</td>\n",
       "    </tr>\n",
       "    <tr>\n",
       "      <th>2010-11-26 21:02:00</th>\n",
       "      <td>0.932</td>\n",
       "      <td>0.000</td>\n",
       "      <td>239.550</td>\n",
       "      <td>3.800</td>\n",
       "      <td>0.000</td>\n",
       "      <td>0.000</td>\n",
       "      <td>0.0</td>\n",
       "    </tr>\n",
       "  </tbody>\n",
       "</table>\n",
       "<p>2075259 rows × 7 columns</p>\n",
       "</div>"
      ],
      "text/plain": [
       "                    Global_active_power  ... Sub_metering_3\n",
       "datetime                                 ...               \n",
       "2006-12-16 17:24:00               4.216  ...           17.0\n",
       "2006-12-16 17:25:00               5.360  ...           16.0\n",
       "2006-12-16 17:26:00               5.374  ...           17.0\n",
       "2006-12-16 17:27:00               5.388  ...           17.0\n",
       "2006-12-16 17:28:00               3.666  ...           17.0\n",
       "...                                 ...  ...            ...\n",
       "2010-11-26 20:58:00               0.946  ...            0.0\n",
       "2010-11-26 20:59:00               0.944  ...            0.0\n",
       "2010-11-26 21:00:00               0.938  ...            0.0\n",
       "2010-11-26 21:01:00               0.934  ...            0.0\n",
       "2010-11-26 21:02:00               0.932  ...            0.0\n",
       "\n",
       "[2075259 rows x 7 columns]"
      ]
     },
     "execution_count": 7,
     "metadata": {
      "tags": []
     },
     "output_type": "execute_result"
    }
   ],
   "source": [
    "dataset"
   ]
  },
  {
   "cell_type": "code",
   "execution_count": 9,
   "metadata": {
    "colab": {
     "base_uri": "https://localhost:8080/",
     "height": 260
    },
    "colab_type": "code",
    "id": "rCvOZK8P4EMA",
    "outputId": "c5f2850e-d050-48c4-b5c8-e43a2568f010"
   },
   "outputs": [
    {
     "name": "stdout",
     "output_type": "stream",
     "text": [
      "<class 'pandas.core.frame.DataFrame'>\n",
      "DatetimeIndex: 2075259 entries, 2006-12-16 17:24:00 to 2010-11-26 21:02:00\n",
      "Data columns (total 7 columns):\n",
      " #   Column                 Dtype  \n",
      "---  ------                 -----  \n",
      " 0   Global_active_power    object \n",
      " 1   Global_reactive_power  object \n",
      " 2   Voltage                object \n",
      " 3   Global_intensity       object \n",
      " 4   Sub_metering_1         object \n",
      " 5   Sub_metering_2         object \n",
      " 6   Sub_metering_3         float64\n",
      "dtypes: float64(1), object(6)\n",
      "memory usage: 126.7+ MB\n"
     ]
    }
   ],
   "source": [
    "dataset.info()"
   ]
  },
  {
   "cell_type": "code",
   "execution_count": 10,
   "metadata": {
    "colab": {
     "base_uri": "https://localhost:8080/",
     "height": 156
    },
    "colab_type": "code",
    "id": "FOiLbGz64vo_",
    "outputId": "96bc70b7-cd2a-491d-d5d0-ed5458e2e4a2"
   },
   "outputs": [
    {
     "data": {
      "text/plain": [
       "Global_active_power          0\n",
       "Global_reactive_power        0\n",
       "Voltage                      0\n",
       "Global_intensity             0\n",
       "Sub_metering_1               0\n",
       "Sub_metering_2               0\n",
       "Sub_metering_3           25979\n",
       "dtype: int64"
      ]
     },
     "execution_count": 10,
     "metadata": {
      "tags": []
     },
     "output_type": "execute_result"
    }
   ],
   "source": [
    "dataset.isnull().sum()"
   ]
  },
  {
   "cell_type": "markdown",
   "metadata": {},
   "source": [
    "### Selecting the column of Global Active Power"
   ]
  },
  {
   "cell_type": "code",
   "execution_count": 11,
   "metadata": {
    "colab": {
     "base_uri": "https://localhost:8080/",
     "height": 243
    },
    "colab_type": "code",
    "id": "A_nar7Xk4v0I",
    "outputId": "3644bb7b-c450-41a2-eaa0-aca89cb2daa0"
   },
   "outputs": [
    {
     "data": {
      "text/plain": [
       "datetime\n",
       "2006-12-16 17:24:00    4.216\n",
       "2006-12-16 17:25:00    5.360\n",
       "2006-12-16 17:26:00    5.374\n",
       "2006-12-16 17:27:00    5.388\n",
       "2006-12-16 17:28:00    3.666\n",
       "                       ...  \n",
       "2010-11-26 20:58:00    0.946\n",
       "2010-11-26 20:59:00    0.944\n",
       "2010-11-26 21:00:00    0.938\n",
       "2010-11-26 21:01:00    0.934\n",
       "2010-11-26 21:02:00    0.932\n",
       "Name: Global_active_power, Length: 2075259, dtype: object"
      ]
     },
     "execution_count": 11,
     "metadata": {
      "tags": []
     },
     "output_type": "execute_result"
    }
   ],
   "source": [
    "X_main=dataset['Global_active_power']\n",
    "X_main"
   ]
  },
  {
   "cell_type": "markdown",
   "metadata": {
    "colab": {},
    "colab_type": "code",
    "id": "mvaWzbLYh0TY"
   },
   "source": [
    "### Converting in numpy array"
   ]
  },
  {
   "cell_type": "code",
   "execution_count": 0,
   "metadata": {
    "colab": {},
    "colab_type": "code",
    "id": "FvrYlwDsR0LG"
   },
   "outputs": [],
   "source": [
    "X_main=X_main.to_numpy()"
   ]
  },
  {
   "cell_type": "code",
   "execution_count": 13,
   "metadata": {
    "colab": {
     "base_uri": "https://localhost:8080/",
     "height": 34
    },
    "colab_type": "code",
    "id": "pd4_tEr7SBbg",
    "outputId": "1432bd7e-6837-4fd6-8143-99e52e739626"
   },
   "outputs": [
    {
     "data": {
      "text/plain": [
       "(2075259,)"
      ]
     },
     "execution_count": 13,
     "metadata": {
      "tags": []
     },
     "output_type": "execute_result"
    }
   ],
   "source": [
    "X_main.shape"
   ]
  },
  {
   "cell_type": "markdown",
   "metadata": {},
   "source": [
    "### Function to convert it into time series dataset"
   ]
  },
  {
   "cell_type": "code",
   "execution_count": 0,
   "metadata": {
    "colab": {},
    "colab_type": "code",
    "id": "u7eaEry64kTo"
   },
   "outputs": [],
   "source": [
    "def split_sequence(sequence, n_steps):\n",
    "\tX, y = list(), list()\n",
    "\tfor i in range(len(sequence)):\n",
    "\t\t# find the end of this pattern\n",
    "\t\tend_ix = i + n_steps\n",
    "\t\t# check if we are beyond the sequence\n",
    "\t\tif end_ix > len(sequence)-1:\n",
    "\t\t\tbreak\n",
    "\t\t# gather input and output parts of the pattern\n",
    "\t\tseq_x = sequence[i:end_ix+1]\n",
    "\t\tX.append(seq_x)\n",
    "\treturn np.array(X)"
   ]
  },
  {
   "cell_type": "markdown",
   "metadata": {},
   "source": [
    "### Predicting the active power by seeing past hour"
   ]
  },
  {
   "cell_type": "code",
   "execution_count": 0,
   "metadata": {
    "colab": {},
    "colab_type": "code",
    "id": "twlMDwZ0WPCP"
   },
   "outputs": [],
   "source": [
    "window_size=60"
   ]
  },
  {
   "cell_type": "code",
   "execution_count": 0,
   "metadata": {
    "colab": {},
    "colab_type": "code",
    "id": "ByxA_-XyQ0fd"
   },
   "outputs": [],
   "source": [
    "X= split_sequence(X_main,window_size)"
   ]
  },
  {
   "cell_type": "code",
   "execution_count": 0,
   "metadata": {
    "colab": {},
    "colab_type": "code",
    "id": "7TPgM7A8tBQL"
   },
   "outputs": [],
   "source": [
    "X=X.astype('str')"
   ]
  },
  {
   "cell_type": "code",
   "execution_count": 18,
   "metadata": {
    "colab": {
     "base_uri": "https://localhost:8080/",
     "height": 34
    },
    "colab_type": "code",
    "id": "n_fzXgnn8AcO",
    "outputId": "84999f0d-2dde-466b-ceb4-e6baa92c57ed"
   },
   "outputs": [
    {
     "data": {
      "text/plain": [
       "numpy.str_"
      ]
     },
     "execution_count": 18,
     "metadata": {
      "tags": []
     },
     "output_type": "execute_result"
    }
   ],
   "source": [
    "type(X[0][1])"
   ]
  },
  {
   "cell_type": "code",
   "execution_count": 0,
   "metadata": {
    "colab": {},
    "colab_type": "code",
    "id": "CbxessQMuvEd"
   },
   "outputs": [],
   "source": [
    "# mask = np.all(X ==str('?'), axis=1)\n",
    "# X=X[~mask]"
   ]
  },
  {
   "cell_type": "code",
   "execution_count": 20,
   "metadata": {
    "colab": {
     "base_uri": "https://localhost:8080/",
     "height": 34
    },
    "colab_type": "code",
    "id": "wa7PJt9q6NmJ",
    "outputId": "b1a327ca-d8f5-4f5b-dcb2-6374c2b78177"
   },
   "outputs": [
    {
     "data": {
      "text/plain": [
       "(2075199, 61)"
      ]
     },
     "execution_count": 20,
     "metadata": {
      "tags": []
     },
     "output_type": "execute_result"
    }
   ],
   "source": [
    "X.shape"
   ]
  },
  {
   "cell_type": "markdown",
   "metadata": {},
   "source": [
    "### Marking the missing value columns"
   ]
  },
  {
   "cell_type": "code",
   "execution_count": 21,
   "metadata": {
    "colab": {
     "base_uri": "https://localhost:8080/",
     "height": 34
    },
    "colab_type": "code",
    "id": "CbOHi0uX8hTo",
    "outputId": "96f04414-c30c-4b4c-d20a-485b79bf4aa1"
   },
   "outputs": [
    {
     "data": {
      "text/plain": [
       "(2045110, 61)"
      ]
     },
     "execution_count": 21,
     "metadata": {
      "tags": []
     },
     "output_type": "execute_result"
    }
   ],
   "source": [
    "mask = np.all(X !='?', axis=1)\n",
    "X=X[mask]\n",
    "X.shape"
   ]
  },
  {
   "cell_type": "markdown",
   "metadata": {},
   "source": [
    "### Splitting into data and labels"
   ]
  },
  {
   "cell_type": "code",
   "execution_count": 22,
   "metadata": {
    "colab": {
     "base_uri": "https://localhost:8080/",
     "height": 34
    },
    "colab_type": "code",
    "id": "mltsvPPI66Ty",
    "outputId": "8b704c5a-d127-4db4-debf-f543d2261f13"
   },
   "outputs": [
    {
     "data": {
      "text/plain": [
       "(2045110, 60)"
      ]
     },
     "execution_count": 22,
     "metadata": {
      "tags": []
     },
     "output_type": "execute_result"
    }
   ],
   "source": [
    "XX=X[:,:-1].astype(float)\n",
    "XX.shape"
   ]
  },
  {
   "cell_type": "code",
   "execution_count": 23,
   "metadata": {
    "colab": {
     "base_uri": "https://localhost:8080/",
     "height": 34
    },
    "colab_type": "code",
    "id": "_6Dzdmx67Neu",
    "outputId": "2975e2c8-0127-40f7-f8b5-d6f22197b96e"
   },
   "outputs": [
    {
     "data": {
      "text/plain": [
       "(2045110,)"
      ]
     },
     "execution_count": 23,
     "metadata": {
      "tags": []
     },
     "output_type": "execute_result"
    }
   ],
   "source": [
    "y=X[:,-1].astype(float)\n",
    "y.shape"
   ]
  },
  {
   "cell_type": "markdown",
   "metadata": {},
   "source": [
    "### Metrics Calculation"
   ]
  },
  {
   "cell_type": "markdown",
   "metadata": {
    "colab_type": "text",
    "id": "mlpeMsoPVig4"
   },
   "source": [
    "**Root mean squared error (RMSE):** RMSE is a quadratic scoring rule that also measures the average magnitude of the error. It’s the square root of the average squared differences between prediction and actual observation.\n",
    "\n",
    "![image.png](data:image/png;base64,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)"
   ]
  },
  {
   "cell_type": "markdown",
   "metadata": {
    "colab_type": "text",
    "id": "W5h_9iSjVxFT"
   },
   "source": [
    "**Mean Absolute Percentage Error (MAPE)**, also known as mean absolute percentage deviation (MAPD), is a measure of prediction accuracy of a forecasting method in statistics, for example in trend estimation, also used as a loss function for regression problems in machine learning. It usually expresses the accuracy as a ratio defined by the formula:\n",
    "\n",
    "$M = {\\frac{1}{n}}\\sum _{t=1}^{n}|$($A_{t}-F_{t}$)/$A_{t}$ |\n",
    "\n",
    "\n",
    "where $A_{t}$ is the actual value and $F_{t}$ is the forecast value. "
   ]
  },
  {
   "cell_type": "code",
   "execution_count": 0,
   "metadata": {
    "colab": {},
    "colab_type": "code",
    "id": "4O5T1KNDA6yS"
   },
   "outputs": [],
   "source": [
    "#Root Mean Squared Error(RMSE), Mean Absolute Percentage Error(MAPE) score\n",
    "\n",
    "from sklearn.metrics import r2_score\n",
    "from sklearn.metrics import mean_squared_error\n",
    "from math import sqrt\n",
    "\n",
    "def percentage_error(actual, predicted):\n",
    "    res = np.empty(actual.shape)\n",
    "    for j in range(actual.shape[0]):\n",
    "        if actual[j] != 0:\n",
    "            res[j] = (actual[j] - predicted[j]) / actual[j]\n",
    "        else:\n",
    "            res[j] = predicted[j] / np.mean(actual)\n",
    "    return res\n",
    "\n",
    "def mean_absolute_percentage_error(y_true, y_pred): \n",
    "    return np.mean(np.abs(percentage_error(np.asarray(y_true), np.asarray(y_pred)))) * 100\n",
    "\n",
    "\n",
    "def print_metrics(true_labels,predicted_labels):\n",
    "  # true_labels=true_labels.flatten()\n",
    "  # predicted_labels=predicted_labels.flatten()\n",
    "  mse=mean_squared_error(true_labels, predicted_labels)\n",
    "  print('Mean Squared Error : ',mse)\n",
    "  print()\n",
    "  rmse = sqrt(mse)\n",
    "  print('Root Mean Squared Error : ',rmse)\n",
    "  print()\n",
    "  mape = mean_absolute_percentage_error(true_labels, predicted_labels)\n",
    "  print('Mean Absolute Percentage Error : ',mape)\n",
    "  print()\n",
    "\n",
    "\n",
    "# print_metrics([1,2,3],[1,2,3])\n",
    "\n"
   ]
  },
  {
   "cell_type": "markdown",
   "metadata": {},
   "source": [
    "### Splitting into Train and test"
   ]
  },
  {
   "cell_type": "code",
   "execution_count": 0,
   "metadata": {
    "colab": {},
    "colab_type": "code",
    "id": "06QOJh-satJi"
   },
   "outputs": [],
   "source": [
    "from sklearn.model_selection import train_test_split\n",
    "X_train, X_test, y_train, y_test = train_test_split(XX, y, test_size=0.20, random_state=31)"
   ]
  },
  {
   "cell_type": "markdown",
   "metadata": {
    "colab_type": "text",
    "id": "tb6XM5WwS33e"
   },
   "source": [
    "### 1. Regression using MLP "
   ]
  },
  {
   "cell_type": "code",
   "execution_count": 26,
   "metadata": {
    "colab": {
     "base_uri": "https://localhost:8080/",
     "height": 34
    },
    "colab_type": "code",
    "id": "8PbLXCbxUNcf",
    "outputId": "db096a45-c7af-4887-ca3b-5cb7a19a5f8b"
   },
   "outputs": [
    {
     "name": "stdout",
     "output_type": "stream",
     "text": [
      "TensorFlow 1.x selected.\n"
     ]
    }
   ],
   "source": [
    "%tensorflow_version 1.x"
   ]
  },
  {
   "cell_type": "code",
   "execution_count": 0,
   "metadata": {
    "colab": {},
    "colab_type": "code",
    "id": "_6-WSoFOTFxu"
   },
   "outputs": [],
   "source": [
    "from tensorflow.keras.models import Sequential\n",
    "from tensorflow.keras.layers import Dense"
   ]
  },
  {
   "cell_type": "code",
   "execution_count": 28,
   "metadata": {
    "colab": {
     "base_uri": "https://localhost:8080/",
     "height": 89
    },
    "colab_type": "code",
    "id": "4yuR8VONTi1J",
    "outputId": "f606c8d7-adb9-4cf7-ad74-0973fb973db9"
   },
   "outputs": [
    {
     "name": "stdout",
     "output_type": "stream",
     "text": [
      "WARNING:tensorflow:From /tensorflow-1.15.2/python3.6/tensorflow_core/python/ops/resource_variable_ops.py:1630: calling BaseResourceVariable.__init__ (from tensorflow.python.ops.resource_variable_ops) with constraint is deprecated and will be removed in a future version.\n",
      "Instructions for updating:\n",
      "If using Keras pass *_constraint arguments to layers.\n"
     ]
    }
   ],
   "source": [
    "# define model\n",
    "model = Sequential()\n",
    "model.add(Dense(100, activation='relu', input_dim=window_size))\n",
    "model.add(Dense(1))\n",
    "model.compile(optimizer='adam', loss='mse')"
   ]
  },
  {
   "cell_type": "code",
   "execution_count": 0,
   "metadata": {
    "colab": {},
    "colab_type": "code",
    "id": "MEsL_22TaH6R"
   },
   "outputs": [],
   "source": [
    "# from sklearn import preprocessing\n",
    "# mm_scaler = preprocessing.MinMaxScaler()\n",
    "# X_train_minmax = mm_scaler.fit_transform(X_train)\n",
    "# X_test=mm_scaler.transform(X_test)"
   ]
  },
  {
   "cell_type": "code",
   "execution_count": 0,
   "metadata": {
    "colab": {},
    "colab_type": "code",
    "id": "TAoFwzgMFOGo"
   },
   "outputs": [],
   "source": [
    "# y_test=mm_scaler.transform(y_test.reshape(-1,1))"
   ]
  },
  {
   "cell_type": "code",
   "execution_count": 0,
   "metadata": {
    "colab": {},
    "colab_type": "code",
    "id": "06jjGHVHaJQO"
   },
   "outputs": [],
   "source": [
    "# X_train_minmax.shape"
   ]
  },
  {
   "cell_type": "code",
   "execution_count": 32,
   "metadata": {
    "colab": {
     "base_uri": "https://localhost:8080/",
     "height": 34
    },
    "colab_type": "code",
    "id": "tbQO0YlXw8F7",
    "outputId": "e17ccd99-8c78-480e-f517-0484ea52f31c"
   },
   "outputs": [
    {
     "data": {
      "text/plain": [
       "<tensorflow.python.keras.callbacks.History at 0x7f3b5d85ea90>"
      ]
     },
     "execution_count": 32,
     "metadata": {
      "tags": []
     },
     "output_type": "execute_result"
    }
   ],
   "source": [
    "model.fit(X_train, y_train, epochs=3, verbose=0)"
   ]
  },
  {
   "cell_type": "code",
   "execution_count": 33,
   "metadata": {
    "colab": {
     "base_uri": "https://localhost:8080/",
     "height": 139
    },
    "colab_type": "code",
    "id": "0-JoBMfDAVys",
    "outputId": "8d713e62-2c6a-49e6-eb99-8d02efd6674c"
   },
   "outputs": [
    {
     "name": "stdout",
     "output_type": "stream",
     "text": [
      "[[0.25484988]\n",
      " [2.4058537 ]\n",
      " [1.3999143 ]\n",
      " ...\n",
      " [0.77611595]\n",
      " [0.595281  ]\n",
      " [1.3059872 ]]\n"
     ]
    }
   ],
   "source": [
    "y_pred = model.predict(X_test, verbose=0)\n",
    "print(y_pred)"
   ]
  },
  {
   "cell_type": "markdown",
   "metadata": {},
   "source": [
    "### Printing the r2 score"
   ]
  },
  {
   "cell_type": "code",
   "execution_count": 34,
   "metadata": {
    "colab": {
     "base_uri": "https://localhost:8080/",
     "height": 34
    },
    "colab_type": "code",
    "id": "yAPLwUMxEsNm",
    "outputId": "0d2245ee-8612-43f3-e558-cb20b7a03a14"
   },
   "outputs": [
    {
     "data": {
      "text/plain": [
       "0.9402245833066694"
      ]
     },
     "execution_count": 34,
     "metadata": {
      "tags": []
     },
     "output_type": "execute_result"
    }
   ],
   "source": [
    "from sklearn.metrics import r2_score\n",
    "r2_score(y_test, y_pred)"
   ]
  },
  {
   "cell_type": "markdown",
   "metadata": {
    "colab_type": "text",
    "id": "T06-5lCfTkG8"
   },
   "source": [
    "### With two hidden layers"
   ]
  },
  {
   "cell_type": "code",
   "execution_count": 0,
   "metadata": {
    "colab": {},
    "colab_type": "code",
    "id": "M_OEbamPFCel"
   },
   "outputs": [],
   "source": [
    "model = Sequential()\n",
    "model.add(Dense(100, activation='relu', input_dim=window_size))\n",
    "model.add(Dense(100, activation='relu', input_dim=window_size))\n",
    "model.add(Dense(1))\n",
    "model.compile(optimizer='adam', loss='mse')"
   ]
  },
  {
   "cell_type": "code",
   "execution_count": 36,
   "metadata": {
    "colab": {
     "base_uri": "https://localhost:8080/",
     "height": 34
    },
    "colab_type": "code",
    "id": "44BH-E1NGazt",
    "outputId": "9322b818-3bd0-48b6-fe90-63c2ebab2ba5"
   },
   "outputs": [
    {
     "data": {
      "text/plain": [
       "<tensorflow.python.keras.callbacks.History at 0x7f3b5d764ef0>"
      ]
     },
     "execution_count": 36,
     "metadata": {
      "tags": []
     },
     "output_type": "execute_result"
    }
   ],
   "source": [
    "model.fit(X_train, y_train, epochs=3, verbose=0)"
   ]
  },
  {
   "cell_type": "code",
   "execution_count": 37,
   "metadata": {
    "colab": {
     "base_uri": "https://localhost:8080/",
     "height": 139
    },
    "colab_type": "code",
    "id": "ZtozAOnoKFs0",
    "outputId": "ee077382-511d-4316-fe2c-0ba81dae65a2"
   },
   "outputs": [
    {
     "name": "stdout",
     "output_type": "stream",
     "text": [
      "[[0.26123196]\n",
      " [2.5038784 ]\n",
      " [1.3975797 ]\n",
      " ...\n",
      " [0.91917396]\n",
      " [0.5767523 ]\n",
      " [1.2643914 ]]\n"
     ]
    }
   ],
   "source": [
    "y_pred = model.predict(X_test, verbose=0)\n",
    "print(y_pred)"
   ]
  },
  {
   "cell_type": "markdown",
   "metadata": {},
   "source": [
    "### Printing the metrics"
   ]
  },
  {
   "cell_type": "code",
   "execution_count": 38,
   "metadata": {
    "colab": {
     "base_uri": "https://localhost:8080/",
     "height": 34
    },
    "colab_type": "code",
    "id": "CRF-0RkbKRYH",
    "outputId": "66ab49b2-cc23-4666-8327-d0fd08f2191b"
   },
   "outputs": [
    {
     "data": {
      "text/plain": [
       "0.9410963032191362"
      ]
     },
     "execution_count": 38,
     "metadata": {
      "tags": []
     },
     "output_type": "execute_result"
    }
   ],
   "source": [
    "r2_score(y_test, y_pred)"
   ]
  },
  {
   "cell_type": "code",
   "execution_count": 39,
   "metadata": {
    "colab": {
     "base_uri": "https://localhost:8080/",
     "height": 121
    },
    "colab_type": "code",
    "id": "e5G-OEHlg0zQ",
    "outputId": "9b03e469-ffc9-4fc2-c0bb-99d4e2501b40"
   },
   "outputs": [
    {
     "name": "stdout",
     "output_type": "stream",
     "text": [
      "Mean Squared Error :  0.06594920369983948\n",
      "\n",
      "Root Mean Squared Error :  0.25680577037878155\n",
      "\n",
      "Mean Absolute Percentage Error :  10.51245141844698\n",
      "\n"
     ]
    }
   ],
   "source": [
    "print_metrics(y_test, y_pred)\n"
   ]
  },
  {
   "cell_type": "markdown",
   "metadata": {
    "colab_type": "text",
    "id": "6ovtFN4YWneS"
   },
   "source": [
    "### 2. Linear Regression"
   ]
  },
  {
   "cell_type": "markdown",
   "metadata": {},
   "source": [
    "### Normalizing the dataset before applying the regression"
   ]
  },
  {
   "cell_type": "code",
   "execution_count": 0,
   "metadata": {
    "colab": {},
    "colab_type": "code",
    "id": "fUL4TbDYdpNt"
   },
   "outputs": [],
   "source": [
    "from sklearn import preprocessing\n",
    "mm_scaler = preprocessing.MinMaxScaler()\n",
    "X_train_minmax = mm_scaler.fit_transform(X_train)\n",
    "X_test_minmax=mm_scaler.transform(X_test)"
   ]
  },
  {
   "cell_type": "markdown",
   "metadata": {},
   "source": [
    "### Linear regression Function which I have made in the previous assignment"
   ]
  },
  {
   "cell_type": "code",
   "execution_count": 0,
   "metadata": {
    "colab": {},
    "colab_type": "code",
    "id": "wm9--UI3WmOp"
   },
   "outputs": [],
   "source": [
    "def gradient_descent(X, y, theta, iterations, a):\n",
    "    past_costs = []\n",
    "    past_thetas = [theta]\n",
    "    theta=theta.T\n",
    "    theta=theta.reshape(len(theta),1)\n",
    "    y=y.reshape(len(y),1)\n",
    "    print(theta.shape)\n",
    "    print(y.shape)\n",
    "    print(X.shape)\n",
    "    m=X.shape[0]\n",
    "    for i in range(iterations):\n",
    "        prediction = np.dot(X, theta)\n",
    "#         print(prediction[0])\n",
    "        error = prediction - y\n",
    "#         print(error[0])\n",
    "        cost = 1/(2*m) * np.dot(error.T, error)\n",
    "        past_costs.append(cost)\n",
    "        theta = theta - (a * (1/m) * np.dot(X.T, error))\n",
    "#         print(theta)\n",
    "        past_thetas.append(theta)\n",
    "        \n",
    "    return past_thetas, past_costs"
   ]
  },
  {
   "cell_type": "code",
   "execution_count": 42,
   "metadata": {
    "colab": {
     "base_uri": "https://localhost:8080/",
     "height": 34
    },
    "colab_type": "code",
    "id": "tzxzywSlXp8S",
    "outputId": "757557e6-b8d0-4a2b-fcc3-e1fedeaa86c3"
   },
   "outputs": [
    {
     "name": "stdout",
     "output_type": "stream",
     "text": [
      "(1636088, 61)\n"
     ]
    }
   ],
   "source": [
    "one_array=np.ones((X_train_minmax.shape[0],1), dtype=float)\n",
    "X_train_minmax =np.append(one_array,X_train_minmax,axis=1)\n",
    "one_array=np.ones((X_test_minmax.shape[0],1), dtype=float)\n",
    "X_test_minmax=np.append(one_array,X_test_minmax,axis=1)\n",
    "print(X_train_minmax.shape)"
   ]
  },
  {
   "cell_type": "code",
   "execution_count": 43,
   "metadata": {
    "colab": {
     "base_uri": "https://localhost:8080/",
     "height": 69
    },
    "colab_type": "code",
    "id": "j5BgJBGkXsNS",
    "outputId": "e07c384a-1e63-4a01-f807-6c561256a583"
   },
   "outputs": [
    {
     "name": "stdout",
     "output_type": "stream",
     "text": [
      "(61, 1)\n",
      "(1636088, 1)\n",
      "(1636088, 61)\n"
     ]
    }
   ],
   "source": [
    "theta = [1 for i in range(X_train_minmax.shape[1])]\n",
    "theta=np.array(theta)\n",
    "\n",
    "a=0.1\n",
    "past_thetas, past_costs = gradient_descent(X_train_minmax, y_train, theta, 1000, a)\n",
    "theta = past_thetas[-1]\n"
   ]
  },
  {
   "cell_type": "markdown",
   "metadata": {},
   "source": [
    "### Printing the metrics"
   ]
  },
  {
   "cell_type": "code",
   "execution_count": 44,
   "metadata": {
    "colab": {
     "base_uri": "https://localhost:8080/",
     "height": 86
    },
    "colab_type": "code",
    "id": "EEXE8TrDX9Nu",
    "outputId": "ad32ce3d-6cd6-45b8-d205-a16181de3406"
   },
   "outputs": [
    {
     "name": "stdout",
     "output_type": "stream",
     "text": [
      "Mean Squared Error train: 0.14502307514471166\n",
      "r2 score : 0.8697702011908934\n",
      "Mean Squared Error test: 0.14634419045662958\n",
      "r2 score : 0.8692901000058736\n"
     ]
    }
   ],
   "source": [
    "from sklearn.metrics import r2_score\n",
    "from sklearn.metrics import mean_squared_error\n",
    "\n",
    "print('Mean Squared Error train:', mean_squared_error(y_train,X_train_minmax.dot(theta)))\n",
    "print('r2 score :', r2_score(y_train,X_train_minmax.dot(theta)))\n",
    "print('Mean Squared Error test:', mean_squared_error(y_test,X_test_minmax.dot(theta)))\n",
    "print('r2 score :', r2_score(y_test,X_test_minmax.dot(theta)))"
   ]
  },
  {
   "cell_type": "code",
   "execution_count": 45,
   "metadata": {
    "colab": {
     "base_uri": "https://localhost:8080/",
     "height": 69
    },
    "colab_type": "code",
    "id": "83bzjm9edaUf",
    "outputId": "b7e88b18-87d2-4127-eb95-82f6a26a77e6"
   },
   "outputs": [
    {
     "name": "stdout",
     "output_type": "stream",
     "text": [
      "(61, 1)\n",
      "(1636088, 1)\n",
      "(1636088, 61)\n"
     ]
    }
   ],
   "source": [
    "theta = [1 for i in range(X_train_minmax.shape[1])]\n",
    "theta=np.array(theta)\n",
    "\n",
    "a=0.01\n",
    "past_thetas, past_costs = gradient_descent(X_train_minmax, y_train, theta, 2000, a)\n",
    "theta = past_thetas[-1]"
   ]
  },
  {
   "cell_type": "code",
   "execution_count": 46,
   "metadata": {
    "colab": {
     "base_uri": "https://localhost:8080/",
     "height": 86
    },
    "colab_type": "code",
    "id": "aQ2HVCkpijn7",
    "outputId": "998c1dad-056f-44e5-d0c9-b8fce95e71d5"
   },
   "outputs": [
    {
     "name": "stdout",
     "output_type": "stream",
     "text": [
      "Mean Squared Error train: 0.24793399754799994\n",
      "r2 score : 0.7773568476161845\n",
      "Mean Squared Error test: 0.24986001937484112\n",
      "r2 score : 0.7768331080098816\n"
     ]
    }
   ],
   "source": [
    "print('Mean Squared Error train:', mean_squared_error(y_train,X_train_minmax.dot(theta)))\n",
    "print('r2 score :', r2_score(y_train,X_train_minmax.dot(theta)))\n",
    "print('Mean Squared Error test:', mean_squared_error(y_test,X_test_minmax.dot(theta)))\n",
    "print('r2 score :', r2_score(y_test,X_test_minmax.dot(theta)))"
   ]
  },
  {
   "cell_type": "markdown",
   "metadata": {},
   "source": [
    "###  $\\alpha$ =0.1 and iterations = 5000"
   ]
  },
  {
   "cell_type": "code",
   "execution_count": 47,
   "metadata": {
    "colab": {
     "base_uri": "https://localhost:8080/",
     "height": 69
    },
    "colab_type": "code",
    "id": "4NHaNXtYzJdo",
    "outputId": "6aadb34c-4f30-4df7-874e-c396c4a8d3ef"
   },
   "outputs": [
    {
     "name": "stdout",
     "output_type": "stream",
     "text": [
      "(61, 1)\n",
      "(1636088, 1)\n",
      "(1636088, 61)\n"
     ]
    }
   ],
   "source": [
    "theta = [1 for i in range(X_train_minmax.shape[1])]\n",
    "theta=np.array(theta)\n",
    "\n",
    "a=0.1\n",
    "past_thetas, past_costs = gradient_descent(X_train_minmax, y_train, theta, 5000, a)\n",
    "theta = past_thetas[-1]"
   ]
  },
  {
   "cell_type": "code",
   "execution_count": 48,
   "metadata": {
    "colab": {
     "base_uri": "https://localhost:8080/",
     "height": 86
    },
    "colab_type": "code",
    "id": "uFShJXGP7gxd",
    "outputId": "8b871ada-0ab9-485f-d964-bf43e9ddadb6"
   },
   "outputs": [
    {
     "name": "stdout",
     "output_type": "stream",
     "text": [
      "Mean Squared Error train: 0.09238646031548486\n",
      "r2 score : 0.9170375464210404\n",
      "Mean Squared Error test: 0.09331054075689868\n",
      "r2 score : 0.91665804147964\n"
     ]
    }
   ],
   "source": [
    "print('Mean Squared Error train:', mean_squared_error(y_train,X_train_minmax.dot(theta)))\n",
    "print('r2 score :', r2_score(y_train,X_train_minmax.dot(theta)))\n",
    "print('Mean Squared Error test:', mean_squared_error(y_test,X_test_minmax.dot(theta)))\n",
    "print('r2 score :', r2_score(y_test,X_test_minmax.dot(theta)))"
   ]
  },
  {
   "cell_type": "markdown",
   "metadata": {},
   "source": [
    "### Verifying with sklearn Linear Regression"
   ]
  },
  {
   "cell_type": "code",
   "execution_count": 0,
   "metadata": {
    "colab": {},
    "colab_type": "code",
    "id": "NIDBIy8jBCL8"
   },
   "outputs": [],
   "source": [
    "from sklearn.linear_model import LinearRegression"
   ]
  },
  {
   "cell_type": "code",
   "execution_count": 50,
   "metadata": {
    "colab": {
     "base_uri": "https://localhost:8080/",
     "height": 34
    },
    "colab_type": "code",
    "id": "M7wxCVO-A-TL",
    "outputId": "79adb26a-4d82-4ef2-f2cc-350d5096298f"
   },
   "outputs": [
    {
     "name": "stdout",
     "output_type": "stream",
     "text": [
      "r2 score : 0.9388512567232952\n"
     ]
    }
   ],
   "source": [
    "reg = LinearRegression().fit(X_train, y_train)\n",
    "pred = reg.predict(X_test)\n",
    "print('r2 score :', r2_score(y_test,pred))"
   ]
  },
  {
   "cell_type": "code",
   "execution_count": 0,
   "metadata": {
    "colab": {},
    "colab_type": "code",
    "id": "aeMehGrY7ikq"
   },
   "outputs": [],
   "source": [
    "\n",
    "reg = LinearRegression().fit(X_train_minmax, y_train)\n",
    "pred = reg.predict(X_test_minmax)"
   ]
  },
  {
   "cell_type": "code",
   "execution_count": 52,
   "metadata": {
    "colab": {
     "base_uri": "https://localhost:8080/",
     "height": 34
    },
    "colab_type": "code",
    "id": "tLLYCnS6AvnD",
    "outputId": "45adfa5d-4c40-4f5c-b6d0-6cc108858c6d"
   },
   "outputs": [
    {
     "name": "stdout",
     "output_type": "stream",
     "text": [
      "r2 score : 0.9388512567232952\n"
     ]
    }
   ],
   "source": [
    "print('r2 score :', r2_score(y_test,pred))"
   ]
  },
  {
   "cell_type": "markdown",
   "metadata": {
    "colab_type": "text",
    "id": "XHiHEjo8Tu68"
   },
   "source": [
    "### For window size = 60 (1 hrs)"
   ]
  },
  {
   "cell_type": "markdown",
   "metadata": {
    "colab_type": "text",
    "id": "AlbWD3x6T1yc"
   },
   "source": [
    "### Missing value predictions"
   ]
  },
  {
   "cell_type": "code",
   "execution_count": 53,
   "metadata": {
    "colab": {
     "base_uri": "https://localhost:8080/",
     "height": 34
    },
    "colab_type": "code",
    "id": "QgqyxghXBxnh",
    "outputId": "6641de64-478d-4b4b-91d1-63f24b5c61e0"
   },
   "outputs": [
    {
     "data": {
      "text/plain": [
       "(2075259,)"
      ]
     },
     "execution_count": 53,
     "metadata": {
      "tags": []
     },
     "output_type": "execute_result"
    }
   ],
   "source": [
    "X_main.shape"
   ]
  },
  {
   "cell_type": "code",
   "execution_count": 54,
   "metadata": {
    "colab": {
     "base_uri": "https://localhost:8080/",
     "height": 52
    },
    "colab_type": "code",
    "id": "2pOHXM04CMnh",
    "outputId": "016fc62c-0c9b-4b35-b03b-7f13d6c40ae4"
   },
   "outputs": [
    {
     "data": {
      "text/plain": [
       "array(['4.216', '5.360', '5.374', ..., '0.938', '0.934', '0.932'],\n",
       "      dtype=object)"
      ]
     },
     "execution_count": 54,
     "metadata": {
      "tags": []
     },
     "output_type": "execute_result"
    }
   ],
   "source": [
    "X_main"
   ]
  },
  {
   "cell_type": "code",
   "execution_count": 55,
   "metadata": {
    "colab": {
     "base_uri": "https://localhost:8080/",
     "height": 52
    },
    "colab_type": "code",
    "id": "q9B9lWU9CPOf",
    "outputId": "c66e400a-5d8c-408b-ef9e-a1dfa85d343c"
   },
   "outputs": [
    {
     "data": {
      "text/plain": [
       "array(['4.216', '5.360', '5.374', ..., '0.938', '0.934', '0.932'],\n",
       "      dtype='<U6')"
      ]
     },
     "execution_count": 55,
     "metadata": {
      "tags": []
     },
     "output_type": "execute_result"
    }
   ],
   "source": [
    "X_main=X_main.astype('str')\n",
    "X_main"
   ]
  },
  {
   "cell_type": "code",
   "execution_count": 56,
   "metadata": {
    "colab": {
     "base_uri": "https://localhost:8080/",
     "height": 34
    },
    "colab_type": "code",
    "id": "2QZoZSyPK1ZO",
    "outputId": "da760b97-6c3b-422b-a095-83785ebcfa8f"
   },
   "outputs": [
    {
     "data": {
      "text/plain": [
       "(2075259, 1)"
      ]
     },
     "execution_count": 56,
     "metadata": {
      "tags": []
     },
     "output_type": "execute_result"
    }
   ],
   "source": [
    "X_main=X_main.reshape(-1,1)\n",
    "X_main.shape"
   ]
  },
  {
   "cell_type": "code",
   "execution_count": 57,
   "metadata": {
    "colab": {
     "base_uri": "https://localhost:8080/",
     "height": 34
    },
    "colab_type": "code",
    "id": "Xf16-RTbCmYi",
    "outputId": "a90f8c0f-86d9-4363-b8d8-ff34cdc74073"
   },
   "outputs": [
    {
     "data": {
      "text/plain": [
       "array([ True,  True,  True, ...,  True,  True,  True])"
      ]
     },
     "execution_count": 57,
     "metadata": {
      "tags": []
     },
     "output_type": "execute_result"
    }
   ],
   "source": [
    "mask = np.all(X_main !='?', axis=1)\n",
    "# X=X[mask]\n",
    "# X.shape\n",
    "mask"
   ]
  },
  {
   "cell_type": "code",
   "execution_count": 58,
   "metadata": {
    "colab": {
     "base_uri": "https://localhost:8080/",
     "height": 34
    },
    "colab_type": "code",
    "id": "uQBbJpUDKxP2",
    "outputId": "d0b6ab75-d3df-4b42-ea49-08b9935e27fc"
   },
   "outputs": [
    {
     "name": "stdout",
     "output_type": "stream",
     "text": [
      "Number of missing entries :  25979\n"
     ]
    }
   ],
   "source": [
    "print('Number of missing entries : ',len(mask)-np.count_nonzero(mask))"
   ]
  },
  {
   "cell_type": "code",
   "execution_count": 59,
   "metadata": {
    "colab": {
     "base_uri": "https://localhost:8080/",
     "height": 34
    },
    "colab_type": "code",
    "id": "t-wLakZ9LShr",
    "outputId": "6ada4525-a88b-4271-dce2-d3298c256526"
   },
   "outputs": [
    {
     "data": {
      "text/plain": [
       "array([   6839,    6840,   19724, ..., 1990187, 1990188, 2027411])"
      ]
     },
     "execution_count": 59,
     "metadata": {
      "tags": []
     },
     "output_type": "execute_result"
    }
   ],
   "source": [
    "missing_indices=np.where(~mask)\n",
    "missing_indices=np.array(missing_indices).flatten()\n",
    "missing_indices"
   ]
  },
  {
   "cell_type": "code",
   "execution_count": 60,
   "metadata": {
    "colab": {
     "base_uri": "https://localhost:8080/",
     "height": 34
    },
    "colab_type": "code",
    "id": "7xE_Kd3AUNk2",
    "outputId": "51170858-6967-44b8-ff73-f0eb09d31dbd"
   },
   "outputs": [
    {
     "data": {
      "text/plain": [
       "(25979,)"
      ]
     },
     "execution_count": 60,
     "metadata": {
      "tags": []
     },
     "output_type": "execute_result"
    }
   ],
   "source": [
    "missing_indices.shape"
   ]
  },
  {
   "cell_type": "code",
   "execution_count": 61,
   "metadata": {
    "colab": {
     "base_uri": "https://localhost:8080/",
     "height": 34
    },
    "colab_type": "code",
    "id": "8uQsxbsHa1TU",
    "outputId": "ff61d6eb-d846-4462-fc7a-5f723be6cfad"
   },
   "outputs": [
    {
     "data": {
      "text/plain": [
       "(2075259,)"
      ]
     },
     "execution_count": 61,
     "metadata": {
      "tags": []
     },
     "output_type": "execute_result"
    }
   ],
   "source": [
    "X_main=X_main.reshape(-1)\n",
    "X_main.shape"
   ]
  },
  {
   "cell_type": "code",
   "execution_count": 62,
   "metadata": {
    "colab": {
     "base_uri": "https://localhost:8080/",
     "height": 1000
    },
    "colab_type": "code",
    "id": "ZB3HOe35UNop",
    "outputId": "1577ed54-bdfd-4fea-f4be-a852a81a6486"
   },
   "outputs": [
    {
     "data": {
      "text/plain": [
       "{6839: 0.2797076,\n",
       " 6840: 0.29261824,\n",
       " 19724: 5.9437566,\n",
       " 19725: 5.8198695,\n",
       " 41832: 3.164722,\n",
       " 61909: 2.1693318,\n",
       " 98254: 3.0318892,\n",
       " 98255: 3.047947,\n",
       " 142588: 0.43437964,\n",
       " 190497: 0.5033902,\n",
       " 190498: 0.5003062,\n",
       " 190499: 0.49260914,\n",
       " 190500: 0.48871958,\n",
       " 190501: 0.49848676,\n",
       " 190502: 0.52199113,\n",
       " 190503: 0.5434889,\n",
       " 190504: 0.5575491,\n",
       " 190505: 0.55900985,\n",
       " 190506: 0.5540232,\n",
       " 190507: 0.5564536,\n",
       " 190508: 0.56341785,\n",
       " 190509: 0.5584812,\n",
       " 190510: 0.5677395,\n",
       " 190511: 0.56523675,\n",
       " 190512: 0.5638104,\n",
       " 190513: 0.56949776,\n",
       " 190514: 0.5779307,\n",
       " 190515: 0.5888597,\n",
       " 190516: 0.60386014,\n",
       " 190517: 0.6236651,\n",
       " 190518: 0.64525974,\n",
       " 190519: 0.6709249,\n",
       " 190520: 0.69977987,\n",
       " 190521: 0.7309085,\n",
       " 190522: 0.7650665,\n",
       " 190523: 0.79370946,\n",
       " 190524: 0.8203981,\n",
       " 190525: 0.8481195,\n",
       " 190526: 0.87049055,\n",
       " 190527: 0.8950586,\n",
       " 190528: 0.9310877,\n",
       " 190529: 0.98201597,\n",
       " 190530: 1.0426798,\n",
       " 190531: 1.1004472,\n",
       " 190532: 1.1467292,\n",
       " 190533: 1.195755,\n",
       " 190534: 1.2503827,\n",
       " 190535: 1.3291566,\n",
       " 190536: 1.4143019,\n",
       " 190537: 1.4970715,\n",
       " 190538: 1.5801923,\n",
       " 190539: 1.6647389,\n",
       " 190540: 1.7410188,\n",
       " 190541: 1.8109708,\n",
       " 190542: 1.8564577,\n",
       " 190543: 1.8827395,\n",
       " 190544: 1.8782959,\n",
       " 190545: 1.8604631,\n",
       " 190546: 1.8253884,\n",
       " 190547: 1.7662199,\n",
       " 190548: 1.7190032,\n",
       " 190549: 1.6980815,\n",
       " 190550: 1.7060935,\n",
       " 190551: 1.740722,\n",
       " 190552: 1.7890143,\n",
       " 190553: 1.8337321,\n",
       " 190554: 1.8724952,\n",
       " 190555: 1.9050362,\n",
       " 190556: 1.9336052,\n",
       " 190557: 1.9603214,\n",
       " 190558: 1.9867857,\n",
       " 190559: 2.0129128,\n",
       " 190560: 2.038404,\n",
       " 190561: 2.0623956,\n",
       " 190562: 2.0846162,\n",
       " 190563: 2.1021914,\n",
       " 190564: 2.1114514,\n",
       " 190565: 2.114228,\n",
       " 190566: 2.1160069,\n",
       " 190567: 2.122488,\n",
       " 190568: 2.137101,\n",
       " 190569: 2.162559,\n",
       " 190570: 2.1936922,\n",
       " 190571: 2.224341,\n",
       " 190572: 2.253424,\n",
       " 190573: 2.280512,\n",
       " 190574: 2.305398,\n",
       " 190575: 2.3237267,\n",
       " 190576: 2.3362725,\n",
       " 190577: 2.3473914,\n",
       " 190578: 2.360585,\n",
       " 190579: 2.3779883,\n",
       " 190580: 2.399893,\n",
       " 190581: 2.4257457,\n",
       " 190582: 2.4537516,\n",
       " 190583: 2.4807622,\n",
       " 190584: 2.5039551,\n",
       " 190585: 2.5224855,\n",
       " 190586: 2.5366051,\n",
       " 190587: 2.5475128,\n",
       " 190588: 2.5580974,\n",
       " 190589: 2.5707126,\n",
       " 190590: 2.5860958,\n",
       " 190591: 2.6037145,\n",
       " 190592: 2.6223624,\n",
       " 190593: 2.6399786,\n",
       " 190594: 2.654572,\n",
       " 190595: 2.6654315,\n",
       " 190596: 2.673063,\n",
       " 190597: 2.6786377,\n",
       " 190598: 2.683476,\n",
       " 190599: 2.6888742,\n",
       " 190600: 2.6959665,\n",
       " 190601: 2.705063,\n",
       " 190602: 2.7162788,\n",
       " 190603: 2.7290754,\n",
       " 190604: 2.742782,\n",
       " 190605: 2.7573981,\n",
       " 190606: 2.7731366,\n",
       " 190607: 2.790112,\n",
       " 190608: 2.808407,\n",
       " 190609: 2.8279724,\n",
       " 190610: 2.8483777,\n",
       " 190611: 2.8684952,\n",
       " 190612: 2.8873441,\n",
       " 190613: 2.9043336,\n",
       " 190614: 2.9190025,\n",
       " 190615: 2.9312027,\n",
       " 190616: 2.941086,\n",
       " 190617: 2.949038,\n",
       " 190618: 2.9558733,\n",
       " 190619: 2.962239,\n",
       " 190620: 2.9688327,\n",
       " 190621: 2.9760275,\n",
       " 190622: 2.9840913,\n",
       " 190623: 2.9931974,\n",
       " 190624: 3.0035455,\n",
       " 190625: 3.0151265,\n",
       " 190626: 3.0277042,\n",
       " 190627: 3.040981,\n",
       " 190628: 3.0545263,\n",
       " 190629: 3.068207,\n",
       " 190630: 3.0817652,\n",
       " 190631: 3.0949304,\n",
       " 190632: 3.1075983,\n",
       " 190633: 3.119508,\n",
       " 190634: 3.130776,\n",
       " 190635: 3.1411424,\n",
       " 190636: 3.1506202,\n",
       " 190637: 3.1591601,\n",
       " 190638: 3.1667461,\n",
       " 190639: 3.1736002,\n",
       " 190640: 3.1800058,\n",
       " 190641: 3.1862166,\n",
       " 190642: 3.192571,\n",
       " 190643: 3.199296,\n",
       " 190644: 3.206564,\n",
       " 190645: 3.2144551,\n",
       " 190646: 3.2228408,\n",
       " 190647: 3.2315545,\n",
       " 190648: 3.2403665,\n",
       " 190649: 3.249119,\n",
       " 190650: 3.2577813,\n",
       " 190651: 3.266207,\n",
       " 190652: 3.274572,\n",
       " 190653: 3.282744,\n",
       " 190654: 3.2908275,\n",
       " 190655: 3.2987614,\n",
       " 190656: 3.3064148,\n",
       " 190657: 3.3138165,\n",
       " 190658: 3.3208835,\n",
       " 190659: 3.327577,\n",
       " 190660: 3.334082,\n",
       " 190661: 3.3405046,\n",
       " 190662: 3.347055,\n",
       " 190663: 3.3536687,\n",
       " 190664: 3.3603945,\n",
       " 190665: 3.3671558,\n",
       " 190666: 3.3739123,\n",
       " 190667: 3.3805616,\n",
       " 190668: 3.3869116,\n",
       " 190669: 3.3930378,\n",
       " 190670: 3.3988771,\n",
       " 190671: 3.4044714,\n",
       " 190672: 3.4099452,\n",
       " 190673: 3.4153807,\n",
       " 190674: 3.420755,\n",
       " 190675: 3.426167,\n",
       " 190676: 3.4315798,\n",
       " 190677: 3.4369879,\n",
       " 190678: 3.4423988,\n",
       " 190679: 3.4478223,\n",
       " 190680: 3.4533737,\n",
       " 190681: 3.4589238,\n",
       " 190682: 3.4645824,\n",
       " 190683: 3.4701958,\n",
       " 190684: 3.4757586,\n",
       " 190685: 3.4812627,\n",
       " 190686: 3.4865942,\n",
       " 190687: 3.4916766,\n",
       " 190688: 3.4965394,\n",
       " 190689: 3.5011954,\n",
       " 190690: 3.5055573,\n",
       " 190691: 3.509761,\n",
       " 190692: 3.5137985,\n",
       " 190693: 3.517679,\n",
       " 190694: 3.5215135,\n",
       " 190695: 3.525399,\n",
       " 190696: 3.5292115,\n",
       " 190697: 3.5331843,\n",
       " 190698: 3.5371609,\n",
       " 190699: 3.5412576,\n",
       " 190700: 3.545453,\n",
       " 190701: 3.5497284,\n",
       " 190702: 3.5540807,\n",
       " 190703: 3.558388,\n",
       " 190704: 3.5626574,\n",
       " 190705: 3.5668867,\n",
       " 190706: 3.5709758,\n",
       " 190707: 3.5749488,\n",
       " 190708: 3.5788038,\n",
       " 190709: 3.5825527,\n",
       " 190710: 3.586087,\n",
       " 190711: 3.5894296,\n",
       " 190712: 3.5927005,\n",
       " 190713: 3.5958865,\n",
       " 190714: 3.5988925,\n",
       " 190715: 3.6018572,\n",
       " 190716: 3.6048555,\n",
       " 190717: 3.6078734,\n",
       " 190718: 3.6109116,\n",
       " 190719: 3.6140623,\n",
       " 190720: 3.6171887,\n",
       " 190721: 3.6203024,\n",
       " 190722: 3.6235168,\n",
       " 190723: 3.6266956,\n",
       " 190724: 3.6297548,\n",
       " 190725: 3.6328266,\n",
       " 190726: 3.6358829,\n",
       " 190727: 3.6388144,\n",
       " 190728: 3.6417568,\n",
       " 190729: 3.644578,\n",
       " 190730: 3.6472938,\n",
       " 190731: 3.6499116,\n",
       " 190732: 3.6525426,\n",
       " 190733: 3.6550732,\n",
       " 190734: 3.6575239,\n",
       " 190735: 3.660005,\n",
       " 190736: 3.6624923,\n",
       " 190737: 3.6648686,\n",
       " 190738: 3.6672626,\n",
       " 190739: 3.6696541,\n",
       " 190740: 3.6720407,\n",
       " 190741: 3.674421,\n",
       " 190742: 3.6767986,\n",
       " 190743: 3.679062,\n",
       " 190744: 3.68133,\n",
       " 190745: 3.683592,\n",
       " 190746: 3.6857464,\n",
       " 190747: 3.6879156,\n",
       " 190748: 3.690086,\n",
       " 190749: 3.6921484,\n",
       " 190750: 3.6942286,\n",
       " 190751: 3.6962974,\n",
       " 190752: 3.6982598,\n",
       " 190753: 3.7002475,\n",
       " 190754: 3.7022302,\n",
       " 190755: 3.7042131,\n",
       " 190756: 3.7062037,\n",
       " 190757: 3.7081883,\n",
       " 190758: 3.7100563,\n",
       " 190759: 3.7119336,\n",
       " 190760: 3.7138004,\n",
       " 190761: 3.715662,\n",
       " 190762: 3.717426,\n",
       " 190763: 3.7192025,\n",
       " 190764: 3.7209644,\n",
       " 190765: 3.722615,\n",
       " 190766: 3.7242832,\n",
       " 190767: 3.7258358,\n",
       " 190768: 3.7274144,\n",
       " 190769: 3.7290008,\n",
       " 190770: 3.7305856,\n",
       " 190771: 3.7320726,\n",
       " 190772: 3.7335758,\n",
       " 190773: 3.73507,\n",
       " 190774: 3.7365627,\n",
       " 190775: 3.7380612,\n",
       " 190776: 3.7395587,\n",
       " 190777: 3.741053,\n",
       " 190778: 3.7425444,\n",
       " 190779: 3.744025,\n",
       " 190780: 3.745495,\n",
       " 190781: 3.7468588,\n",
       " 190782: 3.748235,\n",
       " 190783: 3.749607,\n",
       " 190784: 3.7509792,\n",
       " 190785: 3.752243,\n",
       " 190786: 3.7535205,\n",
       " 190787: 3.754795,\n",
       " 190788: 3.7559533,\n",
       " 190789: 3.7571337,\n",
       " 190790: 3.7583191,\n",
       " 190791: 3.7595096,\n",
       " 190792: 3.7607071,\n",
       " 190793: 3.761902,\n",
       " 190794: 3.7630935,\n",
       " 190795: 3.764174,\n",
       " 190796: 3.7652686,\n",
       " 190797: 3.7663617,\n",
       " 190798: 3.7674522,\n",
       " 190799: 3.76855,\n",
       " 190800: 3.769649,\n",
       " 190801: 3.7707388,\n",
       " 190802: 3.7718155,\n",
       " 190803: 3.7728865,\n",
       " 190804: 3.7738526,\n",
       " 190805: 3.7748325,\n",
       " 190806: 3.7758186,\n",
       " 190807: 3.7768114,\n",
       " 190808: 3.7778053,\n",
       " 190809: 3.7787986,\n",
       " 190810: 3.7796774,\n",
       " 190811: 3.7805614,\n",
       " 190812: 3.7814374,\n",
       " 190813: 3.7823198,\n",
       " 190814: 3.7832143,\n",
       " 190815: 3.7841103,\n",
       " 190816: 3.7850056,\n",
       " 190817: 3.7858953,\n",
       " 190818: 3.786669,\n",
       " 190819: 3.7874577,\n",
       " 190820: 3.7882478,\n",
       " 190821: 3.7890406,\n",
       " 190822: 3.7898388,\n",
       " 190823: 3.7906404,\n",
       " 190824: 3.791435,\n",
       " 190825: 3.7922196,\n",
       " 190826: 3.7930007,\n",
       " 190827: 3.7937813,\n",
       " 190828: 3.7944553,\n",
       " 190829: 3.7951553,\n",
       " 190830: 3.7958543,\n",
       " 190831: 3.7965515,\n",
       " 190832: 3.797253,\n",
       " 190833: 3.79795,\n",
       " 190834: 3.79864,\n",
       " 190835: 3.7993233,\n",
       " 190836: 3.8000023,\n",
       " 190837: 3.8006847,\n",
       " 190838: 3.8012595,\n",
       " 190839: 3.8018575,\n",
       " 190840: 3.8024564,\n",
       " 190841: 3.8030543,\n",
       " 190842: 3.8036585,\n",
       " 190843: 3.8042614,\n",
       " 190844: 3.8048549,\n",
       " 190845: 3.805439,\n",
       " 190846: 3.806021,\n",
       " 190847: 3.8066094,\n",
       " 190848: 3.8071983,\n",
       " 190849: 3.807684,\n",
       " 190850: 3.808189,\n",
       " 190851: 3.8086882,\n",
       " 190852: 3.8091893,\n",
       " 190853: 3.8096936,\n",
       " 190854: 3.810194,\n",
       " 190855: 3.8106866,\n",
       " 190856: 3.811175,\n",
       " 190857: 3.8116627,\n",
       " 190858: 3.812152,\n",
       " 190859: 3.8126419,\n",
       " 190860: 3.8131397,\n",
       " 190861: 3.8136392,\n",
       " 190862: 3.8141375,\n",
       " 190863: 3.8146338,\n",
       " 190864: 3.8151248,\n",
       " 190865: 3.8156116,\n",
       " 190866: 3.816096,\n",
       " 190867: 3.8164685,\n",
       " 190868: 3.8168612,\n",
       " 190869: 3.8172495,\n",
       " 190870: 3.8176417,\n",
       " 190871: 3.8180416,\n",
       " 190872: 3.8184412,\n",
       " 190873: 3.8188388,\n",
       " 190874: 3.8192337,\n",
       " 190875: 3.819627,\n",
       " 190876: 3.8200223,\n",
       " 190877: 3.82042,\n",
       " 190878: 3.8208225,\n",
       " 190879: 3.8212235,\n",
       " 190880: 3.8216236,\n",
       " 190881: 3.8220203,\n",
       " 190882: 3.8224123,\n",
       " 190883: 3.8228006,\n",
       " 190884: 3.8231862,\n",
       " 190885: 3.823462,\n",
       " 190886: 3.8237593,\n",
       " 190887: 3.824054,\n",
       " 190888: 3.824349,\n",
       " 190889: 3.8246524,\n",
       " 190890: 3.8249538,\n",
       " 190891: 3.8252537,\n",
       " 190892: 3.8255517,\n",
       " 190893: 3.825846,\n",
       " 190894: 3.8261402,\n",
       " 190895: 3.8264399,\n",
       " 190896: 3.8267453,\n",
       " 190897: 3.827052,\n",
       " 190898: 3.8273554,\n",
       " 190899: 3.8276556,\n",
       " 190900: 3.8279502,\n",
       " 190901: 3.828242,\n",
       " 190902: 3.8285308,\n",
       " 190903: 3.8288176,\n",
       " 190904: 3.8291087,\n",
       " 190905: 3.8293989,\n",
       " 190906: 3.8295805,\n",
       " 190907: 3.82978,\n",
       " 190908: 3.8299766,\n",
       " 190909: 3.8301768,\n",
       " 190910: 3.8303857,\n",
       " 190911: 3.8305936,\n",
       " 190912: 3.8307965,\n",
       " 190913: 3.8309965,\n",
       " 190914: 3.8311946,\n",
       " 190915: 3.8313932,\n",
       " 190916: 3.8315945,\n",
       " 190917: 3.831802,\n",
       " 190918: 3.8321197,\n",
       " 190919: 3.8324187,\n",
       " 190920: 3.8327155,\n",
       " 190921: 3.8330047,\n",
       " 190922: 3.8332853,\n",
       " 190923: 3.833453,\n",
       " 190924: 3.8336396,\n",
       " 190925: 3.8338327,\n",
       " 190926: 3.8340273,\n",
       " 190927: 3.8342292,\n",
       " 190928: 3.8344276,\n",
       " 190929: 3.8346176,\n",
       " 190930: 3.8348026,\n",
       " 190931: 3.8349905,\n",
       " 190932: 3.835072,\n",
       " 190933: 3.8351777,\n",
       " 190934: 3.8352895,\n",
       " 190935: 3.8354082,\n",
       " 190936: 3.8356414,\n",
       " 190937: 3.8358507,\n",
       " 190938: 3.8360546,\n",
       " 190939: 3.83625,\n",
       " 190940: 3.8364322,\n",
       " 190941: 3.8366141,\n",
       " 190942: 3.836806,\n",
       " 190943: 3.8370068,\n",
       " 190944: 3.8372123,\n",
       " 190945: 3.837416,\n",
       " 190946: 3.837612,\n",
       " 190947: 3.8377964,\n",
       " 190948: 3.8378708,\n",
       " 190949: 3.8379607,\n",
       " 190950: 3.8380468,\n",
       " 190951: 3.8381453,\n",
       " 190952: 3.8382528,\n",
       " 190953: 3.8383625,\n",
       " 190954: 3.8384714,\n",
       " 190955: 3.838573,\n",
       " 190956: 3.8386729,\n",
       " 190957: 3.8387747,\n",
       " 190958: 3.838881,\n",
       " 190959: 3.8389902,\n",
       " 190960: 3.8391018,\n",
       " 190961: 3.8393183,\n",
       " 190962: 3.839515,\n",
       " 190963: 3.8397093,\n",
       " 190964: 3.8398998,\n",
       " 190965: 3.8399713,\n",
       " 190966: 3.8400578,\n",
       " 190967: 3.8401496,\n",
       " 190968: 3.8402472,\n",
       " 190969: 3.8403544,\n",
       " 190970: 3.840462,\n",
       " 190971: 3.8405633,\n",
       " 190972: 3.8406534,\n",
       " 190973: 3.84074,\n",
       " 190974: 3.8408298,\n",
       " 190975: 3.840925,\n",
       " 190976: 3.8410294,\n",
       " 190977: 3.8411396,\n",
       " 190978: 3.84125,\n",
       " 190979: 3.8413568,\n",
       " 190980: 3.8414586,\n",
       " 190981: 3.8415582,\n",
       " 190982: 3.8416529,\n",
       " 190983: 3.8417456,\n",
       " 190984: 3.8418417,\n",
       " 190985: 3.8419368,\n",
       " 190986: 3.8420315,\n",
       " 190987: 3.8421285,\n",
       " 190988: 3.8422246,\n",
       " 190989: 3.842323,\n",
       " 190990: 3.8424244,\n",
       " 190991: 3.842525,\n",
       " 190992: 3.842625,\n",
       " 190993: 3.8427227,\n",
       " 190994: 3.8428192,\n",
       " 190995: 3.8429165,\n",
       " 190996: 3.843013,\n",
       " 190997: 3.8431098,\n",
       " 190998: 3.843206,\n",
       " 190999: 3.8433003,\n",
       " 191000: 3.843397,\n",
       " 191001: 3.8433821,\n",
       " 191002: 3.843386,\n",
       " 191003: 3.8433886,\n",
       " 191004: 3.8433926,\n",
       " 191005: 3.843404,\n",
       " 191006: 3.8435254,\n",
       " 191007: 3.8436275,\n",
       " 191008: 3.8437264,\n",
       " 191009: 3.843821,\n",
       " 191010: 3.843911,\n",
       " 191011: 3.8440053,\n",
       " 191012: 3.844109,\n",
       " 191013: 3.844218,\n",
       " 191014: 3.8443255,\n",
       " 191015: 3.844429,\n",
       " 191016: 3.8445218,\n",
       " 191017: 3.8446074,\n",
       " 191018: 3.8446872,\n",
       " 191019: 3.8446572,\n",
       " 191020: 3.84465,\n",
       " 191021: 3.8446467,\n",
       " 191022: 3.844649,\n",
       " 191023: 3.8446631,\n",
       " 191024: 3.8446784,\n",
       " 191025: 3.8446887,\n",
       " 191026: 3.8446965,\n",
       " 191027: 3.844701,\n",
       " 191028: 3.844815,\n",
       " 191029: 3.8449163,\n",
       " 191030: 3.845024,\n",
       " 191031: 3.845128,\n",
       " 191032: 3.8452234,\n",
       " 191033: 3.8453188,\n",
       " 191034: 3.8454115,\n",
       " 191035: 3.845505,\n",
       " 191036: 3.8455985,\n",
       " 191037: 3.845579,\n",
       " 191038: 3.8455749,\n",
       " 191039: 3.8455641,\n",
       " 191040: 3.8455546,\n",
       " 191041: 3.845554,\n",
       " 191042: 3.8455563,\n",
       " 191043: 3.845561,\n",
       " 191044: 3.8455653,\n",
       " 191045: 3.845571,\n",
       " 191046: 3.8455787,\n",
       " 191047: 3.8455875,\n",
       " 191048: 3.8456025,\n",
       " 191049: 3.8457272,\n",
       " 191050: 3.8458323,\n",
       " 191051: 3.8459353,\n",
       " 191052: 3.846029,\n",
       " 191053: 3.8461115,\n",
       " 191054: 3.8461921,\n",
       " 191055: 3.8461668,\n",
       " 191056: 3.8461661,\n",
       " 191057: 3.846166,\n",
       " 191058: 3.8461666,\n",
       " 191059: 3.8461742,\n",
       " 191060: 3.8461738,\n",
       " 191061: 3.8461688,\n",
       " 191062: 3.8461657,\n",
       " 191063: 3.8461611,\n",
       " 191064: 3.846161,\n",
       " 191065: 3.8461673,\n",
       " 191066: 3.846182,\n",
       " 191067: 3.8461993,\n",
       " 191068: 3.8462102,\n",
       " 191069: 3.8463302,\n",
       " 191070: 3.846427,\n",
       " 191071: 3.8465214,\n",
       " 191072: 3.8466098,\n",
       " 191073: 3.8466904,\n",
       " 191074: 3.846662,\n",
       " 191075: 3.8466544,\n",
       " 191076: 3.8466518,\n",
       " 191077: 3.8466547,\n",
       " 191078: 3.8466623,\n",
       " 191079: 3.846669,\n",
       " 191080: 3.8466687,\n",
       " 191081: 3.8466616,\n",
       " 191082: 3.8466527,\n",
       " 191083: 3.8466496,\n",
       " 191084: 3.846656,\n",
       " 191085: 3.8466685,\n",
       " 191086: 3.8466828,\n",
       " 191087: 3.8466973,\n",
       " 191088: 3.8467045,\n",
       " 191089: 3.8468175,\n",
       " 191090: 3.846912,\n",
       " 191091: 3.8470025,\n",
       " 191092: 3.847091,\n",
       " 191093: 3.8470654,\n",
       " 191094: 3.8470542,\n",
       " 191095: 3.8470457,\n",
       " 191096: 3.847046,\n",
       " 191097: 3.847054,\n",
       " 191098: 3.8470628,\n",
       " 191099: 3.8470676,\n",
       " 191100: 3.8470626,\n",
       " 191101: 3.8470514,\n",
       " 191102: 3.8470452,\n",
       " 191103: 3.8470461,\n",
       " 191104: 3.8470562,\n",
       " 191105: 3.8470693,\n",
       " 191106: 3.8470829,\n",
       " 191107: 3.847093,\n",
       " 191108: 3.847094,\n",
       " 191109: 3.8470953,\n",
       " 191110: 3.8470936,\n",
       " 191111: 3.8470888,\n",
       " 191112: 3.8470886,\n",
       " 191113: 3.8470888,\n",
       " 191114: 3.8470855,\n",
       " 191115: 3.8470838,\n",
       " 191116: 3.8470836,\n",
       " 191117: 3.8470836,\n",
       " 191118: 3.8470862,\n",
       " 191119: 3.8470888,\n",
       " 191120: 3.8470914,\n",
       " 191121: 3.8470922,\n",
       " 191122: 3.847094,\n",
       " 191123: 3.8470948,\n",
       " 191124: 3.847094,\n",
       " 191125: 3.8470945,\n",
       " 191126: 3.847094,\n",
       " 191127: 3.8470907,\n",
       " 191128: 3.8470893,\n",
       " 191129: 3.8470876,\n",
       " 191130: 3.847087,\n",
       " 191131: 3.8470874,\n",
       " 191132: 3.8470888,\n",
       " 191133: 3.8470888,\n",
       " 191134: 3.8470883,\n",
       " 191135: 3.847088,\n",
       " 191136: 3.847088,\n",
       " 191137: 3.8470879,\n",
       " 191138: 3.8470883,\n",
       " 191139: 3.8470895,\n",
       " 191140: 3.8470905,\n",
       " 191141: 3.8470924,\n",
       " 191142: 3.847094,\n",
       " 191143: 3.8470948,\n",
       " 191144: 3.8470945,\n",
       " 191145: 3.8470948,\n",
       " 191146: 3.847094,\n",
       " 191147: 3.847092,\n",
       " 191148: 3.8470907,\n",
       " 191149: 3.8470886,\n",
       " 191150: 3.8470883,\n",
       " 191151: 3.8470876,\n",
       " 191152: 3.8470876,\n",
       " 191153: 3.8470876,\n",
       " 191154: 3.8470876,\n",
       " 191155: 3.8470876,\n",
       " 191156: 3.8470876,\n",
       " 191157: 3.8470876,\n",
       " 191158: 3.8470876,\n",
       " 191159: 3.8470876,\n",
       " 191160: 3.8470876,\n",
       " 191161: 3.8470876,\n",
       " 191162: 3.8470876,\n",
       " 191163: 3.8470876,\n",
       " 191164: 3.8470876,\n",
       " 191165: 3.8470876,\n",
       " 191166: 3.8470876,\n",
       " 191167: 3.8470876,\n",
       " 191168: 3.8470876,\n",
       " 191169: 3.8470876,\n",
       " 191170: 3.8470876,\n",
       " 191171: 3.8470876,\n",
       " 191172: 3.8470876,\n",
       " 191173: 3.8470876,\n",
       " 191174: 3.8470876,\n",
       " 191175: 3.8470876,\n",
       " 191176: 3.8470876,\n",
       " 191177: 3.8470876,\n",
       " 191178: 3.8470876,\n",
       " 191179: 3.8470876,\n",
       " 191180: 3.8470876,\n",
       " 191181: 3.8470876,\n",
       " 191182: 3.8470876,\n",
       " 191183: 3.8470876,\n",
       " 191184: 3.8470876,\n",
       " 191185: 3.8470876,\n",
       " 191186: 3.8470876,\n",
       " 191187: 3.8470876,\n",
       " 191188: 3.8470876,\n",
       " 191189: 3.8470876,\n",
       " 191190: 3.8470876,\n",
       " 191191: 3.8470876,\n",
       " 191192: 3.8470876,\n",
       " 191193: 3.8470876,\n",
       " 191194: 3.8470876,\n",
       " 191195: 3.8470876,\n",
       " 191196: 3.8470876,\n",
       " 191197: 3.8470876,\n",
       " 191198: 3.8470876,\n",
       " 191199: 3.8470876,\n",
       " 191200: 3.8470876,\n",
       " 191201: 3.8470876,\n",
       " 191202: 3.8470876,\n",
       " 191203: 3.8470876,\n",
       " 191204: 3.8470876,\n",
       " 191205: 3.8470876,\n",
       " 191206: 3.8470876,\n",
       " 191207: 3.8470876,\n",
       " 191208: 3.8470876,\n",
       " 191209: 3.8470876,\n",
       " 191210: 3.8470876,\n",
       " 191211: 3.8470876,\n",
       " 191212: 3.8470876,\n",
       " 191213: 3.8470876,\n",
       " 191214: 3.8470876,\n",
       " 191215: 3.8470876,\n",
       " 191216: 3.8470876,\n",
       " 191217: 3.8470876,\n",
       " 191218: 3.8470876,\n",
       " 191219: 3.8470876,\n",
       " 191220: 3.8470876,\n",
       " 191221: 3.8470876,\n",
       " 191222: 3.8470876,\n",
       " 191223: 3.8470876,\n",
       " 191224: 3.8470876,\n",
       " 191225: 3.8470876,\n",
       " 191226: 3.8470876,\n",
       " 191227: 3.8470876,\n",
       " 191228: 3.8470876,\n",
       " 191229: 3.8470876,\n",
       " 191230: 3.8470876,\n",
       " 191231: 3.8470876,\n",
       " 191232: 3.8470876,\n",
       " 191233: 3.8470876,\n",
       " 191234: 3.8470876,\n",
       " 191235: 3.8470876,\n",
       " 191236: 3.8470876,\n",
       " 191237: 3.8470876,\n",
       " 191238: 3.8470876,\n",
       " 191239: 3.8470876,\n",
       " 191240: 3.8470876,\n",
       " 191241: 3.8470876,\n",
       " 191242: 3.8470876,\n",
       " 191243: 3.8470876,\n",
       " 191244: 3.8470876,\n",
       " 191245: 3.8470876,\n",
       " 191246: 3.8470876,\n",
       " 191247: 3.8470876,\n",
       " 191248: 3.8470876,\n",
       " 191249: 3.8470876,\n",
       " 191250: 3.8470876,\n",
       " 191251: 3.8470876,\n",
       " 191252: 3.8470876,\n",
       " 191253: 3.8470876,\n",
       " 191254: 3.8470876,\n",
       " 191255: 3.8470876,\n",
       " 191256: 3.8470876,\n",
       " 191257: 3.8470876,\n",
       " 191258: 3.8470876,\n",
       " 191259: 3.8470876,\n",
       " 191260: 3.8470876,\n",
       " 191261: 3.8470876,\n",
       " 191262: 3.8470876,\n",
       " 191263: 3.8470876,\n",
       " 191264: 3.8470876,\n",
       " 191265: 3.8470876,\n",
       " 191266: 3.8470876,\n",
       " 191267: 3.8470876,\n",
       " 191268: 3.8470876,\n",
       " 191269: 3.8470876,\n",
       " 191270: 3.8470876,\n",
       " 191271: 3.8470876,\n",
       " 191272: 3.8470876,\n",
       " 191273: 3.8470876,\n",
       " 191274: 3.8470876,\n",
       " 191275: 3.8470876,\n",
       " 191276: 3.8470876,\n",
       " 191277: 3.8470876,\n",
       " 191278: 3.8470876,\n",
       " 191279: 3.8470876,\n",
       " 191280: 3.8470876,\n",
       " 191281: 3.8470876,\n",
       " 191282: 3.8470876,\n",
       " 191283: 3.8470876,\n",
       " 191284: 3.8470876,\n",
       " 191285: 3.8470876,\n",
       " 191286: 3.8470876,\n",
       " 191287: 3.8470876,\n",
       " 191288: 3.8470876,\n",
       " 191289: 3.8470876,\n",
       " 191290: 3.8470876,\n",
       " 191291: 3.8470876,\n",
       " 191292: 3.8470876,\n",
       " 191293: 3.8470876,\n",
       " 191294: 3.8470876,\n",
       " 191295: 3.8470876,\n",
       " 191296: 3.8470876,\n",
       " 191297: 3.8470876,\n",
       " 191298: 3.8470876,\n",
       " 191299: 3.8470876,\n",
       " 191300: 3.8470876,\n",
       " 191301: 3.8470876,\n",
       " 191302: 3.8470876,\n",
       " 191303: 3.8470876,\n",
       " 191304: 3.8470876,\n",
       " 191305: 3.8470876,\n",
       " 191306: 3.8470876,\n",
       " 191307: 3.8470876,\n",
       " 191308: 3.8470876,\n",
       " 191309: 3.8470876,\n",
       " 191310: 3.8470876,\n",
       " 191311: 3.8470876,\n",
       " 191312: 3.8470876,\n",
       " 191313: 3.8470876,\n",
       " 191314: 3.8470876,\n",
       " 191315: 3.8470876,\n",
       " 191316: 3.8470876,\n",
       " 191317: 3.8470876,\n",
       " 191318: 3.8470876,\n",
       " 191319: 3.8470876,\n",
       " 191320: 3.8470876,\n",
       " 191321: 3.8470876,\n",
       " 191322: 3.8470876,\n",
       " 191323: 3.8470876,\n",
       " 191324: 3.8470876,\n",
       " 191325: 3.8470876,\n",
       " 191326: 3.8470876,\n",
       " 191327: 3.8470876,\n",
       " 191328: 3.8470876,\n",
       " 191329: 3.8470876,\n",
       " 191330: 3.8470876,\n",
       " 191331: 3.8470876,\n",
       " 191332: 3.8470876,\n",
       " 191333: 3.8470876,\n",
       " 191334: 3.8470876,\n",
       " 191335: 3.8470876,\n",
       " 191336: 3.8470876,\n",
       " 191337: 3.8470876,\n",
       " 191338: 3.8470876,\n",
       " 191339: 3.8470876,\n",
       " 191340: 3.8470876,\n",
       " 191341: 3.8470876,\n",
       " 191342: 3.8470876,\n",
       " 191343: 3.8470876,\n",
       " 191344: 3.8470876,\n",
       " 191345: 3.8470876,\n",
       " 191346: 3.8470876,\n",
       " 191347: 3.8470876,\n",
       " 191348: 3.8470876,\n",
       " 191349: 3.8470876,\n",
       " 191350: 3.8470876,\n",
       " 191351: 3.8470876,\n",
       " 191352: 3.8470876,\n",
       " 191353: 3.8470876,\n",
       " 191354: 3.8470876,\n",
       " 191355: 3.8470876,\n",
       " 191356: 3.8470876,\n",
       " 191357: 3.8470876,\n",
       " 191358: 3.8470876,\n",
       " 191359: 3.8470876,\n",
       " 191360: 3.8470876,\n",
       " 191361: 3.8470876,\n",
       " 191362: 3.8470876,\n",
       " 191363: 3.8470876,\n",
       " 191364: 3.8470876,\n",
       " 191365: 3.8470876,\n",
       " 191366: 3.8470876,\n",
       " 191367: 3.8470876,\n",
       " 191368: 3.8470876,\n",
       " 191369: 3.8470876,\n",
       " 191370: 3.8470876,\n",
       " 191371: 3.8470876,\n",
       " 191372: 3.8470876,\n",
       " 191373: 3.8470876,\n",
       " 191374: 3.8470876,\n",
       " 191375: 3.8470876,\n",
       " 191376: 3.8470876,\n",
       " 191377: 3.8470876,\n",
       " 191378: 3.8470876,\n",
       " 191379: 3.8470876,\n",
       " 191380: 3.8470876,\n",
       " 191381: 3.8470876,\n",
       " 191382: 3.8470876,\n",
       " 191383: 3.8470876,\n",
       " 191384: 3.8470876,\n",
       " 191385: 3.8470876,\n",
       " 191386: 3.8470876,\n",
       " 191387: 3.8470876,\n",
       " 191388: 3.8470876,\n",
       " 191389: 3.8470876,\n",
       " 191390: 3.8470876,\n",
       " 191391: 3.8470876,\n",
       " 191392: 3.8470876,\n",
       " 191393: 3.8470876,\n",
       " 191394: 3.8470876,\n",
       " 191395: 3.8470876,\n",
       " 191396: 3.8470876,\n",
       " 191397: 3.8470876,\n",
       " 191398: 3.8470876,\n",
       " 191399: 3.8470876,\n",
       " 191400: 3.8470876,\n",
       " 191401: 3.8470876,\n",
       " 191402: 3.8470876,\n",
       " 191403: 3.8470876,\n",
       " 191404: 3.8470876,\n",
       " 191405: 3.8470876,\n",
       " 191406: 3.8470876,\n",
       " 191407: 3.8470876,\n",
       " 191408: 3.8470876,\n",
       " 191409: 3.8470876,\n",
       " 191410: 3.8470876,\n",
       " 191411: 3.8470876,\n",
       " 191412: 3.8470876,\n",
       " 191413: 3.8470876,\n",
       " 191414: 3.8470876,\n",
       " 191415: 3.8470876,\n",
       " 191416: 3.8470876,\n",
       " 191417: 3.8470876,\n",
       " 191418: 3.8470876,\n",
       " 191419: 3.8470876,\n",
       " 191420: 3.8470876,\n",
       " 191421: 3.8470876,\n",
       " 191422: 3.8470876,\n",
       " 191423: 3.8470876,\n",
       " 191424: 3.8470876,\n",
       " 191425: 3.8470876,\n",
       " 191426: 3.8470876,\n",
       " 191427: 3.8470876,\n",
       " 191428: 3.8470876,\n",
       " 191429: 3.8470876,\n",
       " 191430: 3.8470876,\n",
       " 191431: 3.8470876,\n",
       " 191432: 3.8470876,\n",
       " 191433: 3.8470876,\n",
       " 191434: 3.8470876,\n",
       " 191435: 3.8470876,\n",
       " 191436: 3.8470876,\n",
       " 191437: 3.8470876,\n",
       " 191438: 3.8470876,\n",
       " 191439: 3.8470876,\n",
       " 191440: 3.8470876,\n",
       " 191441: 3.8470876,\n",
       " 191442: 3.8470876,\n",
       " 191443: 3.8470876,\n",
       " 191444: 3.8470876,\n",
       " 191445: 3.8470876,\n",
       " 191446: 3.8470876,\n",
       " 191447: 3.8470876,\n",
       " 191448: 3.8470876,\n",
       " 191449: 3.8470876,\n",
       " 191450: 3.8470876,\n",
       " 191451: 3.8470876,\n",
       " 191452: 3.8470876,\n",
       " 191453: 3.8470876,\n",
       " 191454: 3.8470876,\n",
       " 191455: 3.8470876,\n",
       " 191456: 3.8470876,\n",
       " 191457: 3.8470876,\n",
       " 191458: 3.8470876,\n",
       " 191459: 3.8470876,\n",
       " 191460: 3.8470876,\n",
       " 191461: 3.8470876,\n",
       " 191462: 3.8470876,\n",
       " 191463: 3.8470876,\n",
       " 191464: 3.8470876,\n",
       " 191465: 3.8470876,\n",
       " 191466: 3.8470876,\n",
       " 191467: 3.8470876,\n",
       " 191468: 3.8470876,\n",
       " 191469: 3.8470876,\n",
       " 191470: 3.8470876,\n",
       " 191471: 3.8470876,\n",
       " 191472: 3.8470876,\n",
       " 191473: 3.8470876,\n",
       " 191474: 3.8470876,\n",
       " 191475: 3.8470876,\n",
       " 191476: 3.8470876,\n",
       " 191477: 3.8470876,\n",
       " 191478: 3.8470876,\n",
       " 191479: 3.8470876,\n",
       " 191480: 3.8470876,\n",
       " 191481: 3.8470876,\n",
       " 191482: 3.8470876,\n",
       " 191483: 3.8470876,\n",
       " 191484: 3.8470876,\n",
       " 191485: 3.8470876,\n",
       " 191486: 3.8470876,\n",
       " 191487: 3.8470876,\n",
       " ...}"
      ]
     },
     "execution_count": 62,
     "metadata": {
      "tags": []
     },
     "output_type": "execute_result"
    }
   ],
   "source": [
    "pred_missing={}\n",
    "for index in missing_indices:\n",
    "  #print(index)\n",
    "  #index=6839\n",
    "  x_test=X_main[index-window_size:index]\n",
    "  x_test=x_test.astype(float).reshape(1,-1)\n",
    "  #print(x_test.shape)\n",
    "  y_pred = model.predict(x_test, verbose=0)\n",
    "  #y_pred = reg.predict(x_test)\n",
    "  # print(y_pred[0][0])\n",
    "  pred_missing[index]=y_pred[0][0]\n",
    "  X_main[index]=y_pred[0][0]\n",
    "pred_missing\n"
   ]
  },
  {
   "cell_type": "markdown",
   "metadata": {
    "colab_type": "text",
    "id": "N7tM3tlji4Y1"
   },
   "source": [
    "## Checking For window size of 2 hrs ( 120 )"
   ]
  },
  {
   "cell_type": "code",
   "execution_count": 0,
   "metadata": {
    "colab": {},
    "colab_type": "code",
    "id": "x2M28HqQUNhW"
   },
   "outputs": [],
   "source": [
    "window_size=120"
   ]
  },
  {
   "cell_type": "code",
   "execution_count": 0,
   "metadata": {
    "colab": {},
    "colab_type": "code",
    "id": "QziTlWS0imA_"
   },
   "outputs": [],
   "source": [
    "X_main=dataset['Global_active_power']\n",
    "X_main=X_main.to_numpy()\n",
    "X= split_sequence(X_main,window_size)\n",
    "X=X.astype('str')\n",
    "mask = np.all(X !='?', axis=1)\n",
    "X=X[mask]\n",
    "XX=X[:,:-1].astype(float)\n",
    "y=X[:,-1].astype(float)"
   ]
  },
  {
   "cell_type": "code",
   "execution_count": 0,
   "metadata": {
    "colab": {},
    "colab_type": "code",
    "id": "2eLhtpXhhHFF"
   },
   "outputs": [],
   "source": [
    "from sklearn.model_selection import train_test_split\n",
    "X_train, X_test, y_train, y_test = train_test_split(XX, y, test_size=0.20, random_state=31)"
   ]
  },
  {
   "cell_type": "code",
   "execution_count": 0,
   "metadata": {
    "colab": {},
    "colab_type": "code",
    "id": "uaAGnR7nhPyB"
   },
   "outputs": [],
   "source": [
    "model = Sequential()\n",
    "model.add(Dense(100, activation='relu', input_dim=window_size))\n",
    "model.add(Dense(1))\n",
    "model.compile(optimizer='adam', loss='mse')"
   ]
  },
  {
   "cell_type": "code",
   "execution_count": 67,
   "metadata": {
    "colab": {
     "base_uri": "https://localhost:8080/",
     "height": 34
    },
    "colab_type": "code",
    "id": "hVR6T-juhXer",
    "outputId": "a2833690-d7b6-428c-d535-37be6736cc95"
   },
   "outputs": [
    {
     "data": {
      "text/plain": [
       "<tensorflow.python.keras.callbacks.History at 0x7f3b0284b6a0>"
      ]
     },
     "execution_count": 67,
     "metadata": {
      "tags": []
     },
     "output_type": "execute_result"
    }
   ],
   "source": [
    "model.fit(X_train, y_train, epochs=3, verbose=0)"
   ]
  },
  {
   "cell_type": "code",
   "execution_count": 68,
   "metadata": {
    "colab": {
     "base_uri": "https://localhost:8080/",
     "height": 156
    },
    "colab_type": "code",
    "id": "6wOrgReQhgZB",
    "outputId": "40446bb5-6984-402e-c562-705e945a73ea"
   },
   "outputs": [
    {
     "name": "stdout",
     "output_type": "stream",
     "text": [
      "[[4.1119356]\n",
      " [1.27963  ]\n",
      " [1.2897612]\n",
      " ...\n",
      " [1.4351709]\n",
      " [3.0839438]\n",
      " [4.8598633]]\n"
     ]
    },
    {
     "data": {
      "text/plain": [
       "0.93909322693793"
      ]
     },
     "execution_count": 68,
     "metadata": {
      "tags": []
     },
     "output_type": "execute_result"
    }
   ],
   "source": [
    "y_pred = model.predict(X_test, verbose=0)\n",
    "print(y_pred)\n",
    "from sklearn.metrics import r2_score\n",
    "r2_score(y_test, y_pred)"
   ]
  },
  {
   "cell_type": "code",
   "execution_count": 0,
   "metadata": {
    "colab": {},
    "colab_type": "code",
    "id": "MpDgt8X5jUUF"
   },
   "outputs": [],
   "source": [
    "missing_indices=np.where(~mask)\n",
    "missing_indices=np.array(missing_indices).flatten()\n",
    "missing_indices\n",
    "X_main=X_main.reshape(-1)"
   ]
  },
  {
   "cell_type": "code",
   "execution_count": 70,
   "metadata": {
    "colab": {
     "base_uri": "https://localhost:8080/",
     "height": 1000
    },
    "colab_type": "code",
    "id": "LGdta2j0jXts",
    "outputId": "9a7319fc-4027-4c58-93fb-a6270a834935"
   },
   "outputs": [
    {
     "data": {
      "text/plain": [
       "{6719: 3.6653774,\n",
       " 6720: 3.5929344,\n",
       " 6721: 3.5624988,\n",
       " 6722: 3.5546823,\n",
       " 6723: 3.506437,\n",
       " 6724: 3.4787092,\n",
       " 6725: 3.4103448,\n",
       " 6726: 3.2898803,\n",
       " 6727: 3.2039816,\n",
       " 6728: 3.144487,\n",
       " 6729: 3.1283028,\n",
       " 6730: 3.152235,\n",
       " 6731: 3.0876136,\n",
       " 6732: 3.0013669,\n",
       " 6733: 3.0071251,\n",
       " 6734: 2.9986205,\n",
       " 6735: 2.9834774,\n",
       " 6736: 2.9577956,\n",
       " 6737: 2.9022157,\n",
       " 6738: 2.8678348,\n",
       " 6739: 2.8583348,\n",
       " 6740: 2.8322008,\n",
       " 6741: 2.7894692,\n",
       " 6742: 2.7542152,\n",
       " 6743: 2.732966,\n",
       " 6744: 2.6899364,\n",
       " 6745: 2.654047,\n",
       " 6746: 2.6418414,\n",
       " 6747: 2.6251926,\n",
       " 6748: 2.5751433,\n",
       " 6749: 2.5552967,\n",
       " 6750: 2.553972,\n",
       " 6751: 2.544481,\n",
       " 6752: 2.528464,\n",
       " 6753: 2.530978,\n",
       " 6754: 2.5474906,\n",
       " 6755: 2.5418496,\n",
       " 6756: 2.535755,\n",
       " 6757: 2.5215805,\n",
       " 6758: 2.4761598,\n",
       " 6759: 2.4183214,\n",
       " 6760: 2.3827248,\n",
       " 6761: 2.3325741,\n",
       " 6762: 2.2259924,\n",
       " 6763: 2.132712,\n",
       " 6764: 2.0534537,\n",
       " 6765: 1.9683708,\n",
       " 6766: 1.9019192,\n",
       " 6767: 1.8291955,\n",
       " 6768: 1.7579236,\n",
       " 6769: 1.6907909,\n",
       " 6770: 1.6250266,\n",
       " 6771: 1.5661695,\n",
       " 6772: 1.5419744,\n",
       " 6773: 1.5434753,\n",
       " 6774: 1.5499152,\n",
       " 6775: 1.5765362,\n",
       " 6776: 1.6111912,\n",
       " 6777: 1.612954,\n",
       " 6778: 1.6459986,\n",
       " 6779: 1.6908131,\n",
       " 6780: 1.6875013,\n",
       " 6781: 1.6708342,\n",
       " 6782: 1.6536518,\n",
       " 6783: 1.6089524,\n",
       " 6784: 1.5452714,\n",
       " 6785: 1.459325,\n",
       " 6786: 1.3691546,\n",
       " 6787: 1.2665962,\n",
       " 6788: 1.1796538,\n",
       " 6789: 1.0774078,\n",
       " 6790: 1.0326765,\n",
       " 6791: 0.98912436,\n",
       " 6792: 0.9415007,\n",
       " 6793: 0.88711095,\n",
       " 6794: 0.81918865,\n",
       " 6795: 0.7496431,\n",
       " 6796: 0.72035074,\n",
       " 6797: 0.6902684,\n",
       " 6798: 0.6698398,\n",
       " 6799: 0.6687775,\n",
       " 6800: 0.6632892,\n",
       " 6801: 0.6297938,\n",
       " 6802: 0.62138164,\n",
       " 6803: 0.60755247,\n",
       " 6804: 0.5950631,\n",
       " 6805: 0.57351506,\n",
       " 6806: 0.5456773,\n",
       " 6807: 0.5379594,\n",
       " 6808: 0.55107117,\n",
       " 6809: 0.54010004,\n",
       " 6810: 0.54458964,\n",
       " 6811: 0.5459119,\n",
       " 6812: 0.5370151,\n",
       " 6813: 0.5160038,\n",
       " 6814: 0.49822575,\n",
       " 6815: 0.45548004,\n",
       " 6816: 0.45634794,\n",
       " 6817: 0.47130382,\n",
       " 6818: 0.47820157,\n",
       " 6819: 0.45218474,\n",
       " 6820: 0.43487978,\n",
       " 6821: 0.43985742,\n",
       " 6822: 0.4254613,\n",
       " 6823: 0.4315622,\n",
       " 6824: 0.42339736,\n",
       " 6825: 0.41963607,\n",
       " 6826: 0.4378624,\n",
       " 6827: 0.4266237,\n",
       " 6828: 0.4248029,\n",
       " 6829: 0.4245507,\n",
       " 6830: 0.42252898,\n",
       " 6831: 0.4354599,\n",
       " 6832: 0.4331476,\n",
       " 6833: 0.4300602,\n",
       " 6834: 0.43030614,\n",
       " 6835: 0.43102187,\n",
       " 6836: 0.42729098,\n",
       " 6837: 0.41775763,\n",
       " 6838: 0.40409148,\n",
       " 6839: 0.3900901,\n",
       " 6840: 0.37403035,\n",
       " 19604: 4.190358,\n",
       " 19605: 4.146865,\n",
       " 19606: 4.2619476,\n",
       " 19607: 4.3427486,\n",
       " 19608: 4.3268595,\n",
       " 19609: 4.2473526,\n",
       " 19610: 4.0721846,\n",
       " 19611: 3.8351872,\n",
       " 19612: 3.6472712,\n",
       " 19613: 3.5102806,\n",
       " 19614: 3.4118874,\n",
       " 19615: 3.3304796,\n",
       " 19616: 3.2435014,\n",
       " 19617: 3.1414309,\n",
       " 19618: 3.1678407,\n",
       " 19619: 3.2152238,\n",
       " 19620: 3.2086897,\n",
       " 19621: 3.1924183,\n",
       " 19622: 3.1905334,\n",
       " 19623: 3.1713362,\n",
       " 19624: 3.1670258,\n",
       " 19625: 3.1571167,\n",
       " 19626: 3.11663,\n",
       " 19627: 3.0818853,\n",
       " 19628: 3.0566523,\n",
       " 19629: 3.016778,\n",
       " 19630: 2.9802163,\n",
       " 19631: 2.9559858,\n",
       " 19632: 2.9326196,\n",
       " 19633: 2.902833,\n",
       " 19634: 2.8878603,\n",
       " 19635: 2.8922591,\n",
       " 19636: 2.8967795,\n",
       " 19637: 2.8855093,\n",
       " 19638: 2.8709347,\n",
       " 19639: 2.8748004,\n",
       " 19640: 2.887313,\n",
       " 19641: 2.894555,\n",
       " 19642: 2.91749,\n",
       " 19643: 2.9422908,\n",
       " 19644: 2.9444494,\n",
       " 19645: 2.9525585,\n",
       " 19646: 2.961532,\n",
       " 19647: 2.9602146,\n",
       " 19648: 2.9696217,\n",
       " 19649: 2.9770226,\n",
       " 19650: 2.9705274,\n",
       " 19651: 2.956925,\n",
       " 19652: 2.9486606,\n",
       " 19653: 2.9403365,\n",
       " 19654: 2.9145856,\n",
       " 19655: 2.9000452,\n",
       " 19656: 2.897394,\n",
       " 19657: 2.8818474,\n",
       " 19658: 2.863939,\n",
       " 19659: 2.8334844,\n",
       " 19660: 2.7976942,\n",
       " 19661: 2.761267,\n",
       " 19662: 2.7375805,\n",
       " 19663: 2.7171082,\n",
       " 19664: 2.6930525,\n",
       " 19665: 2.6367407,\n",
       " 19666: 2.576493,\n",
       " 19667: 2.5385485,\n",
       " 19668: 2.4986644,\n",
       " 19669: 2.4529548,\n",
       " 19670: 2.4014328,\n",
       " 19671: 2.355043,\n",
       " 19672: 2.3227806,\n",
       " 19673: 2.292103,\n",
       " 19674: 2.274745,\n",
       " 19675: 2.2986665,\n",
       " 19676: 2.3353808,\n",
       " 19677: 2.3888786,\n",
       " 19678: 2.4650621,\n",
       " 19679: 2.553837,\n",
       " 19680: 2.6359391,\n",
       " 19681: 2.6910205,\n",
       " 19682: 2.721674,\n",
       " 19683: 2.7198982,\n",
       " 19684: 2.7022674,\n",
       " 19685: 2.6758773,\n",
       " 19686: 2.615003,\n",
       " 19687: 2.5253139,\n",
       " 19688: 2.4042766,\n",
       " 19689: 2.2463613,\n",
       " 19690: 2.0784225,\n",
       " 19691: 1.901039,\n",
       " 19692: 1.7186561,\n",
       " 19693: 1.5727308,\n",
       " 19694: 1.4761806,\n",
       " 19695: 1.4066378,\n",
       " 19696: 1.3670745,\n",
       " 19697: 1.3474803,\n",
       " 19698: 1.3233795,\n",
       " 19699: 1.3021023,\n",
       " 19700: 1.331379,\n",
       " 19701: 1.3693964,\n",
       " 19702: 1.3849189,\n",
       " 19703: 1.3975397,\n",
       " 19704: 1.4238483,\n",
       " 19705: 1.4629551,\n",
       " 19706: 1.4995619,\n",
       " 19707: 1.5316178,\n",
       " 19708: 1.5345018,\n",
       " 19709: 1.5226847,\n",
       " 19710: 1.4851655,\n",
       " 19711: 1.4377589,\n",
       " 19712: 1.3877019,\n",
       " 19713: 1.3084338,\n",
       " 19714: 1.214872,\n",
       " 19715: 1.1199424,\n",
       " 19716: 1.0319034,\n",
       " 19717: 0.97639894,\n",
       " 19718: 0.9085256,\n",
       " 19719: 0.83864945,\n",
       " 19720: 0.77747357,\n",
       " 19721: 0.7179234,\n",
       " 19722: 0.6602704,\n",
       " 19723: 0.61073476,\n",
       " 19724: 0.5719117,\n",
       " 19725: 0.5435483,\n",
       " 41712: 1.3680061,\n",
       " 41713: 1.3471011,\n",
       " 41714: 1.3494745,\n",
       " 41715: 1.388414,\n",
       " 41716: 1.4477586,\n",
       " 41717: 1.4812821,\n",
       " 41718: 1.5071249,\n",
       " 41719: 1.55562,\n",
       " 41720: 1.6628418,\n",
       " 41721: 1.7507603,\n",
       " 41722: 1.8736244,\n",
       " 41723: 1.941805,\n",
       " 41724: 1.9901618,\n",
       " 41725: 2.0711436,\n",
       " 41726: 2.1006813,\n",
       " 41727: 2.115715,\n",
       " 41728: 2.099122,\n",
       " 41729: 2.037685,\n",
       " 41730: 1.9584432,\n",
       " 41731: 1.8793966,\n",
       " 41732: 1.7688594,\n",
       " 41733: 1.6162428,\n",
       " 41734: 1.4767451,\n",
       " 41735: 1.4032799,\n",
       " 41736: 1.286717,\n",
       " 41737: 1.2437499,\n",
       " 41738: 1.1936556,\n",
       " 41739: 1.1216338,\n",
       " 41740: 1.1062889,\n",
       " 41741: 1.070416,\n",
       " 41742: 1.0032053,\n",
       " 41743: 0.9258123,\n",
       " 41744: 0.88431376,\n",
       " 41745: 0.81408143,\n",
       " 41746: 0.7312651,\n",
       " 41747: 0.6359613,\n",
       " 41748: 0.64675504,\n",
       " 41749: 0.6223237,\n",
       " 41750: 0.6228183,\n",
       " 41751: 0.6132546,\n",
       " 41752: 0.60931516,\n",
       " 41753: 0.5625621,\n",
       " 41754: 0.53595126,\n",
       " 41755: 0.53837234,\n",
       " 41756: 0.5597529,\n",
       " 41757: 0.56143546,\n",
       " 41758: 0.6132481,\n",
       " 41759: 0.6679267,\n",
       " 41760: 0.7737669,\n",
       " 41761: 0.84738743,\n",
       " 41762: 0.9144556,\n",
       " 41763: 0.91340286,\n",
       " 41764: 0.9287779,\n",
       " 41765: 0.91917396,\n",
       " 41766: 0.9468448,\n",
       " 41767: 0.99141455,\n",
       " 41768: 0.99181736,\n",
       " 41769: 0.97337663,\n",
       " 41770: 0.97354954,\n",
       " 41771: 0.93131715,\n",
       " 41772: 0.83964264,\n",
       " 41773: 0.77294064,\n",
       " 41774: 0.68819857,\n",
       " 41775: 0.63940716,\n",
       " 41776: 0.598024,\n",
       " 41777: 0.55181366,\n",
       " 41778: 0.5236836,\n",
       " 41779: 0.47815853,\n",
       " 41780: 0.4161228,\n",
       " 41781: 0.38640743,\n",
       " 41782: 0.3346932,\n",
       " 41783: 0.31703237,\n",
       " 41784: 0.32052553,\n",
       " 41785: 0.33965462,\n",
       " 41786: 0.36710668,\n",
       " 41787: 0.40450442,\n",
       " 41788: 0.40051252,\n",
       " 41789: 0.374353,\n",
       " 41790: 0.3429802,\n",
       " 41791: 0.33666998,\n",
       " 41792: 0.3688086,\n",
       " 41793: 0.35649765,\n",
       " 41794: 0.3842154,\n",
       " 41795: 0.42644536,\n",
       " 41796: 0.41632044,\n",
       " 41797: 0.45578736,\n",
       " 41798: 0.41366464,\n",
       " 41799: 0.43092126,\n",
       " 41800: 0.4110163,\n",
       " 41801: 0.41384655,\n",
       " 41802: 0.4306035,\n",
       " 41803: 0.43977934,\n",
       " 41804: 0.41810656,\n",
       " 41805: 0.41379696,\n",
       " 41806: 0.37633592,\n",
       " 41807: 0.33916152,\n",
       " 41808: 0.3192709,\n",
       " 41809: 0.3010522,\n",
       " 41810: 0.30293316,\n",
       " 41811: 0.3135764,\n",
       " 41812: 0.31426954,\n",
       " 41813: 0.3326943,\n",
       " 41814: 0.31055975,\n",
       " 41815: 0.2964218,\n",
       " 41816: 0.27386612,\n",
       " 41817: 0.25272304,\n",
       " 41818: 0.253331,\n",
       " 41819: 0.24150264,\n",
       " 41820: 0.24974474,\n",
       " 41821: 0.25634867,\n",
       " 41822: 0.26357615,\n",
       " 41823: 0.26646632,\n",
       " 41824: 0.25782344,\n",
       " 41825: 0.24547052,\n",
       " 41826: 0.23386826,\n",
       " 41827: 0.22523023,\n",
       " 41828: 0.22221011,\n",
       " 41829: 0.22180523,\n",
       " 41830: 0.22258207,\n",
       " 41831: 0.22100556,\n",
       " 41832: 0.21733743,\n",
       " 61789: 4.016214,\n",
       " 61790: 3.9421728,\n",
       " 61791: 3.880621,\n",
       " 61792: 3.8732288,\n",
       " 61793: 3.831093,\n",
       " 61794: 3.7310798,\n",
       " 61795: 3.577828,\n",
       " 61796: 3.3824997,\n",
       " 61797: 3.126039,\n",
       " 61798: 2.8281715,\n",
       " 61799: 2.502542,\n",
       " 61800: 2.214456,\n",
       " 61801: 2.0310361,\n",
       " 61802: 1.9134237,\n",
       " 61803: 1.8683648,\n",
       " 61804: 1.8962781,\n",
       " 61805: 1.8891554,\n",
       " 61806: 1.8419664,\n",
       " 61807: 1.8428869,\n",
       " 61808: 1.857326,\n",
       " 61809: 1.877319,\n",
       " 61810: 1.8883666,\n",
       " 61811: 1.902668,\n",
       " 61812: 1.901148,\n",
       " 61813: 1.9169524,\n",
       " 61814: 1.9175879,\n",
       " 61815: 1.8887628,\n",
       " 61816: 1.8580451,\n",
       " 61817: 1.8300029,\n",
       " 61818: 1.8004667,\n",
       " 61819: 1.7818886,\n",
       " 61820: 1.745346,\n",
       " 61821: 1.6959859,\n",
       " 61822: 1.6474975,\n",
       " 61823: 1.5971881,\n",
       " 61824: 1.5613692,\n",
       " 61825: 1.5289063,\n",
       " 61826: 1.4995695,\n",
       " 61827: 1.479196,\n",
       " 61828: 1.4630268,\n",
       " 61829: 1.4565214,\n",
       " 61830: 1.437033,\n",
       " 61831: 1.4203187,\n",
       " 61832: 1.4009962,\n",
       " 61833: 1.3787735,\n",
       " 61834: 1.3687735,\n",
       " 61835: 1.3683155,\n",
       " 61836: 1.3590415,\n",
       " 61837: 1.3354442,\n",
       " 61838: 1.3048723,\n",
       " 61839: 1.2746513,\n",
       " 61840: 1.2395227,\n",
       " 61841: 1.1957433,\n",
       " 61842: 1.1472744,\n",
       " 61843: 1.1082293,\n",
       " 61844: 1.0793555,\n",
       " 61845: 1.0418535,\n",
       " 61846: 1.0006905,\n",
       " 61847: 0.9523057,\n",
       " 61848: 0.90313625,\n",
       " 61849: 0.8393649,\n",
       " 61850: 0.767013,\n",
       " 61851: 0.69111586,\n",
       " 61852: 0.62190515,\n",
       " 61853: 0.5768691,\n",
       " 61854: 0.5297287,\n",
       " 61855: 0.48667413,\n",
       " 61856: 0.4676392,\n",
       " 61857: 0.43235815,\n",
       " 61858: 0.39159083,\n",
       " 61859: 0.3834918,\n",
       " 61860: 0.4225902,\n",
       " 61861: 0.46802562,\n",
       " 61862: 0.51337737,\n",
       " 61863: 0.5577719,\n",
       " 61864: 0.62679124,\n",
       " 61865: 0.7041482,\n",
       " 61866: 0.7749203,\n",
       " 61867: 0.8275488,\n",
       " 61868: 0.86295253,\n",
       " 61869: 0.8752973,\n",
       " 61870: 0.8799372,\n",
       " 61871: 0.8758472,\n",
       " 61872: 0.8523823,\n",
       " 61873: 0.7978522,\n",
       " 61874: 0.7384405,\n",
       " 61875: 0.66546226,\n",
       " 61876: 0.59122044,\n",
       " 61877: 0.5154956,\n",
       " 61878: 0.44669336,\n",
       " 61879: 0.3990398,\n",
       " 61880: 0.35642135,\n",
       " 61881: 0.31047165,\n",
       " 61882: 0.27436802,\n",
       " 61883: 0.24710062,\n",
       " 61884: 0.23394135,\n",
       " 61885: 0.2446761,\n",
       " 61886: 0.27859914,\n",
       " 61887: 0.31848425,\n",
       " 61888: 0.36174846,\n",
       " 61889: 0.3942539,\n",
       " 61890: 0.4133333,\n",
       " 61891: 0.4347583,\n",
       " 61892: 0.45056427,\n",
       " 61893: 0.45214367,\n",
       " 61894: 0.43662018,\n",
       " 61895: 0.43170977,\n",
       " 61896: 0.43309093,\n",
       " 61897: 0.43243134,\n",
       " 61898: 0.42356646,\n",
       " 61899: 0.39812928,\n",
       " 61900: 0.37211812,\n",
       " 61901: 0.34518915,\n",
       " 61902: 0.30571848,\n",
       " 61903: 0.2734406,\n",
       " 61904: 0.25131425,\n",
       " 61905: 0.2467292,\n",
       " 61906: 0.2570085,\n",
       " 61907: 0.26746535,\n",
       " 61908: 0.2737435,\n",
       " 61909: 0.2775356,\n",
       " 98134: 3.7771695,\n",
       " 98135: 3.578098,\n",
       " 98136: 3.3523524,\n",
       " 98137: 3.1323774,\n",
       " 98138: 2.9581525,\n",
       " 98139: 2.817333,\n",
       " 98140: 2.675812,\n",
       " 98141: 2.5655391,\n",
       " 98142: 2.4926596,\n",
       " 98143: 2.4542289,\n",
       " 98144: 2.386721,\n",
       " 98145: 2.3302495,\n",
       " 98146: 2.272087,\n",
       " 98147: 2.2068496,\n",
       " 98148: 2.1660733,\n",
       " 98149: 2.1388817,\n",
       " 98150: 2.1140935,\n",
       " 98151: 2.0763009,\n",
       " 98152: 2.0458198,\n",
       " 98153: 2.005924,\n",
       " 98154: 1.9526438,\n",
       " 98155: 1.9095979,\n",
       " 98156: 1.8656927,\n",
       " 98157: 1.8328316,\n",
       " 98158: 1.7720041,\n",
       " 98159: 1.7181733,\n",
       " 98160: 1.6865501,\n",
       " 98161: 1.6071221,\n",
       " 98162: 1.5317363,\n",
       " 98163: 1.4691776,\n",
       " 98164: 1.4315307,\n",
       " 98165: 1.4044385,\n",
       " 98166: 1.3350059,\n",
       " 98167: 1.2796335,\n",
       " 98168: 1.2612609,\n",
       " 98169: 1.2162213,\n",
       " 98170: 1.1628044,\n",
       " 98171: 1.1055053,\n",
       " 98172: 1.0588423,\n",
       " 98173: 0.9833754,\n",
       " 98174: 0.9367536,\n",
       " 98175: 0.896823,\n",
       " 98176: 0.82732785,\n",
       " 98177: 0.7800756,\n",
       " 98178: 0.7731935,\n",
       " 98179: 0.7087338,\n",
       " 98180: 0.64374906,\n",
       " 98181: 0.6326698,\n",
       " 98182: 0.6326649,\n",
       " 98183: 0.61740416,\n",
       " 98184: 0.6365522,\n",
       " 98185: 0.6484817,\n",
       " 98186: 0.6493047,\n",
       " 98187: 0.65429175,\n",
       " 98188: 0.63010114,\n",
       " 98189: 0.6093926,\n",
       " 98190: 0.60617435,\n",
       " 98191: 0.5906344,\n",
       " 98192: 0.5883724,\n",
       " 98193: 0.5855903,\n",
       " 98194: 0.57324266,\n",
       " 98195: 0.56950545,\n",
       " 98196: 0.5599474,\n",
       " 98197: 0.52371114,\n",
       " 98198: 0.5074664,\n",
       " 98199: 0.5115929,\n",
       " 98200: 0.5039392,\n",
       " 98201: 0.50132453,\n",
       " 98202: 0.51157874,\n",
       " 98203: 0.5135696,\n",
       " 98204: 0.5226974,\n",
       " 98205: 0.52622014,\n",
       " 98206: 0.5229215,\n",
       " 98207: 0.53213185,\n",
       " 98208: 0.5344196,\n",
       " 98209: 0.53560865,\n",
       " 98210: 0.5433066,\n",
       " 98211: 0.5380135,\n",
       " 98212: 0.5307228,\n",
       " 98213: 0.52199525,\n",
       " 98214: 0.4963326,\n",
       " 98215: 0.46372366,\n",
       " 98216: 0.4429093,\n",
       " 98217: 0.4222328,\n",
       " 98218: 0.39826447,\n",
       " 98219: 0.37863517,\n",
       " 98220: 0.37189543,\n",
       " 98221: 0.3658768,\n",
       " 98222: 0.3557341,\n",
       " 98223: 0.3558159,\n",
       " 98224: 0.34785354,\n",
       " 98225: 0.3495156,\n",
       " 98226: 0.3559359,\n",
       " 98227: 0.351255,\n",
       " 98228: 0.35831887,\n",
       " 98229: 0.36561847,\n",
       " 98230: 0.37530005,\n",
       " 98231: 0.39225435,\n",
       " 98232: 0.39843905,\n",
       " 98233: 0.40109056,\n",
       " 98234: 0.40004385,\n",
       " 98235: 0.39242172,\n",
       " 98236: 0.382362,\n",
       " 98237: 0.37140787,\n",
       " 98238: 0.35960937,\n",
       " 98239: 0.34671524,\n",
       " 98240: 0.33109182,\n",
       " 98241: 0.32027078,\n",
       " 98242: 0.31182873,\n",
       " 98243: 0.3054484,\n",
       " 98244: 0.30319864,\n",
       " 98245: 0.29989648,\n",
       " 98246: 0.2931998,\n",
       " 98247: 0.2844389,\n",
       " 98248: 0.2755825,\n",
       " 98249: 0.26624596,\n",
       " 98250: 0.2584492,\n",
       " 98251: 0.2560656,\n",
       " 98252: 0.25644448,\n",
       " 98253: 0.25680506,\n",
       " 98254: 0.25675318,\n",
       " 98255: 0.25537056,\n",
       " 142468: 0.6765274,\n",
       " 142469: 0.6692944,\n",
       " 142470: 0.64548457,\n",
       " 142471: 0.60637,\n",
       " 142472: 0.5371412,\n",
       " 142473: 0.42433405,\n",
       " 142474: 0.41760963,\n",
       " 142475: 0.44951898,\n",
       " 142476: 0.48351777,\n",
       " 142477: 0.5752774,\n",
       " 142478: 0.6763165,\n",
       " 142479: 0.72320604,\n",
       " 142480: 0.7936264,\n",
       " 142481: 0.86786455,\n",
       " 142482: 0.92201686,\n",
       " 142483: 0.9698388,\n",
       " 142484: 1.0858818,\n",
       " 142485: 1.1813114,\n",
       " 142486: 1.2362657,\n",
       " 142487: 1.2832932,\n",
       " 142488: 1.2973149,\n",
       " 142489: 1.2546403,\n",
       " 142490: 1.1626177,\n",
       " 142491: 1.0440383,\n",
       " 142492: 0.9219415,\n",
       " 142493: 0.82021576,\n",
       " 142494: 0.7455584,\n",
       " 142495: 0.65515226,\n",
       " 142496: 0.5832676,\n",
       " 142497: 0.54275155,\n",
       " 142498: 0.46654326,\n",
       " 142499: 0.3796692,\n",
       " 142500: 0.3237648,\n",
       " 142501: 0.30287403,\n",
       " 142502: 0.2994486,\n",
       " 142503: 0.3011474,\n",
       " 142504: 0.32711482,\n",
       " 142505: 0.34986755,\n",
       " 142506: 0.35984778,\n",
       " 142507: 0.4116782,\n",
       " 142508: 0.42924958,\n",
       " 142509: 0.4851612,\n",
       " 142510: 0.5205367,\n",
       " 142511: 0.5203703,\n",
       " 142512: 0.52730346,\n",
       " 142513: 0.5371661,\n",
       " 142514: 0.53617406,\n",
       " 142515: 0.5338551,\n",
       " 142516: 0.4839508,\n",
       " 142517: 0.4690888,\n",
       " 142518: 0.41297007,\n",
       " 142519: 0.3625043,\n",
       " 142520: 0.34897035,\n",
       " 142521: 0.34520245,\n",
       " 142522: 0.3453397,\n",
       " 142523: 0.3424992,\n",
       " 142524: 0.28196126,\n",
       " 142525: 0.24830511,\n",
       " 142526: 0.21444571,\n",
       " 142527: 0.24195531,\n",
       " 142528: 0.27616584,\n",
       " 142529: 0.3686589,\n",
       " 142530: 0.42122382,\n",
       " 142531: 0.4333887,\n",
       " 142532: 0.43913406,\n",
       " 142533: 0.43046445,\n",
       " 142534: 0.43956506,\n",
       " 142535: 0.4620747,\n",
       " 142536: 0.47700143,\n",
       " 142537: 0.4828809,\n",
       " 142538: 0.46517128,\n",
       " 142539: 0.4665777,\n",
       " 142540: 0.45626932,\n",
       " 142541: 0.43247515,\n",
       " 142542: 0.39762038,\n",
       " 142543: 0.34332424,\n",
       " 142544: 0.30057323,\n",
       " 142545: 0.26531988,\n",
       " 142546: 0.21872988,\n",
       " 142547: 0.19564123,\n",
       " 142548: 0.17548212,\n",
       " 142549: 0.16368502,\n",
       " 142550: 0.16350277,\n",
       " 142551: 0.15155268,\n",
       " 142552: 0.14006878,\n",
       " 142553: 0.14859952,\n",
       " 142554: 0.17685649,\n",
       " 142555: 0.20540558,\n",
       " 142556: 0.23890685,\n",
       " 142557: 0.2630496,\n",
       " 142558: 0.28463197,\n",
       " 142559: 0.3099839,\n",
       " 142560: 0.33241186,\n",
       " 142561: 0.35311955,\n",
       " 142562: 0.37805396,\n",
       " 142563: 0.3947646,\n",
       " 142564: 0.406218,\n",
       " 142565: 0.40924478,\n",
       " 142566: 0.41441262,\n",
       " 142567: 0.41582125,\n",
       " 142568: 0.41229033,\n",
       " 142569: 0.39241338,\n",
       " 142570: 0.36860037,\n",
       " 142571: 0.34837633,\n",
       " 142572: 0.33212802,\n",
       " 142573: 0.29777396,\n",
       " 142574: 0.26404738,\n",
       " 142575: 0.22886768,\n",
       " 142576: 0.19866398,\n",
       " 142577: 0.17983435,\n",
       " 142578: 0.15863246,\n",
       " 142579: 0.14700961,\n",
       " 142580: 0.15524152,\n",
       " 142581: 0.16655836,\n",
       " 142582: 0.1825495,\n",
       " 142583: 0.19176355,\n",
       " 142584: 0.2017606,\n",
       " 142585: 0.21480906,\n",
       " 142586: 0.23145273,\n",
       " 142587: 0.2494452,\n",
       " 142588: 0.26710874,\n",
       " 190377: 2.8609858,\n",
       " 190378: 2.6636806,\n",
       " 190379: 2.4869912,\n",
       " 190380: 2.3239896,\n",
       " 190381: 2.1860635,\n",
       " 190382: 2.081904,\n",
       " 190383: 1.9840966,\n",
       " 190384: 1.8940654,\n",
       " 190385: 1.8527502,\n",
       " 190386: 1.8576217,\n",
       " 190387: 1.8870211,\n",
       " 190388: 1.9073869,\n",
       " 190389: 1.9092387,\n",
       " 190390: 1.8746271,\n",
       " 190391: 1.8327432,\n",
       " 190392: 1.8344496,\n",
       " 190393: 1.8435127,\n",
       " 190394: 1.8113304,\n",
       " 190395: 1.7662735,\n",
       " 190396: 1.7071801,\n",
       " 190397: 1.6240505,\n",
       " 190398: 1.5229982,\n",
       " 190399: 1.3799723,\n",
       " 190400: 1.2338315,\n",
       " 190401: 1.1349182,\n",
       " 190402: 1.1059793,\n",
       " 190403: 1.0710698,\n",
       " 190404: 1.0055997,\n",
       " 190405: 0.9383482,\n",
       " 190406: 0.9116485,\n",
       " 190407: 0.85542387,\n",
       " 190408: 0.8050853,\n",
       " 190409: 0.7472644,\n",
       " 190410: 0.71913904,\n",
       " 190411: 0.7306147,\n",
       " 190412: 0.74183387,\n",
       " 190413: 0.7675703,\n",
       " 190414: 0.80976355,\n",
       " 190415: 0.87469065,\n",
       " 190416: 0.9302012,\n",
       " 190417: 0.9681659,\n",
       " 190418: 1.0147982,\n",
       " 190419: 1.0423896,\n",
       " 190420: 1.0817703,\n",
       " 190421: 1.1161522,\n",
       " 190422: 1.1181633,\n",
       " 190423: 1.086179,\n",
       " 190424: 1.0266063,\n",
       " 190425: 0.94573414,\n",
       " 190426: 0.8474251,\n",
       " 190427: 0.723976,\n",
       " 190428: 0.5912189,\n",
       " 190429: 0.48564333,\n",
       " 190430: 0.40931088,\n",
       " 190431: 0.34044516,\n",
       " 190432: 0.2942708,\n",
       " 190433: 0.25552553,\n",
       " 190434: 0.221935,\n",
       " 190435: 0.22598562,\n",
       " 190436: 0.2558127,\n",
       " 190437: 0.27714974,\n",
       " 190438: 0.31726933,\n",
       " 190439: 0.3779642,\n",
       " 190440: 0.44670123,\n",
       " 190441: 0.5069322,\n",
       " 190442: 0.55526364,\n",
       " 190443: 0.58250034,\n",
       " 190444: 0.6094035,\n",
       " 190445: 0.65298104,\n",
       " 190446: 0.6910026,\n",
       " 190447: 0.7296868,\n",
       " 190448: 0.7564537,\n",
       " 190449: 0.73955214,\n",
       " 190450: 0.7101042,\n",
       " 190451: 0.6655716,\n",
       " 190452: 0.62019193,\n",
       " 190453: 0.5804261,\n",
       " 190454: 0.52255744,\n",
       " 190455: 0.4463544,\n",
       " 190456: 0.39555168,\n",
       " 190457: 0.36947608,\n",
       " 190458: 0.3533448,\n",
       " 190459: 0.33140185,\n",
       " 190460: 0.31292722,\n",
       " 190461: 0.2886647,\n",
       " 190462: 0.2735564,\n",
       " 190463: 0.26663905,\n",
       " 190464: 0.2704907,\n",
       " 190465: 0.29770035,\n",
       " 190466: 0.33457354,\n",
       " 190467: 0.36559823,\n",
       " 190468: 0.38849938,\n",
       " 190469: 0.39809918,\n",
       " 190470: 0.4017173,\n",
       " 190471: 0.40479726,\n",
       " 190472: 0.40671897,\n",
       " 190473: 0.402299,\n",
       " 190474: 0.3925618,\n",
       " 190475: 0.38789034,\n",
       " 190476: 0.37475288,\n",
       " 190477: 0.35616434,\n",
       " 190478: 0.33497906,\n",
       " 190479: 0.30579147,\n",
       " 190480: 0.28123522,\n",
       " 190481: 0.25497365,\n",
       " 190482: 0.22429906,\n",
       " 190483: 0.20114595,\n",
       " 190484: 0.18208864,\n",
       " 190485: 0.17732866,\n",
       " 190486: 0.18064223,\n",
       " 190487: 0.18801242,\n",
       " 190488: 0.19913846,\n",
       " 190489: 0.21174702,\n",
       " 190490: 0.22796644,\n",
       " 190491: 0.24642688,\n",
       " 190492: 0.2658285,\n",
       " 190493: 0.28615418,\n",
       " 190494: 0.30465353,\n",
       " 190495: 0.32008582,\n",
       " 190496: 0.33554053,\n",
       " 190497: 0.34945655,\n",
       " 190498: 0.36006045,\n",
       " 190499: 0.3662349,\n",
       " 190500: 0.3641023,\n",
       " 190501: 0.35482234,\n",
       " 190502: 0.34112394,\n",
       " 190503: 0.3223707,\n",
       " 190504: 0.29748207,\n",
       " 190505: 0.2671563,\n",
       " 190506: 0.23410958,\n",
       " 190507: 0.2060129,\n",
       " 190508: 0.18237725,\n",
       " 190509: 0.16203527,\n",
       " 190510: 0.14398938,\n",
       " 190511: 0.1303322,\n",
       " 190512: 0.12278519,\n",
       " 190513: 0.122291036,\n",
       " 190514: 0.12965074,\n",
       " 190515: 0.14367716,\n",
       " 190516: 0.1610737,\n",
       " 190517: 0.18054482,\n",
       " 190518: 0.1990701,\n",
       " 190519: 0.21605057,\n",
       " 190520: 0.23467284,\n",
       " 190521: 0.25446686,\n",
       " 190522: 0.2745015,\n",
       " 190523: 0.29388833,\n",
       " 190524: 0.31180173,\n",
       " 190525: 0.3280021,\n",
       " 190526: 0.34156698,\n",
       " 190527: 0.3512319,\n",
       " 190528: 0.3556996,\n",
       " 190529: 0.35593548,\n",
       " 190530: 0.352386,\n",
       " 190531: 0.34601837,\n",
       " 190532: 0.33824217,\n",
       " 190533: 0.32829404,\n",
       " 190534: 0.3171785,\n",
       " 190535: 0.30624837,\n",
       " 190536: 0.2950667,\n",
       " 190537: 0.28416777,\n",
       " 190538: 0.2746907,\n",
       " 190539: 0.2673434,\n",
       " 190540: 0.26298565,\n",
       " 190541: 0.26244903,\n",
       " 190542: 0.26477683,\n",
       " 190543: 0.2697745,\n",
       " 190544: 0.27814037,\n",
       " 190545: 0.28964847,\n",
       " 190546: 0.30332303,\n",
       " 190547: 0.31817383,\n",
       " 190548: 0.3340959,\n",
       " 190549: 0.35236287,\n",
       " 190550: 0.37249374,\n",
       " 190551: 0.3939569,\n",
       " 190552: 0.4168688,\n",
       " 190553: 0.44139642,\n",
       " 190554: 0.46698838,\n",
       " 190555: 0.49334854,\n",
       " 190556: 0.5176486,\n",
       " 190557: 0.53898674,\n",
       " 190558: 0.55763924,\n",
       " 190559: 0.5743923,\n",
       " 190560: 0.5896074,\n",
       " 190561: 0.6040385,\n",
       " 190562: 0.61879706,\n",
       " 190563: 0.634639,\n",
       " 190564: 0.65251577,\n",
       " 190565: 0.6731829,\n",
       " 190566: 0.69633454,\n",
       " 190567: 0.72209525,\n",
       " 190568: 0.7505706,\n",
       " 190569: 0.78196406,\n",
       " 190570: 0.8163465,\n",
       " 190571: 0.85336864,\n",
       " 190572: 0.8920337,\n",
       " 190573: 0.93141156,\n",
       " 190574: 0.9707549,\n",
       " 190575: 1.009073,\n",
       " 190576: 1.0452988,\n",
       " 190577: 1.0784453,\n",
       " 190578: 1.107387,\n",
       " 190579: 1.1315116,\n",
       " 190580: 1.150601,\n",
       " 190581: 1.1647991,\n",
       " 190582: 1.17463,\n",
       " 190583: 1.1806426,\n",
       " 190584: 1.1835859,\n",
       " 190585: 1.1841991,\n",
       " 190586: 1.1835085,\n",
       " 190587: 1.1826401,\n",
       " 190588: 1.1825696,\n",
       " 190589: 1.1844347,\n",
       " 190590: 1.1890607,\n",
       " 190591: 1.197153,\n",
       " 190592: 1.2095102,\n",
       " 190593: 1.226292,\n",
       " 190594: 1.2475165,\n",
       " 190595: 1.2728269,\n",
       " 190596: 1.3016703,\n",
       " 190597: 1.3335067,\n",
       " 190598: 1.3674757,\n",
       " 190599: 1.4026157,\n",
       " 190600: 1.4378688,\n",
       " 190601: 1.4722135,\n",
       " 190602: 1.5048962,\n",
       " 190603: 1.5351176,\n",
       " 190604: 1.5621387,\n",
       " 190605: 1.5853416,\n",
       " 190606: 1.604376,\n",
       " 190607: 1.6192932,\n",
       " 190608: 1.6303484,\n",
       " 190609: 1.6378177,\n",
       " 190610: 1.642137,\n",
       " 190611: 1.643831,\n",
       " 190612: 1.6435124,\n",
       " 190613: 1.6419296,\n",
       " 190614: 1.6398206,\n",
       " 190615: 1.6378607,\n",
       " 190616: 1.6367419,\n",
       " 190617: 1.6369743,\n",
       " 190618: 1.6389616,\n",
       " 190619: 1.6430528,\n",
       " 190620: 1.6494434,\n",
       " 190621: 1.6581658,\n",
       " 190622: 1.6690785,\n",
       " 190623: 1.6818731,\n",
       " 190624: 1.6961772,\n",
       " 190625: 1.7115582,\n",
       " 190626: 1.727532,\n",
       " 190627: 1.7435216,\n",
       " 190628: 1.7589467,\n",
       " 190629: 1.7732491,\n",
       " 190630: 1.7859051,\n",
       " 190631: 1.7965312,\n",
       " 190632: 1.8048265,\n",
       " 190633: 1.8105123,\n",
       " 190634: 1.8134171,\n",
       " 190635: 1.8134449,\n",
       " 190636: 1.8106543,\n",
       " 190637: 1.8053037,\n",
       " 190638: 1.7977906,\n",
       " 190639: 1.788609,\n",
       " 190640: 1.778309,\n",
       " 190641: 1.7674742,\n",
       " 190642: 1.7566953,\n",
       " 190643: 1.7465616,\n",
       " 190644: 1.7376221,\n",
       " 190645: 1.7303332,\n",
       " 190646: 1.725045,\n",
       " 190647: 1.7219535,\n",
       " ...}"
      ]
     },
     "execution_count": 70,
     "metadata": {
      "tags": []
     },
     "output_type": "execute_result"
    }
   ],
   "source": [
    "pred_missing={}\n",
    "for index in missing_indices:\n",
    "  #print(index)\n",
    "  #index=6839\n",
    "  x_test=X_main[index-window_size:index]\n",
    "  x_test=x_test.astype(float).reshape(1,-1)\n",
    "  #print(x_test.shape)\n",
    "  y_pred = model.predict(x_test, verbose=0)\n",
    "  #y_pred = reg.predict(x_test)\n",
    "  # print(y_pred[0][0])\n",
    "  pred_missing[index]=y_pred[0][0]\n",
    "  X_main[index]=y_pred[0][0]\n",
    "pred_missing"
   ]
  }
 ],
 "metadata": {
  "accelerator": "GPU",
  "colab": {
   "collapsed_sections": [],
   "machine_shape": "hm",
   "name": "a3_q4.ipynb",
   "provenance": []
  },
  "kernelspec": {
   "display_name": "Python 3",
   "language": "python",
   "name": "python3"
  },
  "language_info": {
   "codemirror_mode": {
    "name": "ipython",
    "version": 3
   },
   "file_extension": ".py",
   "mimetype": "text/x-python",
   "name": "python",
   "nbconvert_exporter": "python",
   "pygments_lexer": "ipython3",
   "version": "3.6.9"
  }
 },
 "nbformat": 4,
 "nbformat_minor": 1
}
